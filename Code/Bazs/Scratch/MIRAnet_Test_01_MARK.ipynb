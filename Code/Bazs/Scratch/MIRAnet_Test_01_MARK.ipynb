{
 "cells": [
  {
   "cell_type": "markdown",
   "metadata": {},
   "source": [
    "# Imports"
   ]
  },
  {
   "cell_type": "code",
   "execution_count": 1,
   "metadata": {},
   "outputs": [
    {
     "name": "stderr",
     "output_type": "stream",
     "text": [
      "Using TensorFlow backend.\n"
     ]
    }
   ],
   "source": [
    "import os   # for path operations\n",
    "import datetime\n",
    "\n",
    "import tensorflow as tf\n",
    "from tensorflow.python.client import device_lib\n",
    "\n",
    "import numpy as np\n",
    "import pandas as pd\n",
    "import sklearn as sk\n",
    "from sklearn import preprocessing\n",
    "\n",
    "from keras.models import Sequential\n",
    "from keras.layers.core import Activation, Dense, Flatten\n",
    "from keras.optimizers import SGD\n",
    "from keras.layers.convolutional import Conv1D, MaxPooling1D\n",
    "from keras.backend.tensorflow_backend import set_session\n",
    "from keras.callbacks import EarlyStopping\n",
    "from keras.callbacks import ModelCheckpoint\n",
    "from keras.models import load_model\n",
    "\n",
    "import matplotlib.pyplot as plt"
   ]
  },
  {
   "cell_type": "markdown",
   "metadata": {},
   "source": [
    "# Config GPU env"
   ]
  },
  {
   "cell_type": "code",
   "execution_count": 2,
   "metadata": {},
   "outputs": [
    {
     "name": "stdout",
     "output_type": "stream",
     "text": [
      "[name: \"/device:CPU:0\"\n",
      "device_type: \"CPU\"\n",
      "memory_limit: 268435456\n",
      "locality {\n",
      "}\n",
      "incarnation: 4066357257090180793\n",
      ", name: \"/device:GPU:0\"\n",
      "device_type: \"GPU\"\n",
      "memory_limit: 9215183422\n",
      "locality {\n",
      "  bus_id: 1\n",
      "  links {\n",
      "  }\n",
      "}\n",
      "incarnation: 10841922660416835609\n",
      "physical_device_desc: \"device: 0, name: GeForce GTX 1080 Ti, pci bus id: 0000:01:00.0, compute capability: 6.1\"\n",
      "]\n"
     ]
    }
   ],
   "source": [
    "config = tf.ConfigProto()\n",
    "config.gpu_options.allow_growth = True\n",
    "set_session(tf.Session(config=config))\n",
    "# Device check\n",
    "print(device_lib.list_local_devices())"
   ]
  },
  {
   "cell_type": "markdown",
   "metadata": {},
   "source": [
    "# Def NN"
   ]
  },
  {
   "cell_type": "markdown",
   "metadata": {},
   "source": [
    "## Training options"
   ]
  },
  {
   "cell_type": "code",
   "execution_count": 53,
   "metadata": {},
   "outputs": [],
   "source": [
    "patience=40\n",
    "early_stopping=EarlyStopping(patience=patience, verbose=1)\n",
    "checkpointer=ModelCheckpoint(filepath=\"weights.hdf5\", save_best_only=True, verbose =1)"
   ]
  },
  {
   "cell_type": "markdown",
   "metadata": {},
   "source": [
    "Create a 1D convnet based on the practice lesson for time series analysis"
   ]
  },
  {
   "cell_type": "code",
   "execution_count": 54,
   "metadata": {},
   "outputs": [],
   "source": [
    "def make_1d_convnet(window_size, filter_length, nb_input_series=1, nb_outputs=1,nb_filter=4):\n",
    "    model = Sequential()\n",
    "    model.add(Conv1D(filters=nb_filter, kernel_size=filter_length, activation='relu', \n",
    "                   input_shape=(window_size,nb_input_series)))\n",
    "    model.add(MaxPooling1D())\n",
    "    model.add(Conv1D(filters=nb_filter, kernel_size=filter_length, activation='relu'))\n",
    "    model.add(MaxPooling1D())\n",
    "    model.add(Flatten())\n",
    "    model.add(Dense(nb_outputs,activation='linear'))\n",
    "    model.compile(loss='mse', optimizer='adam', metrics=['mae'])\n",
    "    return model"
   ]
  },
  {
   "cell_type": "markdown",
   "metadata": {},
   "source": [
    "Create input and output format from raw data"
   ]
  },
  {
   "cell_type": "code",
   "execution_count": 55,
   "metadata": {},
   "outputs": [],
   "source": [
    "def make_timeseries_instances(timeseries,window_size,nb_inputs):\n",
    "    timeseries = np.asarray(timeseries)\n",
    "    assert 0 < window_size < timeseries.shape[0] , \"Out of range 0 < {} < {}\".format(window_size,timeseries.shape[0])\n",
    "    # nb_input defines the number of input time series that we use to predict outputs\n",
    "    X = np.atleast_3d(np.array([timeseries[start:start+window_size,:nb_inputs] for start in range(0,timeseries.shape[0]-window_size)]))\n",
    "    for coord in range(3):\n",
    "        np.roll(X[:,coord+9],1) #move coordinates to the past\n",
    "    \n",
    "    # We have 3 output signal: x, y and z position    \n",
    "    y = timeseries[window_size:,-9:-6]\n",
    "    return X,y"
   ]
  },
  {
   "cell_type": "code",
   "execution_count": 56,
   "metadata": {},
   "outputs": [],
   "source": [
    "def evalute_timeseries(timeseries, window_size, filter_length, nb_filter, epochs, batch_size):\n",
    "    #timeseries = np.atleast_2d(timeseries)\n",
    "    if timeseries.shape[0] == 1:\n",
    "        timeseries = timeseries.T\n",
    "    nb_samples, nb_series = timeseries.shape\n",
    "    nb_inputs = nb_series - 6 #only 12 inputs (previous x,y,z position is an input now)\n",
    "    #nb_outputs = nb_series - 9 #only 9 outputs\n",
    "    nb_outputs=3\n",
    "  \n",
    "    #initialize model\n",
    "    model= make_1d_convnet(window_size=window_size, filter_length=filter_length, nb_input_series=nb_inputs,\n",
    "                        nb_outputs=nb_outputs,nb_filter=nb_filter)\n",
    "    model.summary()\n",
    "  \n",
    "    #fill and split the input and output variables\n",
    "    X,y = make_timeseries_instances(timeseries, window_size,nb_inputs=nb_inputs)\n",
    "  \n",
    "    test_size = int(0.3  * nb_samples)\n",
    "    valid_size = int(0.2 * nb_samples)\n",
    "    X_train, X_valid, X_test = X[:-(test_size+valid_size),:], X[-(test_size+valid_size):-test_size,:], X[-test_size:,:]\n",
    "    y_train, y_valid, y_test = y[:-(test_size+valid_size),:], y[-(test_size+valid_size):-test_size,:], y[-test_size:,:]\n",
    "    \n",
    "    # Standardize input variables for train, valid and test data\n",
    "    for inpt in range(X.shape[1]):\n",
    "        scaler = preprocessing.StandardScaler().fit(X_train[:,inpt])\n",
    "        X_train[:,inpt] = scaler.transform(X_train[:,inpt])\n",
    "        X_valid[:,inpt] = scaler.transform(X_valid[:,inpt])\n",
    "        X_test[:,inpt] = scaler.transform(X_test[:,inpt])\n",
    "    \n",
    "    #train model\n",
    "    model.fit(X_train,y_train, epochs = epochs, batch_size = batch_size, validation_data = (X_valid, y_valid),\n",
    "              verbose = 2, callbacks = [checkpointer,early_stopping])\n",
    "  \n",
    "    #load the best model for plotting\n",
    "    bestmodel = load_model(\"weights.hdf5\")\n",
    "    preds = bestmodel.predict(X_test)\n",
    "    targets = y_test\n",
    "    \n",
    "    print(preds.shape)\n",
    "    print(targets.shape)\n",
    "    \n",
    "    # Plot predicted x vs target x\n",
    "    plt.figure(0)\n",
    "    plt.plot(preds[:,0],color='green')\n",
    "    plt.plot(targets[:,0],color='red')\n",
    "    \n",
    "    # Plot predicted z vs target z\n",
    "    plt.figure(1)\n",
    "    plt.plot(preds[:,2],color='blue')\n",
    "    plt.plot(targets[:,2],color='yellow')\n",
    "    \n",
    "    # Plot the predicted route vs original route on x-z plane\n",
    "    plt.figure(2)\n",
    "    plt.plot(preds[:,0],preds[:,2])\n",
    "    plt.plot(targets[:,0],targets[:,2])"
   ]
  },
  {
   "cell_type": "markdown",
   "metadata": {},
   "source": [
    "# Load Data"
   ]
  },
  {
   "cell_type": "code",
   "execution_count": 41,
   "metadata": {},
   "outputs": [
    {
     "name": "stdout",
     "output_type": "stream",
     "text": [
      "Number of Measurements: 6\n"
     ]
    }
   ],
   "source": [
    "lock_meas = '..\\\\DATA\\\\RAW\\\\Measure_02'\n",
    "file_list = os.listdir(lock_meas)\n",
    "nb_meas = len(file_list)/4\n",
    "print(\"Number of Measurements: %0.f\" % nb_meas)"
   ]
  },
  {
   "cell_type": "code",
   "execution_count": 42,
   "metadata": {},
   "outputs": [],
   "source": [
    "meas_list = []\n",
    "for FILE_NAME in file_list:\n",
    "    meas_list.append(FILE_NAME[0:22])\n",
    "meas_list = list(set(meas_list))"
   ]
  },
  {
   "cell_type": "code",
   "execution_count": 43,
   "metadata": {},
   "outputs": [
    {
     "name": "stdout",
     "output_type": "stream",
     "text": [
      "2018_ 10_ 19_18_06_14_\n"
     ]
    }
   ],
   "source": [
    "# Load in one favorite measurement block\n",
    "meas_id = 2\n",
    "print(str(meas_list[meas_id]))\n",
    "\n",
    "if meas_id>(nb_meas-1):\n",
    "    print('Error: Out of range. Meas_id set to default 0')\n",
    "    meas = 0\n",
    "meas_date = str(meas_list[meas_id])\n",
    "\n",
    "# Load predictors\n",
    "imu_data = pd.read_csv(lock_meas + '\\\\' + meas_date + 'IMU.txt',\n",
    "                               sep='\\t',\n",
    "                               decimal=',',\n",
    "                               names=['time', 'acc0', 'acc1', 'acc2', 'gyro0', 'gyro1', 'gyro2', 'mag0', 'mag1', 'mag2'])\n",
    "# Load targets\n",
    "mocap_data = pd.read_csv(lock_meas + '\\\\' + meas_date + 'MoCap.txt',\n",
    "                                 sep='\\t',\n",
    "                                 decimal=',',\n",
    "                                 names=['time', 'x', 'y', 'z', 'tracked', 'beta', 'Qx', 'Qy', 'Qz', 'Qw'])"
   ]
  },
  {
   "cell_type": "markdown",
   "metadata": {},
   "source": [
    "Data recorded from IMU:"
   ]
  },
  {
   "cell_type": "code",
   "execution_count": 44,
   "metadata": {},
   "outputs": [
    {
     "data": {
      "text/html": [
       "<div>\n",
       "<style scoped>\n",
       "    .dataframe tbody tr th:only-of-type {\n",
       "        vertical-align: middle;\n",
       "    }\n",
       "\n",
       "    .dataframe tbody tr th {\n",
       "        vertical-align: top;\n",
       "    }\n",
       "\n",
       "    .dataframe thead th {\n",
       "        text-align: right;\n",
       "    }\n",
       "</style>\n",
       "<table border=\"1\" class=\"dataframe\">\n",
       "  <thead>\n",
       "    <tr style=\"text-align: right;\">\n",
       "      <th></th>\n",
       "      <th>time</th>\n",
       "      <th>acc0</th>\n",
       "      <th>acc1</th>\n",
       "      <th>acc2</th>\n",
       "      <th>gyro0</th>\n",
       "      <th>gyro1</th>\n",
       "      <th>gyro2</th>\n",
       "      <th>mag0</th>\n",
       "      <th>mag1</th>\n",
       "      <th>mag2</th>\n",
       "    </tr>\n",
       "  </thead>\n",
       "  <tbody>\n",
       "    <tr>\n",
       "      <th>0</th>\n",
       "      <td>180614.4063</td>\n",
       "      <td>0.005</td>\n",
       "      <td>-0.052</td>\n",
       "      <td>1.025</td>\n",
       "      <td>-0.745</td>\n",
       "      <td>0.201</td>\n",
       "      <td>-0.121</td>\n",
       "      <td>0.000</td>\n",
       "      <td>0.000</td>\n",
       "      <td>0.000</td>\n",
       "    </tr>\n",
       "    <tr>\n",
       "      <th>1</th>\n",
       "      <td>180614.4153</td>\n",
       "      <td>0.006</td>\n",
       "      <td>-0.052</td>\n",
       "      <td>1.025</td>\n",
       "      <td>-0.786</td>\n",
       "      <td>0.322</td>\n",
       "      <td>-0.215</td>\n",
       "      <td>0.000</td>\n",
       "      <td>0.000</td>\n",
       "      <td>0.000</td>\n",
       "    </tr>\n",
       "    <tr>\n",
       "      <th>2</th>\n",
       "      <td>180614.4243</td>\n",
       "      <td>0.005</td>\n",
       "      <td>-0.052</td>\n",
       "      <td>1.026</td>\n",
       "      <td>-0.705</td>\n",
       "      <td>0.121</td>\n",
       "      <td>0.013</td>\n",
       "      <td>-0.333</td>\n",
       "      <td>-0.282</td>\n",
       "      <td>0.048</td>\n",
       "    </tr>\n",
       "    <tr>\n",
       "      <th>3</th>\n",
       "      <td>180614.4332</td>\n",
       "      <td>0.005</td>\n",
       "      <td>-0.051</td>\n",
       "      <td>1.026</td>\n",
       "      <td>-0.967</td>\n",
       "      <td>0.000</td>\n",
       "      <td>-0.134</td>\n",
       "      <td>-0.333</td>\n",
       "      <td>-0.282</td>\n",
       "      <td>0.048</td>\n",
       "    </tr>\n",
       "    <tr>\n",
       "      <th>4</th>\n",
       "      <td>180614.4422</td>\n",
       "      <td>0.004</td>\n",
       "      <td>-0.051</td>\n",
       "      <td>1.026</td>\n",
       "      <td>-0.806</td>\n",
       "      <td>0.262</td>\n",
       "      <td>0.121</td>\n",
       "      <td>-0.333</td>\n",
       "      <td>-0.282</td>\n",
       "      <td>0.048</td>\n",
       "    </tr>\n",
       "  </tbody>\n",
       "</table>\n",
       "</div>"
      ],
      "text/plain": [
       "          time   acc0   acc1   acc2  gyro0  gyro1  gyro2   mag0   mag1   mag2\n",
       "0  180614.4063  0.005 -0.052  1.025 -0.745  0.201 -0.121  0.000  0.000  0.000\n",
       "1  180614.4153  0.006 -0.052  1.025 -0.786  0.322 -0.215  0.000  0.000  0.000\n",
       "2  180614.4243  0.005 -0.052  1.026 -0.705  0.121  0.013 -0.333 -0.282  0.048\n",
       "3  180614.4332  0.005 -0.051  1.026 -0.967  0.000 -0.134 -0.333 -0.282  0.048\n",
       "4  180614.4422  0.004 -0.051  1.026 -0.806  0.262  0.121 -0.333 -0.282  0.048"
      ]
     },
     "execution_count": 44,
     "metadata": {},
     "output_type": "execute_result"
    }
   ],
   "source": [
    "imu_data.head(5)"
   ]
  },
  {
   "cell_type": "markdown",
   "metadata": {},
   "source": [
    "Data recorded through motion capture (MOCAP) system:"
   ]
  },
  {
   "cell_type": "code",
   "execution_count": 45,
   "metadata": {},
   "outputs": [
    {
     "data": {
      "text/html": [
       "<div>\n",
       "<style scoped>\n",
       "    .dataframe tbody tr th:only-of-type {\n",
       "        vertical-align: middle;\n",
       "    }\n",
       "\n",
       "    .dataframe tbody tr th {\n",
       "        vertical-align: top;\n",
       "    }\n",
       "\n",
       "    .dataframe thead th {\n",
       "        text-align: right;\n",
       "    }\n",
       "</style>\n",
       "<table border=\"1\" class=\"dataframe\">\n",
       "  <thead>\n",
       "    <tr style=\"text-align: right;\">\n",
       "      <th></th>\n",
       "      <th>time</th>\n",
       "      <th>x</th>\n",
       "      <th>y</th>\n",
       "      <th>z</th>\n",
       "      <th>tracked</th>\n",
       "      <th>beta</th>\n",
       "      <th>Qx</th>\n",
       "      <th>Qy</th>\n",
       "      <th>Qz</th>\n",
       "      <th>Qw</th>\n",
       "    </tr>\n",
       "  </thead>\n",
       "  <tbody>\n",
       "    <tr>\n",
       "      <th>0</th>\n",
       "      <td>180614.4063</td>\n",
       "      <td>-0.485</td>\n",
       "      <td>0.222</td>\n",
       "      <td>-0.468</td>\n",
       "      <td>1.0</td>\n",
       "      <td>2.877</td>\n",
       "      <td>0.014</td>\n",
       "      <td>-0.025</td>\n",
       "      <td>0.005</td>\n",
       "      <td>1.0</td>\n",
       "    </tr>\n",
       "    <tr>\n",
       "      <th>1</th>\n",
       "      <td>180614.4153</td>\n",
       "      <td>-0.485</td>\n",
       "      <td>0.222</td>\n",
       "      <td>-0.468</td>\n",
       "      <td>1.0</td>\n",
       "      <td>2.874</td>\n",
       "      <td>0.014</td>\n",
       "      <td>-0.025</td>\n",
       "      <td>0.005</td>\n",
       "      <td>1.0</td>\n",
       "    </tr>\n",
       "    <tr>\n",
       "      <th>2</th>\n",
       "      <td>180614.4243</td>\n",
       "      <td>-0.485</td>\n",
       "      <td>0.222</td>\n",
       "      <td>-0.468</td>\n",
       "      <td>1.0</td>\n",
       "      <td>2.868</td>\n",
       "      <td>0.014</td>\n",
       "      <td>-0.025</td>\n",
       "      <td>0.005</td>\n",
       "      <td>1.0</td>\n",
       "    </tr>\n",
       "    <tr>\n",
       "      <th>3</th>\n",
       "      <td>180614.4332</td>\n",
       "      <td>-0.485</td>\n",
       "      <td>0.222</td>\n",
       "      <td>-0.468</td>\n",
       "      <td>1.0</td>\n",
       "      <td>2.866</td>\n",
       "      <td>0.014</td>\n",
       "      <td>-0.025</td>\n",
       "      <td>0.005</td>\n",
       "      <td>1.0</td>\n",
       "    </tr>\n",
       "    <tr>\n",
       "      <th>4</th>\n",
       "      <td>180614.4422</td>\n",
       "      <td>-0.485</td>\n",
       "      <td>0.222</td>\n",
       "      <td>-0.468</td>\n",
       "      <td>1.0</td>\n",
       "      <td>2.869</td>\n",
       "      <td>0.014</td>\n",
       "      <td>-0.025</td>\n",
       "      <td>0.005</td>\n",
       "      <td>1.0</td>\n",
       "    </tr>\n",
       "  </tbody>\n",
       "</table>\n",
       "</div>"
      ],
      "text/plain": [
       "          time      x      y      z  tracked   beta     Qx     Qy     Qz   Qw\n",
       "0  180614.4063 -0.485  0.222 -0.468      1.0  2.877  0.014 -0.025  0.005  1.0\n",
       "1  180614.4153 -0.485  0.222 -0.468      1.0  2.874  0.014 -0.025  0.005  1.0\n",
       "2  180614.4243 -0.485  0.222 -0.468      1.0  2.868  0.014 -0.025  0.005  1.0\n",
       "3  180614.4332 -0.485  0.222 -0.468      1.0  2.866  0.014 -0.025  0.005  1.0\n",
       "4  180614.4422 -0.485  0.222 -0.468      1.0  2.869  0.014 -0.025  0.005  1.0"
      ]
     },
     "execution_count": 45,
     "metadata": {},
     "output_type": "execute_result"
    }
   ],
   "source": [
    "mocap_data.head(5)"
   ]
  },
  {
   "cell_type": "markdown",
   "metadata": {},
   "source": [
    "Create one table by mergeing the two tables. "
   ]
  },
  {
   "cell_type": "code",
   "execution_count": 46,
   "metadata": {},
   "outputs": [
    {
     "data": {
      "text/plain": [
       "12788"
      ]
     },
     "execution_count": 46,
     "metadata": {},
     "output_type": "execute_result"
    }
   ],
   "source": [
    "data = pd.merge(imu_data, mocap_data, on=['time'], how='inner')\n",
    "len(data)"
   ]
  },
  {
   "cell_type": "markdown",
   "metadata": {},
   "source": [
    "We want to predict x,y,z (3 output) from previous acc0, acc1.....mag2, x, y, z (12 input)"
   ]
  },
  {
   "cell_type": "code",
   "execution_count": 47,
   "metadata": {},
   "outputs": [
    {
     "data": {
      "text/html": [
       "<div>\n",
       "<style scoped>\n",
       "    .dataframe tbody tr th:only-of-type {\n",
       "        vertical-align: middle;\n",
       "    }\n",
       "\n",
       "    .dataframe tbody tr th {\n",
       "        vertical-align: top;\n",
       "    }\n",
       "\n",
       "    .dataframe thead th {\n",
       "        text-align: right;\n",
       "    }\n",
       "</style>\n",
       "<table border=\"1\" class=\"dataframe\">\n",
       "  <thead>\n",
       "    <tr style=\"text-align: right;\">\n",
       "      <th></th>\n",
       "      <th>time</th>\n",
       "      <th>acc0</th>\n",
       "      <th>acc1</th>\n",
       "      <th>acc2</th>\n",
       "      <th>gyro0</th>\n",
       "      <th>gyro1</th>\n",
       "      <th>gyro2</th>\n",
       "      <th>mag0</th>\n",
       "      <th>mag1</th>\n",
       "      <th>mag2</th>\n",
       "      <th>x</th>\n",
       "      <th>y</th>\n",
       "      <th>z</th>\n",
       "      <th>tracked</th>\n",
       "      <th>beta</th>\n",
       "      <th>Qx</th>\n",
       "      <th>Qy</th>\n",
       "      <th>Qz</th>\n",
       "      <th>Qw</th>\n",
       "    </tr>\n",
       "  </thead>\n",
       "  <tbody>\n",
       "    <tr>\n",
       "      <th>0</th>\n",
       "      <td>180614.4063</td>\n",
       "      <td>0.005</td>\n",
       "      <td>-0.052</td>\n",
       "      <td>1.025</td>\n",
       "      <td>-0.745</td>\n",
       "      <td>0.201</td>\n",
       "      <td>-0.121</td>\n",
       "      <td>0.000</td>\n",
       "      <td>0.000</td>\n",
       "      <td>0.000</td>\n",
       "      <td>-0.485</td>\n",
       "      <td>0.222</td>\n",
       "      <td>-0.468</td>\n",
       "      <td>1.0</td>\n",
       "      <td>2.877</td>\n",
       "      <td>0.014</td>\n",
       "      <td>-0.025</td>\n",
       "      <td>0.005</td>\n",
       "      <td>1.0</td>\n",
       "    </tr>\n",
       "    <tr>\n",
       "      <th>1</th>\n",
       "      <td>180614.4153</td>\n",
       "      <td>0.006</td>\n",
       "      <td>-0.052</td>\n",
       "      <td>1.025</td>\n",
       "      <td>-0.786</td>\n",
       "      <td>0.322</td>\n",
       "      <td>-0.215</td>\n",
       "      <td>0.000</td>\n",
       "      <td>0.000</td>\n",
       "      <td>0.000</td>\n",
       "      <td>-0.485</td>\n",
       "      <td>0.222</td>\n",
       "      <td>-0.468</td>\n",
       "      <td>1.0</td>\n",
       "      <td>2.874</td>\n",
       "      <td>0.014</td>\n",
       "      <td>-0.025</td>\n",
       "      <td>0.005</td>\n",
       "      <td>1.0</td>\n",
       "    </tr>\n",
       "    <tr>\n",
       "      <th>2</th>\n",
       "      <td>180614.4243</td>\n",
       "      <td>0.005</td>\n",
       "      <td>-0.052</td>\n",
       "      <td>1.026</td>\n",
       "      <td>-0.705</td>\n",
       "      <td>0.121</td>\n",
       "      <td>0.013</td>\n",
       "      <td>-0.333</td>\n",
       "      <td>-0.282</td>\n",
       "      <td>0.048</td>\n",
       "      <td>-0.485</td>\n",
       "      <td>0.222</td>\n",
       "      <td>-0.468</td>\n",
       "      <td>1.0</td>\n",
       "      <td>2.868</td>\n",
       "      <td>0.014</td>\n",
       "      <td>-0.025</td>\n",
       "      <td>0.005</td>\n",
       "      <td>1.0</td>\n",
       "    </tr>\n",
       "    <tr>\n",
       "      <th>3</th>\n",
       "      <td>180614.4332</td>\n",
       "      <td>0.005</td>\n",
       "      <td>-0.051</td>\n",
       "      <td>1.026</td>\n",
       "      <td>-0.967</td>\n",
       "      <td>0.000</td>\n",
       "      <td>-0.134</td>\n",
       "      <td>-0.333</td>\n",
       "      <td>-0.282</td>\n",
       "      <td>0.048</td>\n",
       "      <td>-0.485</td>\n",
       "      <td>0.222</td>\n",
       "      <td>-0.468</td>\n",
       "      <td>1.0</td>\n",
       "      <td>2.866</td>\n",
       "      <td>0.014</td>\n",
       "      <td>-0.025</td>\n",
       "      <td>0.005</td>\n",
       "      <td>1.0</td>\n",
       "    </tr>\n",
       "    <tr>\n",
       "      <th>4</th>\n",
       "      <td>180614.4422</td>\n",
       "      <td>0.004</td>\n",
       "      <td>-0.051</td>\n",
       "      <td>1.026</td>\n",
       "      <td>-0.806</td>\n",
       "      <td>0.262</td>\n",
       "      <td>0.121</td>\n",
       "      <td>-0.333</td>\n",
       "      <td>-0.282</td>\n",
       "      <td>0.048</td>\n",
       "      <td>-0.485</td>\n",
       "      <td>0.222</td>\n",
       "      <td>-0.468</td>\n",
       "      <td>1.0</td>\n",
       "      <td>2.869</td>\n",
       "      <td>0.014</td>\n",
       "      <td>-0.025</td>\n",
       "      <td>0.005</td>\n",
       "      <td>1.0</td>\n",
       "    </tr>\n",
       "  </tbody>\n",
       "</table>\n",
       "</div>"
      ],
      "text/plain": [
       "          time   acc0   acc1   acc2  gyro0  gyro1  gyro2   mag0   mag1   mag2  \\\n",
       "0  180614.4063  0.005 -0.052  1.025 -0.745  0.201 -0.121  0.000  0.000  0.000   \n",
       "1  180614.4153  0.006 -0.052  1.025 -0.786  0.322 -0.215  0.000  0.000  0.000   \n",
       "2  180614.4243  0.005 -0.052  1.026 -0.705  0.121  0.013 -0.333 -0.282  0.048   \n",
       "3  180614.4332  0.005 -0.051  1.026 -0.967  0.000 -0.134 -0.333 -0.282  0.048   \n",
       "4  180614.4422  0.004 -0.051  1.026 -0.806  0.262  0.121 -0.333 -0.282  0.048   \n",
       "\n",
       "       x      y      z  tracked   beta     Qx     Qy     Qz   Qw  \n",
       "0 -0.485  0.222 -0.468      1.0  2.877  0.014 -0.025  0.005  1.0  \n",
       "1 -0.485  0.222 -0.468      1.0  2.874  0.014 -0.025  0.005  1.0  \n",
       "2 -0.485  0.222 -0.468      1.0  2.868  0.014 -0.025  0.005  1.0  \n",
       "3 -0.485  0.222 -0.468      1.0  2.866  0.014 -0.025  0.005  1.0  \n",
       "4 -0.485  0.222 -0.468      1.0  2.869  0.014 -0.025  0.005  1.0  "
      ]
     },
     "execution_count": 47,
     "metadata": {},
     "output_type": "execute_result"
    }
   ],
   "source": [
    "data.head()"
   ]
  },
  {
   "cell_type": "markdown",
   "metadata": {},
   "source": [
    "# NN setup"
   ]
  },
  {
   "cell_type": "code",
   "execution_count": 57,
   "metadata": {},
   "outputs": [],
   "source": [
    "#1D convolution\n",
    "window_size = 20\n",
    "filter_length = 5\n",
    "nb_filter = 4\n",
    "\n",
    "#Train config\n",
    "epochs = 500\n",
    "batch_size = 16\n",
    "validation_split = 0.2"
   ]
  },
  {
   "cell_type": "code",
   "execution_count": 58,
   "metadata": {
    "scrolled": true
   },
   "outputs": [
    {
     "name": "stdout",
     "output_type": "stream",
     "text": [
      "(12788, 19)\n",
      "(12788, 18)\n"
     ]
    }
   ],
   "source": [
    "print(data.shape)\n",
    "timeData=np.array(data)\n",
    "# Delete timestamps, we dont need absolute time as an input\n",
    "timeData=np.delete(timeData,0,1)\n",
    "print(timeData.shape)"
   ]
  },
  {
   "cell_type": "markdown",
   "metadata": {},
   "source": [
    "# Train NN"
   ]
  },
  {
   "cell_type": "markdown",
   "metadata": {},
   "source": [
    "Test results:\n",
    "\n",
    "* First plot: x position (predictions: green, target: red)\n",
    "\n",
    "* Second plot: z position (predictions: blue, target: yellow)\n",
    "\n",
    "* Third plot: route of the robot on the x-z plane (predictions: blue, target: orange)"
   ]
  },
  {
   "cell_type": "code",
   "execution_count": 62,
   "metadata": {
    "scrolled": true
   },
   "outputs": [
    {
     "name": "stdout",
     "output_type": "stream",
     "text": [
      "_________________________________________________________________\n",
      "Layer (type)                 Output Shape              Param #   \n",
      "=================================================================\n",
      "conv1d_17 (Conv1D)           (None, 16, 4)             244       \n",
      "_________________________________________________________________\n",
      "max_pooling1d_17 (MaxPooling (None, 8, 4)              0         \n",
      "_________________________________________________________________\n",
      "conv1d_18 (Conv1D)           (None, 4, 4)              84        \n",
      "_________________________________________________________________\n",
      "max_pooling1d_18 (MaxPooling (None, 2, 4)              0         \n",
      "_________________________________________________________________\n",
      "flatten_9 (Flatten)          (None, 8)                 0         \n",
      "_________________________________________________________________\n",
      "dense_9 (Dense)              (None, 3)                 27        \n",
      "=================================================================\n",
      "Total params: 355\n",
      "Trainable params: 355\n",
      "Non-trainable params: 0\n",
      "_________________________________________________________________\n",
      "Train on 6375 samples, validate on 2557 samples\n",
      "Epoch 1/500\n",
      " - 2s - loss: 0.2428 - mean_absolute_error: 0.3445 - val_loss: 0.1746 - val_mean_absolute_error: 0.3202\n",
      "\n",
      "Epoch 00001: val_loss did not improve from 0.08175\n",
      "Epoch 2/500\n",
      " - 1s - loss: 0.0406 - mean_absolute_error: 0.1253 - val_loss: 0.1555 - val_mean_absolute_error: 0.2958\n",
      "\n",
      "Epoch 00002: val_loss did not improve from 0.08175\n",
      "Epoch 3/500\n",
      " - 1s - loss: 0.0293 - mean_absolute_error: 0.0934 - val_loss: 0.1499 - val_mean_absolute_error: 0.2878\n",
      "\n",
      "Epoch 00003: val_loss did not improve from 0.08175\n",
      "Epoch 4/500\n",
      " - 1s - loss: 0.0264 - mean_absolute_error: 0.0827 - val_loss: 0.1395 - val_mean_absolute_error: 0.2749\n",
      "\n",
      "Epoch 00004: val_loss did not improve from 0.08175\n",
      "Epoch 5/500\n",
      " - 1s - loss: 0.0249 - mean_absolute_error: 0.0763 - val_loss: 0.1456 - val_mean_absolute_error: 0.2765\n",
      "\n",
      "Epoch 00005: val_loss did not improve from 0.08175\n",
      "Epoch 6/500\n",
      " - 1s - loss: 0.0237 - mean_absolute_error: 0.0711 - val_loss: 0.1440 - val_mean_absolute_error: 0.2707\n",
      "\n",
      "Epoch 00006: val_loss did not improve from 0.08175\n",
      "Epoch 7/500\n",
      " - 1s - loss: 0.0228 - mean_absolute_error: 0.0670 - val_loss: 0.1502 - val_mean_absolute_error: 0.2726\n",
      "\n",
      "Epoch 00007: val_loss did not improve from 0.08175\n",
      "Epoch 8/500\n",
      " - 1s - loss: 0.0220 - mean_absolute_error: 0.0642 - val_loss: 0.1645 - val_mean_absolute_error: 0.2818\n",
      "\n",
      "Epoch 00008: val_loss did not improve from 0.08175\n",
      "Epoch 9/500\n",
      " - 1s - loss: 0.0215 - mean_absolute_error: 0.0622 - val_loss: 0.1647 - val_mean_absolute_error: 0.2812\n",
      "\n",
      "Epoch 00009: val_loss did not improve from 0.08175\n",
      "Epoch 10/500\n",
      " - 1s - loss: 0.0209 - mean_absolute_error: 0.0613 - val_loss: 0.1730 - val_mean_absolute_error: 0.2876\n",
      "\n",
      "Epoch 00010: val_loss did not improve from 0.08175\n",
      "Epoch 11/500\n",
      " - 1s - loss: 0.0205 - mean_absolute_error: 0.0607 - val_loss: 0.1884 - val_mean_absolute_error: 0.3006\n",
      "\n",
      "Epoch 00011: val_loss did not improve from 0.08175\n",
      "Epoch 12/500\n",
      " - 1s - loss: 0.0201 - mean_absolute_error: 0.0606 - val_loss: 0.2023 - val_mean_absolute_error: 0.3138\n",
      "\n",
      "Epoch 00012: val_loss did not improve from 0.08175\n",
      "Epoch 13/500\n",
      " - 1s - loss: 0.0197 - mean_absolute_error: 0.0601 - val_loss: 0.2197 - val_mean_absolute_error: 0.3307\n",
      "\n",
      "Epoch 00013: val_loss did not improve from 0.08175\n",
      "Epoch 14/500\n",
      " - 1s - loss: 0.0193 - mean_absolute_error: 0.0599 - val_loss: 0.2361 - val_mean_absolute_error: 0.3459\n",
      "\n",
      "Epoch 00014: val_loss did not improve from 0.08175\n",
      "Epoch 15/500\n",
      " - 1s - loss: 0.0186 - mean_absolute_error: 0.0592 - val_loss: 0.2592 - val_mean_absolute_error: 0.3644\n",
      "\n",
      "Epoch 00015: val_loss did not improve from 0.08175\n",
      "Epoch 16/500\n",
      " - 1s - loss: 0.0180 - mean_absolute_error: 0.0583 - val_loss: 0.2916 - val_mean_absolute_error: 0.3879\n",
      "\n",
      "Epoch 00016: val_loss did not improve from 0.08175\n",
      "Epoch 17/500\n",
      " - 1s - loss: 0.0172 - mean_absolute_error: 0.0571 - val_loss: 0.3309 - val_mean_absolute_error: 0.4157\n",
      "\n",
      "Epoch 00017: val_loss did not improve from 0.08175\n",
      "Epoch 18/500\n",
      " - 1s - loss: 0.0160 - mean_absolute_error: 0.0545 - val_loss: 0.3927 - val_mean_absolute_error: 0.4561\n",
      "\n",
      "Epoch 00018: val_loss did not improve from 0.08175\n",
      "Epoch 19/500\n",
      " - 1s - loss: 0.0149 - mean_absolute_error: 0.0516 - val_loss: 0.4412 - val_mean_absolute_error: 0.4823\n",
      "\n",
      "Epoch 00019: val_loss did not improve from 0.08175\n",
      "Epoch 20/500\n",
      " - 1s - loss: 0.0137 - mean_absolute_error: 0.0484 - val_loss: 0.4983 - val_mean_absolute_error: 0.5122\n",
      "\n",
      "Epoch 00020: val_loss did not improve from 0.08175\n",
      "Epoch 21/500\n",
      " - 1s - loss: 0.0128 - mean_absolute_error: 0.0459 - val_loss: 0.5507 - val_mean_absolute_error: 0.5349\n",
      "\n",
      "Epoch 00021: val_loss did not improve from 0.08175\n",
      "Epoch 22/500\n",
      " - 1s - loss: 0.0119 - mean_absolute_error: 0.0434 - val_loss: 0.6094 - val_mean_absolute_error: 0.5606\n",
      "\n",
      "Epoch 00022: val_loss did not improve from 0.08175\n",
      "Epoch 23/500\n",
      " - 1s - loss: 0.0111 - mean_absolute_error: 0.0414 - val_loss: 0.6610 - val_mean_absolute_error: 0.5796\n",
      "\n",
      "Epoch 00023: val_loss did not improve from 0.08175\n",
      "Epoch 24/500\n",
      " - 1s - loss: 0.0104 - mean_absolute_error: 0.0397 - val_loss: 0.6840 - val_mean_absolute_error: 0.5882\n",
      "\n",
      "Epoch 00024: val_loss did not improve from 0.08175\n",
      "Epoch 25/500\n",
      " - 1s - loss: 0.0096 - mean_absolute_error: 0.0372 - val_loss: 0.7154 - val_mean_absolute_error: 0.5961\n",
      "\n",
      "Epoch 00025: val_loss did not improve from 0.08175\n",
      "Epoch 26/500\n",
      " - 1s - loss: 0.0090 - mean_absolute_error: 0.0358 - val_loss: 0.7369 - val_mean_absolute_error: 0.6003\n",
      "\n",
      "Epoch 00026: val_loss did not improve from 0.08175\n",
      "Epoch 27/500\n",
      " - 1s - loss: 0.0085 - mean_absolute_error: 0.0345 - val_loss: 0.7631 - val_mean_absolute_error: 0.6057\n",
      "\n",
      "Epoch 00027: val_loss did not improve from 0.08175\n",
      "Epoch 28/500\n",
      " - 1s - loss: 0.0080 - mean_absolute_error: 0.0325 - val_loss: 0.7822 - val_mean_absolute_error: 0.6094\n",
      "\n",
      "Epoch 00028: val_loss did not improve from 0.08175\n",
      "Epoch 29/500\n",
      " - 1s - loss: 0.0076 - mean_absolute_error: 0.0312 - val_loss: 0.7760 - val_mean_absolute_error: 0.6000\n",
      "\n",
      "Epoch 00029: val_loss did not improve from 0.08175\n",
      "Epoch 30/500\n",
      " - 2s - loss: 0.0072 - mean_absolute_error: 0.0300 - val_loss: 0.8070 - val_mean_absolute_error: 0.6063\n",
      "\n",
      "Epoch 00030: val_loss did not improve from 0.08175\n",
      "Epoch 31/500\n",
      " - 2s - loss: 0.0069 - mean_absolute_error: 0.0289 - val_loss: 0.8052 - val_mean_absolute_error: 0.5993\n",
      "\n",
      "Epoch 00031: val_loss did not improve from 0.08175\n",
      "Epoch 32/500\n",
      " - 1s - loss: 0.0066 - mean_absolute_error: 0.0282 - val_loss: 0.7939 - val_mean_absolute_error: 0.5891\n",
      "\n",
      "Epoch 00032: val_loss did not improve from 0.08175\n",
      "Epoch 33/500\n",
      " - 1s - loss: 0.0063 - mean_absolute_error: 0.0275 - val_loss: 0.7947 - val_mean_absolute_error: 0.5799\n",
      "\n",
      "Epoch 00033: val_loss did not improve from 0.08175\n",
      "Epoch 34/500\n",
      " - 1s - loss: 0.0060 - mean_absolute_error: 0.0264 - val_loss: 0.8053 - val_mean_absolute_error: 0.5756\n",
      "\n",
      "Epoch 00034: val_loss did not improve from 0.08175\n",
      "Epoch 35/500\n",
      " - 1s - loss: 0.0058 - mean_absolute_error: 0.0250 - val_loss: 0.7971 - val_mean_absolute_error: 0.5666\n",
      "\n",
      "Epoch 00035: val_loss did not improve from 0.08175\n",
      "Epoch 36/500\n",
      " - 1s - loss: 0.0055 - mean_absolute_error: 0.0245 - val_loss: 0.7755 - val_mean_absolute_error: 0.5532\n",
      "\n",
      "Epoch 00036: val_loss did not improve from 0.08175\n",
      "Epoch 37/500\n",
      " - 1s - loss: 0.0054 - mean_absolute_error: 0.0241 - val_loss: 0.7718 - val_mean_absolute_error: 0.5442\n",
      "\n",
      "Epoch 00037: val_loss did not improve from 0.08175\n",
      "Epoch 38/500\n",
      " - 1s - loss: 0.0052 - mean_absolute_error: 0.0235 - val_loss: 0.7672 - val_mean_absolute_error: 0.5349\n",
      "\n",
      "Epoch 00038: val_loss did not improve from 0.08175\n",
      "Epoch 39/500\n",
      " - 1s - loss: 0.0050 - mean_absolute_error: 0.0232 - val_loss: 0.7731 - val_mean_absolute_error: 0.5290\n",
      "\n",
      "Epoch 00039: val_loss did not improve from 0.08175\n",
      "Epoch 40/500\n",
      " - 1s - loss: 0.0048 - mean_absolute_error: 0.0229 - val_loss: 0.7572 - val_mean_absolute_error: 0.5156\n",
      "\n",
      "Epoch 00040: val_loss did not improve from 0.08175\n",
      "Epoch 41/500\n",
      " - 1s - loss: 0.0046 - mean_absolute_error: 0.0229 - val_loss: 0.7383 - val_mean_absolute_error: 0.5051\n",
      "\n",
      "Epoch 00041: val_loss did not improve from 0.08175\n",
      "Epoch 42/500\n",
      " - 1s - loss: 0.0045 - mean_absolute_error: 0.0227 - val_loss: 0.7469 - val_mean_absolute_error: 0.5006\n"
     ]
    },
    {
     "name": "stdout",
     "output_type": "stream",
     "text": [
      "\n",
      "Epoch 00042: val_loss did not improve from 0.08175\n",
      "Epoch 43/500\n",
      " - 1s - loss: 0.0043 - mean_absolute_error: 0.0223 - val_loss: 0.7354 - val_mean_absolute_error: 0.4905\n",
      "\n",
      "Epoch 00043: val_loss did not improve from 0.08175\n",
      "Epoch 44/500\n",
      " - 1s - loss: 0.0042 - mean_absolute_error: 0.0223 - val_loss: 0.7284 - val_mean_absolute_error: 0.4825\n",
      "\n",
      "Epoch 00044: val_loss did not improve from 0.08175\n",
      "Epoch 00044: early stopping\n",
      "(3836, 3)\n",
      "(3836, 3)\n"
     ]
    },
    {
     "data": {
      "image/png": "[encoded data removed]",
      "text/plain": [
       "<Figure size 432x288 with 1 Axes>"
      ]
     },
     "metadata": {
      "needs_background": "light"
     },
     "output_type": "display_data"
    },
    {
     "data": {
      "image/png": "[encoded data removed]",
      "text/plain": [
       "<Figure size 432x288 with 1 Axes>"
      ]
     },
     "metadata": {
      "needs_background": "light"
     },
     "output_type": "display_data"
    },
    {
     "data": {
      "image/png": "[encoded data removed]",
      "text/plain": [
       "<Figure size 432x288 with 1 Axes>"
      ]
     },
     "metadata": {
      "needs_background": "light"
     },
     "output_type": "display_data"
    }
   ],
   "source": [
    "evalute_timeseries(timeData,window_size,filter_length,nb_filter, epochs, batch_size)"
   ]
  },
  {
   "cell_type": "markdown",
   "metadata": {},
   "source": [
    "Original measurement on x-z plane:"
   ]
  },
  {
   "cell_type": "code",
   "execution_count": 29,
   "metadata": {
    "scrolled": true
   },
   "outputs": [
    {
     "data": {
      "text/plain": [
       "[<matplotlib.lines.Line2D at 0x1aa6ac5ccf8>]"
      ]
     },
     "execution_count": 29,
     "metadata": {},
     "output_type": "execute_result"
    },
    {
     "data": {
      "image/png": "[encoded data removed]",
      "text/plain": [
       "<Figure size 432x288 with 1 Axes>"
      ]
     },
     "metadata": {
      "needs_background": "light"
     },
     "output_type": "display_data"
    }
   ],
   "source": [
    "plt.plot(timeData[:,-9],timeData[:,-7])"
   ]
  },
  {
   "cell_type": "code",
   "execution_count": null,
   "metadata": {},
   "outputs": [],
   "source": []
  }
 ],
 "metadata": {
  "kernelspec": {
   "display_name": "Python 3",
   "language": "python",
   "name": "python3"
  },
  "language_info": {
   "codemirror_mode": {
    "name": "ipython",
    "version": 3
   },
   "file_extension": ".py",
   "mimetype": "text/x-python",
   "name": "python",
   "nbconvert_exporter": "python",
   "pygments_lexer": "ipython3",
   "version": "3.6.6"
  }
 },
 "nbformat": 4,
 "nbformat_minor": 2
}
