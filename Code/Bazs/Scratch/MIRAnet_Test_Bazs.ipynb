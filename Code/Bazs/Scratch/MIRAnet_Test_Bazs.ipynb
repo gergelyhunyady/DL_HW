{
 "cells": [
  {
   "cell_type": "markdown",
   "metadata": {},
   "source": [
    "DimensionPatch"
   ]
  },
  {
   "cell_type": "code",
   "execution_count": 2,
   "metadata": {},
   "outputs": [
    {
     "name": "stderr",
     "output_type": "stream",
     "text": [
      "Using TensorFlow backend.\n"
     ]
    }
   ],
   "source": [
    "import os   # for path operations\n",
    "import datetime\n",
    "\n",
    "import tensorflow as tf\n",
    "from tensorflow.python.client import device_lib\n",
    "\n",
    "import numpy as np\n",
    "import pandas as pd\n",
    "import sklearn as sk\n",
    "from sklearn import preprocessing\n",
    "\n",
    "from keras.models import Sequential\n",
    "from keras.layers.core import Activation, Dense, Flatten\n",
    "from keras.optimizers import SGD\n",
    "from keras.layers.convolutional import Conv1D, MaxPooling1D\n",
    "from keras.backend.tensorflow_backend import set_session\n",
    "\n",
    "from keras.callbacks import EarlyStopping\n",
    "from keras.callbacks import ModelCheckpoint\n",
    "from keras.models import load_model\n",
    "\n",
    "import matplotlib.pyplot as plt"
   ]
  },
  {
   "cell_type": "code",
   "execution_count": 3,
   "metadata": {},
   "outputs": [
    {
     "name": "stdout",
     "output_type": "stream",
     "text": [
      "[name: \"/device:CPU:0\"\n",
      "device_type: \"CPU\"\n",
      "memory_limit: 268435456\n",
      "locality {\n",
      "}\n",
      "incarnation: 12415088213286158814\n",
      ", name: \"/device:GPU:0\"\n",
      "device_type: \"GPU\"\n",
      "memory_limit: 3168377241\n",
      "locality {\n",
      "  bus_id: 1\n",
      "  links {\n",
      "  }\n",
      "}\n",
      "incarnation: 11569674254437989565\n",
      "physical_device_desc: \"device: 0, name: GeForce GTX 1050, pci bus id: 0000:01:00.0, compute capability: 6.1\"\n",
      "]\n"
     ]
    }
   ],
   "source": [
    "config = tf.ConfigProto()\n",
    "config.gpu_options.allow_growth = True\n",
    "set_session(tf.Session(config=config))\n",
    "# Device check\n",
    "print(device_lib.list_local_devices())"
   ]
  },
  {
   "cell_type": "code",
   "execution_count": 4,
   "metadata": {},
   "outputs": [],
   "source": [
    "# nb_input_series : time + 9 IMU data + optional prev. beta (min 10)\n",
    "# nb_outputs : beta () or quvaternion representation) (min 1)\n",
    "\n",
    "def make_1d_convnet(window_size, filter_length, nb_input_series=1, nb_outputs=1,nb_filter=4):\n",
    "  model = Sequential()\n",
    "  model.add(Conv1D(filters=nb_filter, kernel_size=filter_length, activation='relu', \n",
    "                   input_shape=(window_size,nb_input_series)))\n",
    "  model.add(MaxPooling1D())\n",
    "  model.add(Conv1D(filters=nb_filter, kernel_size=filter_length, activation='relu'))\n",
    "  model.add(MaxPooling1D())\n",
    "  model.add(Flatten())\n",
    "  model.add(Dense(nb_outputs,activation='linear'))\n",
    "  model.compile(loss='mse', optimizer='adam', metrics=['mae'])\n",
    "  return model"
   ]
  },
  {
   "cell_type": "code",
   "execution_count": 5,
   "metadata": {},
   "outputs": [],
   "source": [
    "def make_timeseries_instances(timeseries,window_size):\n",
    "  timeseries = np.asarray(timeseries)\n",
    "  assert 0 < window_size < timeseries.shape[0] , \"Out of range 0 < {} < {}\".format(window_size,timeseries.shape[0])\n",
    "  X = np.atleast_3d(np.array([timeseries[start:start+window_size] for start in range(0,timeseries.shape[0]-window_size)]))\n",
    "  y = timeseries[window_size:]\n",
    "  return X,y"
   ]
  },
  {
   "cell_type": "code",
   "execution_count": 6,
   "metadata": {},
   "outputs": [],
   "source": [
    "def evalute_timeseries(X, Y, window_size, filter_length, nb_filter, valid_split, test_split, patience, epochs, batch_size):\n",
    "  early_stopping=EarlyStopping(patience=patience, verbose=1)\n",
    "  checkpointer=ModelCheckpoint(filepath=\"weights_bazs.hdf5\", save_best_only=True, verbose =1)\n",
    "\n",
    "  nb_samples = X.shape[0]\n",
    "  nb_series = X.shape[2]\n",
    "  \n",
    "  # Model definition (previously definied) 10 input chanel, 1 output chanel\n",
    "  model= make_1d_convnet(window_size=window_size, filter_length=filter_length, nb_input_series=nb_series,\n",
    "                        nb_outputs=1,nb_filter=nb_filter)\n",
    "  model.summary()\n",
    "    \n",
    "  valid_size = int(nb_samples*(1-test_split-valid_split))\n",
    "  test_size = int(nb_samples*(1-test_split))\n",
    "  X_train, Y_train = X[:valid_size], Y[:valid_size]\n",
    "  X_valid, Y_valid = X[valid_size:test_size], Y[valid_size:test_size]\n",
    "  X_test, Y_test   = X[test_size:], Y[test_size:]\n",
    "    \n",
    "  model.fit(X_train, Y_train, epochs=epochs, batch_size=batch_size, validation_data=(X_valid, Y_valid), verbose=2, callbacks = [checkpointer,early_stopping])\n",
    "    \n",
    "  preds=model.predict(X_test)\n",
    "  targets = Y_test\n",
    "\n",
    "  plt.plot(preds)\n",
    "  plt.plot(targets)\n",
    "  return preds, targets"
   ]
  },
  {
   "cell_type": "markdown",
   "metadata": {},
   "source": [
    "# Load Data"
   ]
  },
  {
   "cell_type": "code",
   "execution_count": 7,
   "metadata": {},
   "outputs": [],
   "source": [
    "lock_meas = '..\\\\..\\\\DATA\\\\RAW\\\\Measure_02' # Location folder of the measurement files\n",
    "file_list = os.listdir(lock_meas)           # Make a list out of the files in the folder\n",
    "nb_meas = len(file_list)/4                  # Every measurement contains 4 file (IMU, MoCap, Robotino, NFO)\n",
    "\n",
    "meas_list = []                              # Make a list containing the independent measurements\n",
    "for FILE_NAME in file_list:\n",
    "    meas_list.append(FILE_NAME[0:22])       # The unique ID is the time, the first 22 character\n",
    "meas_list = list(set(meas_list))\n",
    "\n",
    "# Load in one favourite measurement block\n",
    "meas_id = 4\n",
    "\n",
    "# Syncronise the measurement files from MoCap and IMU\n",
    "if meas_id>(nb_meas-1):\n",
    "    meas = 0\n",
    "meas_date = str(meas_list[meas_id])\n",
    "\n",
    "# Load the IMU csv data file\n",
    "imu_data = pd.read_csv(lock_meas + '\\\\' + meas_date + 'IMU.txt',\n",
    "                               sep='\\t',\n",
    "                               decimal=',',\n",
    "                               names=['time', 'acc0', 'acc1', 'acc2', 'gyro0', 'gyro1', 'gyro2', 'mag0', 'mag1', 'mag2'])\n",
    "\n",
    "# Load the MoCap csv data file\n",
    "mocap_data = pd.read_csv(lock_meas + '\\\\' + meas_date + 'MoCap.txt',\n",
    "                                 sep='\\t',\n",
    "                                 decimal=',',\n",
    "                                 names=['time', 'x', 'y', 'z', 'tracked', 'beta', 'Qx', 'Qy', 'Qz', 'Qw'])\n",
    "\n",
    "# Merge the two data file to synronise them. In both dataset there are some data row that can't be matched, this data will\n",
    "# be trown away\n",
    "data = pd.merge(imu_data, mocap_data, on=['time'], how='inner')\n",
    "\n",
    "# ===== Filters ======\n",
    "\n",
    "# When the magneto sensors values are [0, 0, 0] that is a false value. These rows are deleted.\n",
    "# When tacked is 0, it is indicates that the MoCap data is invalid. These rows are deleted too.\n",
    "df = data[~(data[['mag0','mag1','mag2','tracked']] == 0).any(axis=1)]\n",
    "# From now on the tracked column can be deleted, because it contains only 1s.\n",
    "del df['tracked']\n",
    "# Add to more columns to make a fluent orientation function (orient) and a delta time (deltat)\n",
    "df = df.assign(orient=0)\n",
    "df = df.assign(deltat=0)\n",
    "df = df.assign(level=0)\n",
    "# Convert the data frame into numpy array\n",
    "dfarray = np.array(df)\n",
    "# Create a lookup table to make the use of this matrix more readable.\n",
    "time   = 0\n",
    "acc0   = 1\n",
    "acc1   = 2\n",
    "acc2   = 3\n",
    "gyro0  = 4\n",
    "gyro1  = 5\n",
    "gyro2  = 6\n",
    "mag0   = 7\n",
    "mag1   = 8\n",
    "mag2   = 9\n",
    "x      = 10\n",
    "y      = 11\n",
    "z      = 12\n",
    "beta   = 13\n",
    "Qx     = 14\n",
    "Qy     = 15\n",
    "Qz     = 16\n",
    "Qw     = 17\n",
    "orient = 18\n",
    "deltat = 19\n",
    "level  = 20\n",
    "\n",
    "# Calculate the delta time between two valid measurements\n",
    "for i in range(dfarray.shape[0]):\n",
    "    if (i-1)>-1:\n",
    "        dfarray[i,deltat] = dfarray[i,time]-dfarray[i-1,time]\n",
    "\n",
    "# Creating a more fluent orientation function\n",
    "level = 0\n",
    "for i in range(dfarray.shape[0]):\n",
    "    if (i-1)>-1:\n",
    "        if (dfarray[i,beta]-dfarray[i-1,beta])>355:\n",
    "            level = level - 1\n",
    "        if (dfarray[i,beta]-dfarray[i-1,beta])<-355:\n",
    "            level = level + 1\n",
    "        else:\n",
    "            level = level   \n",
    "        dfarray[i, orient] = level*360 + dfarray[i, beta]"
   ]
  },
  {
   "cell_type": "code",
   "execution_count": 8,
   "metadata": {},
   "outputs": [],
   "source": [
    "#1D convolution\n",
    "window_size = 20\n",
    "filter_length = 5\n",
    "nb_filter = 4\n",
    "\n",
    "#Train config\n",
    "epochs = 100\n",
    "patience=50\n",
    "batch_size = 16\n",
    "vs = 0.15\n",
    "ts = 0.15"
   ]
  },
  {
   "cell_type": "code",
   "execution_count": 17,
   "metadata": {},
   "outputs": [
    {
     "data": {
      "text/plain": [
       "(1659, 21)"
      ]
     },
     "execution_count": 17,
     "metadata": {},
     "output_type": "execute_result"
    }
   ],
   "source": [
    "dfarray.shape"
   ]
  },
  {
   "cell_type": "code",
   "execution_count": 31,
   "metadata": {},
   "outputs": [],
   "source": [
    "Y = dfarray[window_size:,orient]\n",
    "X = dfarray[:,0:9]"
   ]
  },
  {
   "cell_type": "code",
   "execution_count": 32,
   "metadata": {},
   "outputs": [
    {
     "data": {
      "text/plain": [
       "(1659, 9)"
      ]
     },
     "execution_count": 32,
     "metadata": {},
     "output_type": "execute_result"
    }
   ],
   "source": [
    "X.shape"
   ]
  },
  {
   "cell_type": "code",
   "execution_count": 33,
   "metadata": {},
   "outputs": [
    {
     "data": {
      "text/plain": [
       "(1639,)"
      ]
     },
     "execution_count": 33,
     "metadata": {},
     "output_type": "execute_result"
    }
   ],
   "source": [
    "Y.shape"
   ]
  },
  {
   "cell_type": "code",
   "execution_count": 34,
   "metadata": {},
   "outputs": [],
   "source": [
    "X = np.atleast_3d(np.array([X[start:start+window_size] for start in range(0,X.shape[0]-window_size)]))"
   ]
  },
  {
   "cell_type": "code",
   "execution_count": 35,
   "metadata": {},
   "outputs": [
    {
     "name": "stdout",
     "output_type": "stream",
     "text": [
      "_________________________________________________________________\n",
      "Layer (type)                 Output Shape              Param #   \n",
      "=================================================================\n",
      "conv1d_1 (Conv1D)            (None, 16, 4)             184       \n",
      "_________________________________________________________________\n",
      "max_pooling1d_1 (MaxPooling1 (None, 8, 4)              0         \n",
      "_________________________________________________________________\n",
      "conv1d_2 (Conv1D)            (None, 4, 4)              84        \n",
      "_________________________________________________________________\n",
      "max_pooling1d_2 (MaxPooling1 (None, 2, 4)              0         \n",
      "_________________________________________________________________\n",
      "flatten_1 (Flatten)          (None, 8)                 0         \n",
      "_________________________________________________________________\n",
      "dense_1 (Dense)              (None, 1)                 9         \n",
      "=================================================================\n",
      "Total params: 277\n",
      "Trainable params: 277\n",
      "Non-trainable params: 0\n",
      "_________________________________________________________________\n",
      "Train on 1147 samples, validate on 246 samples\n",
      "Epoch 1/100\n",
      " - 4s - loss: 25034.0227 - mean_absolute_error: 128.1087 - val_loss: 125352.9322 - val_mean_absolute_error: 340.5903\n",
      "\n",
      "Epoch 00001: val_loss improved from inf to 125352.93216, saving model to weights_bazs.hdf5\n",
      "Epoch 2/100\n",
      " - 0s - loss: 25031.3205 - mean_absolute_error: 128.1014 - val_loss: 125384.0335 - val_mean_absolute_error: 340.6360\n",
      "\n",
      "Epoch 00002: val_loss did not improve from 125352.93216\n",
      "Epoch 3/100\n",
      " - 0s - loss: 25028.6252 - mean_absolute_error: 128.0940 - val_loss: 125414.3693 - val_mean_absolute_error: 340.6805\n",
      "\n",
      "Epoch 00003: val_loss did not improve from 125352.93216\n",
      "Epoch 4/100\n",
      " - 0s - loss: 25026.0004 - mean_absolute_error: 128.0867 - val_loss: 125445.6035 - val_mean_absolute_error: 340.7263\n",
      "\n",
      "Epoch 00004: val_loss did not improve from 125352.93216\n",
      "Epoch 5/100\n",
      " - 0s - loss: 25023.4369 - mean_absolute_error: 128.0794 - val_loss: 125473.3281 - val_mean_absolute_error: 340.7670\n",
      "\n",
      "Epoch 00005: val_loss did not improve from 125352.93216\n",
      "Epoch 6/100\n",
      " - 0s - loss: 25020.9643 - mean_absolute_error: 128.0727 - val_loss: 125502.4881 - val_mean_absolute_error: 340.8098\n",
      "\n",
      "Epoch 00006: val_loss did not improve from 125352.93216\n",
      "Epoch 7/100\n",
      " - 0s - loss: 25018.5164 - mean_absolute_error: 128.0651 - val_loss: 125531.6933 - val_mean_absolute_error: 340.8526\n",
      "\n",
      "Epoch 00007: val_loss did not improve from 125352.93216\n",
      "Epoch 8/100\n",
      " - 0s - loss: 25016.0702 - mean_absolute_error: 128.0590 - val_loss: 125558.2229 - val_mean_absolute_error: 340.8916\n",
      "\n",
      "Epoch 00008: val_loss did not improve from 125352.93216\n",
      "Epoch 9/100\n",
      " - 0s - loss: 25013.6397 - mean_absolute_error: 128.0521 - val_loss: 125587.7694 - val_mean_absolute_error: 340.9349\n",
      "\n",
      "Epoch 00009: val_loss did not improve from 125352.93216\n",
      "Epoch 10/100\n",
      " - 0s - loss: 25011.1821 - mean_absolute_error: 128.0453 - val_loss: 125617.2167 - val_mean_absolute_error: 340.9781\n",
      "\n",
      "Epoch 00010: val_loss did not improve from 125352.93216\n",
      "Epoch 11/100\n",
      " - 0s - loss: 25008.6988 - mean_absolute_error: 128.0382 - val_loss: 125645.0211 - val_mean_absolute_error: 341.0188\n",
      "\n",
      "Epoch 00011: val_loss did not improve from 125352.93216\n",
      "Epoch 12/100\n",
      " - 0s - loss: 25006.2413 - mean_absolute_error: 128.0315 - val_loss: 125674.1434 - val_mean_absolute_error: 341.0615\n",
      "\n",
      "Epoch 00012: val_loss did not improve from 125352.93216\n",
      "Epoch 13/100\n",
      " - 0s - loss: 25003.7782 - mean_absolute_error: 128.0250 - val_loss: 125703.7466 - val_mean_absolute_error: 341.1049\n",
      "\n",
      "Epoch 00013: val_loss did not improve from 125352.93216\n",
      "Epoch 14/100\n",
      " - 0s - loss: 25001.2557 - mean_absolute_error: 128.0179 - val_loss: 125732.3718 - val_mean_absolute_error: 341.1469\n",
      "\n",
      "Epoch 00014: val_loss did not improve from 125352.93216\n",
      "Epoch 15/100\n",
      " - 0s - loss: 24998.7939 - mean_absolute_error: 128.0112 - val_loss: 125761.3424 - val_mean_absolute_error: 341.1893\n",
      "\n",
      "Epoch 00015: val_loss did not improve from 125352.93216\n",
      "Epoch 16/100\n",
      " - 0s - loss: 24996.3676 - mean_absolute_error: 128.0043 - val_loss: 125792.5149 - val_mean_absolute_error: 341.2350\n",
      "\n",
      "Epoch 00016: val_loss did not improve from 125352.93216\n",
      "Epoch 17/100\n",
      " - 0s - loss: 24993.8727 - mean_absolute_error: 127.9972 - val_loss: 125821.1355 - val_mean_absolute_error: 341.2770\n",
      "\n",
      "Epoch 00017: val_loss did not improve from 125352.93216\n",
      "Epoch 18/100\n",
      " - 0s - loss: 24991.4236 - mean_absolute_error: 127.9909 - val_loss: 125846.4848 - val_mean_absolute_error: 341.3141\n",
      "\n",
      "Epoch 00018: val_loss did not improve from 125352.93216\n",
      "Epoch 19/100\n",
      " - 0s - loss: 24989.0151 - mean_absolute_error: 127.9845 - val_loss: 125876.1343 - val_mean_absolute_error: 341.3575\n",
      "\n",
      "Epoch 00019: val_loss did not improve from 125352.93216\n",
      "Epoch 20/100\n",
      " - 0s - loss: 24986.5355 - mean_absolute_error: 127.9770 - val_loss: 125906.3449 - val_mean_absolute_error: 341.4018\n",
      "\n",
      "Epoch 00020: val_loss did not improve from 125352.93216\n",
      "Epoch 21/100\n",
      " - 0s - loss: 24984.1093 - mean_absolute_error: 127.9710 - val_loss: 125936.8774 - val_mean_absolute_error: 341.4465\n",
      "\n",
      "Epoch 00021: val_loss did not improve from 125352.93216\n",
      "Epoch 22/100\n",
      " - 0s - loss: 24981.6105 - mean_absolute_error: 127.9638 - val_loss: 125964.3848 - val_mean_absolute_error: 341.4868\n",
      "\n",
      "Epoch 00022: val_loss did not improve from 125352.93216\n",
      "Epoch 23/100\n",
      " - 0s - loss: 24979.2147 - mean_absolute_error: 127.9574 - val_loss: 125993.3594 - val_mean_absolute_error: 341.5292\n",
      "\n",
      "Epoch 00023: val_loss did not improve from 125352.93216\n",
      "Epoch 24/100\n",
      " - 0s - loss: 24976.7909 - mean_absolute_error: 127.9507 - val_loss: 126022.4820 - val_mean_absolute_error: 341.5718\n",
      "\n",
      "Epoch 00024: val_loss did not improve from 125352.93216\n",
      "Epoch 25/100\n",
      " - 0s - loss: 24974.3403 - mean_absolute_error: 127.9439 - val_loss: 126049.2298 - val_mean_absolute_error: 341.6110\n",
      "\n",
      "Epoch 00025: val_loss did not improve from 125352.93216\n",
      "Epoch 26/100\n",
      " - 0s - loss: 24971.9369 - mean_absolute_error: 127.9375 - val_loss: 126081.6997 - val_mean_absolute_error: 341.6585\n",
      "\n",
      "Epoch 00026: val_loss did not improve from 125352.93216\n",
      "Epoch 27/100\n",
      " - 0s - loss: 24969.4629 - mean_absolute_error: 127.9310 - val_loss: 126109.9977 - val_mean_absolute_error: 341.6999\n",
      "\n",
      "Epoch 00027: val_loss did not improve from 125352.93216\n",
      "Epoch 28/100\n",
      " - 0s - loss: 24967.0166 - mean_absolute_error: 127.9237 - val_loss: 126138.1538 - val_mean_absolute_error: 341.7411\n",
      "\n",
      "Epoch 00028: val_loss did not improve from 125352.93216\n",
      "Epoch 29/100\n",
      " - 0s - loss: 24964.6017 - mean_absolute_error: 127.9171 - val_loss: 126166.8561 - val_mean_absolute_error: 341.7831\n",
      "\n",
      "Epoch 00029: val_loss did not improve from 125352.93216\n",
      "Epoch 30/100\n",
      " - 0s - loss: 24962.1650 - mean_absolute_error: 127.9108 - val_loss: 126196.8563 - val_mean_absolute_error: 341.8270\n",
      "\n",
      "Epoch 00030: val_loss did not improve from 125352.93216\n",
      "Epoch 31/100\n",
      " - 0s - loss: 24959.7696 - mean_absolute_error: 127.9040 - val_loss: 126229.0088 - val_mean_absolute_error: 341.8740\n",
      "\n",
      "Epoch 00031: val_loss did not improve from 125352.93216\n",
      "Epoch 32/100\n",
      " - 0s - loss: 24957.2892 - mean_absolute_error: 127.8973 - val_loss: 126255.9671 - val_mean_absolute_error: 341.9134\n",
      "\n",
      "Epoch 00032: val_loss did not improve from 125352.93216\n",
      "Epoch 33/100\n",
      " - 0s - loss: 24954.9108 - mean_absolute_error: 127.8909 - val_loss: 126284.1875 - val_mean_absolute_error: 341.9547\n",
      "\n",
      "Epoch 00033: val_loss did not improve from 125352.93216\n",
      "Epoch 34/100\n",
      " - 0s - loss: 24952.4785 - mean_absolute_error: 127.8847 - val_loss: 126315.8058 - val_mean_absolute_error: 342.0009\n",
      "\n",
      "Epoch 00034: val_loss did not improve from 125352.93216\n",
      "Epoch 35/100\n",
      " - 0s - loss: 24950.0400 - mean_absolute_error: 127.8775 - val_loss: 126344.0324 - val_mean_absolute_error: 342.0422\n",
      "\n",
      "Epoch 00035: val_loss did not improve from 125352.93216\n",
      "Epoch 36/100\n",
      " - 0s - loss: 24947.6454 - mean_absolute_error: 127.8707 - val_loss: 126371.9430 - val_mean_absolute_error: 342.0830\n",
      "\n",
      "Epoch 00036: val_loss did not improve from 125352.93216\n",
      "Epoch 37/100\n",
      " - 0s - loss: 24945.3019 - mean_absolute_error: 127.8646 - val_loss: 126403.1820 - val_mean_absolute_error: 342.1287\n",
      "\n",
      "Epoch 00037: val_loss did not improve from 125352.93216\n",
      "Epoch 38/100\n",
      " - 0s - loss: 24942.9205 - mean_absolute_error: 127.8584 - val_loss: 126430.9144 - val_mean_absolute_error: 342.1692\n"
     ]
    },
    {
     "name": "stdout",
     "output_type": "stream",
     "text": [
      "\n",
      "Epoch 00038: val_loss did not improve from 125352.93216\n",
      "Epoch 39/100\n",
      " - 0s - loss: 24940.5530 - mean_absolute_error: 127.8515 - val_loss: 126458.3186 - val_mean_absolute_error: 342.2092\n",
      "\n",
      "Epoch 00039: val_loss did not improve from 125352.93216\n",
      "Epoch 40/100\n",
      " - 0s - loss: 24938.2302 - mean_absolute_error: 127.8447 - val_loss: 126488.0608 - val_mean_absolute_error: 342.2527\n",
      "\n",
      "Epoch 00040: val_loss did not improve from 125352.93216\n",
      "Epoch 41/100\n",
      " - 0s - loss: 24935.8790 - mean_absolute_error: 127.8384 - val_loss: 126517.8952 - val_mean_absolute_error: 342.2963\n",
      "\n",
      "Epoch 00041: val_loss did not improve from 125352.93216\n",
      "Epoch 42/100\n",
      " - 0s - loss: 24933.5303 - mean_absolute_error: 127.8319 - val_loss: 126546.9959 - val_mean_absolute_error: 342.3388\n",
      "\n",
      "Epoch 00042: val_loss did not improve from 125352.93216\n",
      "Epoch 43/100\n",
      " - 0s - loss: 24931.1531 - mean_absolute_error: 127.8257 - val_loss: 126573.8673 - val_mean_absolute_error: 342.3780\n",
      "\n",
      "Epoch 00043: val_loss did not improve from 125352.93216\n",
      "Epoch 44/100\n",
      " - 0s - loss: 24928.8610 - mean_absolute_error: 127.8190 - val_loss: 126603.8788 - val_mean_absolute_error: 342.4218\n",
      "\n",
      "Epoch 00044: val_loss did not improve from 125352.93216\n",
      "Epoch 45/100\n",
      " - 0s - loss: 24926.4969 - mean_absolute_error: 127.8128 - val_loss: 126633.1009 - val_mean_absolute_error: 342.4645\n",
      "\n",
      "Epoch 00045: val_loss did not improve from 125352.93216\n",
      "Epoch 46/100\n",
      " - 0s - loss: 24924.1863 - mean_absolute_error: 127.8065 - val_loss: 126661.8215 - val_mean_absolute_error: 342.5064\n",
      "\n",
      "Epoch 00046: val_loss did not improve from 125352.93216\n",
      "Epoch 47/100\n",
      " - 0s - loss: 24921.8329 - mean_absolute_error: 127.8001 - val_loss: 126690.6710 - val_mean_absolute_error: 342.5485\n",
      "\n",
      "Epoch 00047: val_loss did not improve from 125352.93216\n",
      "Epoch 48/100\n",
      " - 0s - loss: 24919.5373 - mean_absolute_error: 127.7938 - val_loss: 126719.4614 - val_mean_absolute_error: 342.5906\n",
      "\n",
      "Epoch 00048: val_loss did not improve from 125352.93216\n",
      "Epoch 49/100\n",
      " - 0s - loss: 24917.1914 - mean_absolute_error: 127.7872 - val_loss: 126747.5014 - val_mean_absolute_error: 342.6315\n",
      "\n",
      "Epoch 00049: val_loss did not improve from 125352.93216\n",
      "Epoch 50/100\n",
      " - 0s - loss: 24914.8889 - mean_absolute_error: 127.7807 - val_loss: 126775.4271 - val_mean_absolute_error: 342.6722\n",
      "\n",
      "Epoch 00050: val_loss did not improve from 125352.93216\n",
      "Epoch 51/100\n",
      " - 0s - loss: 24912.5612 - mean_absolute_error: 127.7739 - val_loss: 126804.9353 - val_mean_absolute_error: 342.7153\n",
      "\n",
      "Epoch 00051: val_loss did not improve from 125352.93216\n",
      "Epoch 00051: early stopping\n"
     ]
    },
    {
     "data": {
      "image/png": "[encoded data removed]",
      "text/plain": [
       "<Figure size 432x288 with 1 Axes>"
      ]
     },
     "metadata": {
      "needs_background": "light"
     },
     "output_type": "display_data"
    }
   ],
   "source": [
    "pred, target = evalute_timeseries(X, Y, window_size,filter_length,nb_filter, vs, ts, patience, epochs, batch_size)"
   ]
  },
  {
   "cell_type": "code",
   "execution_count": 31,
   "metadata": {},
   "outputs": [
    {
     "data": {
      "text/plain": [
       "[<matplotlib.lines.Line2D at 0x20f02855c50>]"
      ]
     },
     "execution_count": 31,
     "metadata": {},
     "output_type": "execute_result"
    },
    {
     "data": {
      "image/png": "[encoded data removed]",
      "text/plain": [
       "<Figure size 432x288 with 1 Axes>"
      ]
     },
     "metadata": {
      "needs_background": "light"
     },
     "output_type": "display_data"
    }
   ],
   "source": [
    "plt.plot(pred)"
   ]
  },
  {
   "cell_type": "code",
   "execution_count": null,
   "metadata": {},
   "outputs": [],
   "source": []
  }
 ],
 "metadata": {
  "kernelspec": {
   "display_name": "Python 3",
   "language": "python",
   "name": "python3"
  },
  "language_info": {
   "codemirror_mode": {
    "name": "ipython",
    "version": 3
   },
   "file_extension": ".py",
   "mimetype": "text/x-python",
   "name": "python",
   "nbconvert_exporter": "python",
   "pygments_lexer": "ipython3",
   "version": "3.5.6"
  }
 },
 "nbformat": 4,
 "nbformat_minor": 2
}
