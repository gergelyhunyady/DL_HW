{
 "cells": [
  {
   "cell_type": "markdown",
   "metadata": {},
   "source": [
    "# Imports"
   ]
  },
  {
   "cell_type": "code",
   "execution_count": 1,
   "metadata": {},
   "outputs": [
    {
     "name": "stderr",
     "output_type": "stream",
     "text": [
      "Using TensorFlow backend.\n"
     ]
    }
   ],
   "source": [
    "import os   # For path operations\n",
    "import datetime\n",
    "\n",
    "import hyperas\n",
    "import tensorflow as tf\n",
    "from tensorflow.python.client import device_lib\n",
    "\n",
    "import numpy as np\n",
    "import pandas as pd\n",
    "import sklearn as sk\n",
    "from sklearn import preprocessing\n",
    "\n",
    "from keras.models import Sequential\n",
    "from keras.layers.core import Activation, Dense, Flatten\n",
    "from keras.optimizers import SGD\n",
    "from keras.layers.convolutional import Conv1D, MaxPooling1D\n",
    "from keras.backend.tensorflow_backend import set_session\n",
    "from keras.callbacks import EarlyStopping, CSVLogger, ModelCheckpoint\n",
    "from keras.models import load_model\n",
    "\n",
    "import matplotlib.pyplot as plt"
   ]
  },
  {
   "cell_type": "markdown",
   "metadata": {},
   "source": [
    "# Config GPU env"
   ]
  },
  {
   "cell_type": "code",
   "execution_count": 2,
   "metadata": {},
   "outputs": [
    {
     "name": "stdout",
     "output_type": "stream",
     "text": [
      "[name: \"/device:CPU:0\"\n",
      "device_type: \"CPU\"\n",
      "memory_limit: 268435456\n",
      "locality {\n",
      "}\n",
      "incarnation: 12409547448567391820\n",
      ", name: \"/device:GPU:0\"\n",
      "device_type: \"GPU\"\n",
      "memory_limit: 3168377241\n",
      "locality {\n",
      "  bus_id: 1\n",
      "  links {\n",
      "  }\n",
      "}\n",
      "incarnation: 8441568203313976325\n",
      "physical_device_desc: \"device: 0, name: GeForce GTX 1050, pci bus id: 0000:01:00.0, compute capability: 6.1\"\n",
      "]\n"
     ]
    }
   ],
   "source": [
    "config = tf.ConfigProto()\n",
    "config.gpu_options.allow_growth = True\n",
    "set_session(tf.Session(config=config))\n",
    "# Device check\n",
    "print(device_lib.list_local_devices())"
   ]
  },
  {
   "cell_type": "markdown",
   "metadata": {},
   "source": [
    "# Def NN"
   ]
  },
  {
   "cell_type": "markdown",
   "metadata": {},
   "source": [
    "## Training options"
   ]
  },
  {
   "cell_type": "code",
   "execution_count": 3,
   "metadata": {},
   "outputs": [],
   "source": [
    "patience=40\n",
    "early_stopping=EarlyStopping(monitor = 'val_loss', patience=patience, verbose=1)\n",
    "checkpointer=ModelCheckpoint(filepath=\"CNN_weights_dxyz.hdf5\", save_best_only=True, verbose =1)"
   ]
  },
  {
   "cell_type": "markdown",
   "metadata": {},
   "source": [
    "## Create a 1D convnet based on the practice lesson for time series analysis"
   ]
  },
  {
   "cell_type": "code",
   "execution_count": 4,
   "metadata": {},
   "outputs": [],
   "source": [
    "def make_1d_convnet(window_size, filter_length, nb_input_series=1, nb_outputs=1,nb_filter=4):\n",
    "    model = Sequential()\n",
    "    # Defining input shape of the first layer based on desired output type\n",
    "    model.add(Conv1D(filters = nb_filter, kernel_size = filter_length, activation = 'relu', \n",
    "                    input_shape = (window_size,nb_input_series)))\n",
    "    model.add(MaxPooling1D())\n",
    "    model.add(Conv1D(filters = nb_filter, kernel_size = filter_length, activation = 'relu'))\n",
    "    model.add(MaxPooling1D())\n",
    "    model.add(Flatten())\n",
    "    model.add(Dense(nb_outputs,activation = 'linear'))\n",
    "    model.compile(loss = 'mse', optimizer = 'adam', metrics = ['mae'])\n",
    "    return model"
   ]
  },
  {
   "cell_type": "markdown",
   "metadata": {},
   "source": [
    "## Create input and output format from raw data"
   ]
  },
  {
   "cell_type": "code",
   "execution_count": 5,
   "metadata": {},
   "outputs": [],
   "source": [
    "def make_timeseries_instances(timeseries, window_size, nb_inputs):\n",
    "    timeseries = np.asarray(timeseries)\n",
    "    assert 0 < window_size < timeseries.shape[0] , \"Out of range 0 < {} < {}\".format(window_size,timeseries.shape[0])\n",
    "    # nb_input defines the number of input time series that we use to predict outputs\n",
    "    X = np.atleast_3d(np.array([timeseries[start:start+window_size,:nb_inputs] for start in range(0,timeseries.shape[0]-window_size)]))\n",
    "    \n",
    "    # We have 3 output signal: dx, dy and dz position    \n",
    "    y = timeseries[window_size:,-3:]\n",
    "        \n",
    "    return X,y"
   ]
  },
  {
   "cell_type": "markdown",
   "metadata": {},
   "source": [
    "## Train the network on timeseries"
   ]
  },
  {
   "cell_type": "code",
   "execution_count": 6,
   "metadata": {},
   "outputs": [],
   "source": [
    "def evalute_timeseries(timeseries, window_size, filter_length, nb_filter, epochs, batch_size):\n",
    "    if timeseries.shape[0] == 1:\n",
    "        timeseries = timeseries.T\n",
    "    nb_samples, nb_series = timeseries.shape\n",
    "    \n",
    "    # Define in and output size based on output type\n",
    "    nb_inputs = nb_series - 11 # Only 10 inputs (previous x,y,z position is an input now)\n",
    "    nb_outputs = 3\n",
    "        \n",
    "    # Initialize model\n",
    "    model= make_1d_convnet(window_size=window_size, filter_length=filter_length, nb_input_series=nb_inputs,\n",
    "                        nb_outputs=nb_outputs,nb_filter=nb_filter)\n",
    "    model.summary()\n",
    "  \n",
    "    # Fill and split the input and output variables\n",
    "    X,y = make_timeseries_instances(timeseries, window_size,nb_inputs=nb_inputs)\n",
    "  \n",
    "    test_size = int(0.3  * nb_samples)\n",
    "    valid_size = int(0.2 * nb_samples)\n",
    "    X_train, X_valid, X_test = X[:-(test_size+valid_size),:], X[-(test_size+valid_size):-test_size,:], X[-test_size:,:]\n",
    "    y_train, y_valid, y_test = y[:-(test_size+valid_size),:], y[-(test_size+valid_size):-test_size,:], y[-test_size:,:]\n",
    "    \n",
    "    # Train model\n",
    "    model.fit(X_train,y_train, epochs = epochs, batch_size = batch_size, validation_data = (X_valid, y_valid),\n",
    "              verbose = 2, callbacks = [checkpointer,early_stopping])\n",
    "  \n",
    "    # Load the best model for plotting\n",
    "    bestmodel = load_model(\"CNN_weights_dxyz.hdf5\")\n",
    "    preds = bestmodel.predict(X_test)\n",
    "    targets = y_test\n",
    "    \n",
    "    # Plot the results based on output type\n",
    "    # Plot predicted dx vs target dx\n",
    "    plt.figure(0)\n",
    "    plt.plot(preds[:,0],color = 'green', label = 'dx pred')\n",
    "    plt.plot(targets[:,0],color = 'red', label = 'dx targ')\n",
    "    \n",
    "    # Plot predicted dz vs target dz\n",
    "    plt.figure(1)\n",
    "    plt.plot(preds[:,2],color = 'blue', label = 'dz pred')\n",
    "    plt.plot(targets[:,2],color = 'yellow', label = 'dz targ')\n",
    "    \n",
    "    # Plot the predicted route vs original route on dx-dz plane\n",
    "    plt.figure(2)\n",
    "    plt.plot(preds[:,0],preds[:,2], label = 'dxz pred')\n",
    "    plt.plot(targets[:,0],targets[:,2], label = 'dxz targ')\n",
    "    \n",
    "    return preds, targets"
   ]
  },
  {
   "cell_type": "markdown",
   "metadata": {},
   "source": [
    "# Load data file"
   ]
  },
  {
   "cell_type": "code",
   "execution_count": 7,
   "metadata": {},
   "outputs": [],
   "source": [
    "df = pd.read_csv('Bazs\\\\PreprocessedData_v2.txt',\n",
    "                               sep='\\t',\n",
    "                               decimal=',')\n",
    "header = df.columns\n",
    "df_arr =np.array(df, dtype='float64')\n",
    "df =pd.DataFrame(df_arr, columns=header)"
   ]
  },
  {
   "cell_type": "code",
   "execution_count": 8,
   "metadata": {},
   "outputs": [
    {
     "data": {
      "text/html": [
       "<div>\n",
       "<style scoped>\n",
       "    .dataframe tbody tr th:only-of-type {\n",
       "        vertical-align: middle;\n",
       "    }\n",
       "\n",
       "    .dataframe tbody tr th {\n",
       "        vertical-align: top;\n",
       "    }\n",
       "\n",
       "    .dataframe thead th {\n",
       "        text-align: right;\n",
       "    }\n",
       "</style>\n",
       "<table border=\"1\" class=\"dataframe\">\n",
       "  <thead>\n",
       "    <tr style=\"text-align: right;\">\n",
       "      <th></th>\n",
       "      <th>delta_t</th>\n",
       "      <th>acc0</th>\n",
       "      <th>acc1</th>\n",
       "      <th>acc2</th>\n",
       "      <th>gyro0</th>\n",
       "      <th>gyro1</th>\n",
       "      <th>gyro2</th>\n",
       "      <th>mag0</th>\n",
       "      <th>mag1</th>\n",
       "      <th>mag2</th>\n",
       "      <th>...</th>\n",
       "      <th>y</th>\n",
       "      <th>z</th>\n",
       "      <th>beta</th>\n",
       "      <th>Qx</th>\n",
       "      <th>Qy</th>\n",
       "      <th>Qz</th>\n",
       "      <th>Qw</th>\n",
       "      <th>delta_x</th>\n",
       "      <th>delta_y</th>\n",
       "      <th>delta_z</th>\n",
       "    </tr>\n",
       "  </thead>\n",
       "  <tbody>\n",
       "    <tr>\n",
       "      <th>0</th>\n",
       "      <td>0.0000</td>\n",
       "      <td>-0.0029</td>\n",
       "      <td>0.0003</td>\n",
       "      <td>-0.0003</td>\n",
       "      <td>-0.0194</td>\n",
       "      <td>0.0124</td>\n",
       "      <td>-0.0022</td>\n",
       "      <td>-0.5292</td>\n",
       "      <td>-0.6538</td>\n",
       "      <td>-0.5275</td>\n",
       "      <td>...</td>\n",
       "      <td>0.221</td>\n",
       "      <td>0.402</td>\n",
       "      <td>-0.0129</td>\n",
       "      <td>0.005</td>\n",
       "      <td>0.02</td>\n",
       "      <td>0.000</td>\n",
       "      <td>1.0</td>\n",
       "      <td>0.0</td>\n",
       "      <td>0.0</td>\n",
       "      <td>0.0</td>\n",
       "    </tr>\n",
       "    <tr>\n",
       "      <th>1</th>\n",
       "      <td>0.0891</td>\n",
       "      <td>-0.0029</td>\n",
       "      <td>0.0013</td>\n",
       "      <td>0.0007</td>\n",
       "      <td>-0.0085</td>\n",
       "      <td>0.0023</td>\n",
       "      <td>0.0006</td>\n",
       "      <td>-0.5292</td>\n",
       "      <td>-0.6538</td>\n",
       "      <td>-0.4945</td>\n",
       "      <td>...</td>\n",
       "      <td>0.221</td>\n",
       "      <td>0.402</td>\n",
       "      <td>-0.0128</td>\n",
       "      <td>0.005</td>\n",
       "      <td>0.02</td>\n",
       "      <td>0.001</td>\n",
       "      <td>1.0</td>\n",
       "      <td>0.0</td>\n",
       "      <td>0.0</td>\n",
       "      <td>0.0</td>\n",
       "    </tr>\n",
       "  </tbody>\n",
       "</table>\n",
       "<p>2 rows × 21 columns</p>\n",
       "</div>"
      ],
      "text/plain": [
       "   delta_t    acc0    acc1    acc2   gyro0   gyro1   gyro2    mag0    mag1  \\\n",
       "0   0.0000 -0.0029  0.0003 -0.0003 -0.0194  0.0124 -0.0022 -0.5292 -0.6538   \n",
       "1   0.0891 -0.0029  0.0013  0.0007 -0.0085  0.0023  0.0006 -0.5292 -0.6538   \n",
       "\n",
       "     mag2   ...         y      z    beta     Qx    Qy     Qz   Qw  delta_x  \\\n",
       "0 -0.5275   ...     0.221  0.402 -0.0129  0.005  0.02  0.000  1.0      0.0   \n",
       "1 -0.4945   ...     0.221  0.402 -0.0128  0.005  0.02  0.001  1.0      0.0   \n",
       "\n",
       "   delta_y  delta_z  \n",
       "0      0.0      0.0  \n",
       "1      0.0      0.0  \n",
       "\n",
       "[2 rows x 21 columns]"
      ]
     },
     "execution_count": 8,
     "metadata": {},
     "output_type": "execute_result"
    }
   ],
   "source": [
    "df.head(2)"
   ]
  },
  {
   "cell_type": "markdown",
   "metadata": {},
   "source": [
    "# Set hyperparameters"
   ]
  },
  {
   "cell_type": "code",
   "execution_count": 9,
   "metadata": {},
   "outputs": [],
   "source": [
    "#1D convolution\n",
    "window_size = 20\n",
    "filter_length = 5\n",
    "nb_filter = 4\n",
    "\n",
    "#Train config\n",
    "epochs = 500\n",
    "batch_size = 16\n",
    "validation_split = 0.2"
   ]
  },
  {
   "cell_type": "markdown",
   "metadata": {},
   "source": [
    "# Train NN"
   ]
  },
  {
   "cell_type": "code",
   "execution_count": 10,
   "metadata": {
    "scrolled": true
   },
   "outputs": [
    {
     "name": "stdout",
     "output_type": "stream",
     "text": [
      "_________________________________________________________________\n",
      "Layer (type)                 Output Shape              Param #   \n",
      "=================================================================\n",
      "conv1d_1 (Conv1D)            (None, 16, 4)             204       \n",
      "_________________________________________________________________\n",
      "max_pooling1d_1 (MaxPooling1 (None, 8, 4)              0         \n",
      "_________________________________________________________________\n",
      "conv1d_2 (Conv1D)            (None, 4, 4)              84        \n",
      "_________________________________________________________________\n",
      "max_pooling1d_2 (MaxPooling1 (None, 2, 4)              0         \n",
      "_________________________________________________________________\n",
      "flatten_1 (Flatten)          (None, 8)                 0         \n",
      "_________________________________________________________________\n",
      "dense_1 (Dense)              (None, 3)                 27        \n",
      "=================================================================\n",
      "Total params: 315\n",
      "Trainable params: 315\n",
      "Non-trainable params: 0\n",
      "_________________________________________________________________\n",
      "Train on 3820 samples, validate on 1535 samples\n",
      "Epoch 1/500\n",
      " - 3s - loss: 0.0824 - mean_absolute_error: 0.1769 - val_loss: 0.0370 - val_mean_absolute_error: 0.1251\n",
      "\n",
      "Epoch 00001: val_loss improved from inf to 0.03702, saving model to CNN_weights_dxyz.hdf5\n",
      "Epoch 2/500\n",
      " - 1s - loss: 0.0652 - mean_absolute_error: 0.1504 - val_loss: 0.0335 - val_mean_absolute_error: 0.1158\n",
      "\n",
      "Epoch 00002: val_loss improved from 0.03702 to 0.03351, saving model to CNN_weights_dxyz.hdf5\n",
      "Epoch 3/500\n",
      " - 1s - loss: 0.0611 - mean_absolute_error: 0.1423 - val_loss: 0.0333 - val_mean_absolute_error: 0.1190\n",
      "\n",
      "Epoch 00003: val_loss improved from 0.03351 to 0.03331, saving model to CNN_weights_dxyz.hdf5\n",
      "Epoch 4/500\n",
      " - 1s - loss: 0.0596 - mean_absolute_error: 0.1401 - val_loss: 0.0355 - val_mean_absolute_error: 0.1251\n",
      "\n",
      "Epoch 00004: val_loss did not improve from 0.03331\n",
      "Epoch 5/500\n",
      " - 1s - loss: 0.0584 - mean_absolute_error: 0.1372 - val_loss: 0.0371 - val_mean_absolute_error: 0.1300\n",
      "\n",
      "Epoch 00005: val_loss did not improve from 0.03331\n",
      "Epoch 6/500\n",
      " - 1s - loss: 0.0576 - mean_absolute_error: 0.1371 - val_loss: 0.0364 - val_mean_absolute_error: 0.1281\n",
      "\n",
      "Epoch 00006: val_loss did not improve from 0.03331\n",
      "Epoch 7/500\n",
      " - 1s - loss: 0.0573 - mean_absolute_error: 0.1362 - val_loss: 0.0363 - val_mean_absolute_error: 0.1283\n",
      "\n",
      "Epoch 00007: val_loss did not improve from 0.03331\n",
      "Epoch 8/500\n",
      " - 1s - loss: 0.0570 - mean_absolute_error: 0.1362 - val_loss: 0.0364 - val_mean_absolute_error: 0.1296\n",
      "\n",
      "Epoch 00008: val_loss did not improve from 0.03331\n",
      "Epoch 9/500\n",
      " - 1s - loss: 0.0562 - mean_absolute_error: 0.1351 - val_loss: 0.0391 - val_mean_absolute_error: 0.1344\n",
      "\n",
      "Epoch 00009: val_loss did not improve from 0.03331\n",
      "Epoch 10/500\n",
      " - 1s - loss: 0.0563 - mean_absolute_error: 0.1351 - val_loss: 0.0348 - val_mean_absolute_error: 0.1258\n",
      "\n",
      "Epoch 00010: val_loss did not improve from 0.03331\n",
      "Epoch 11/500\n",
      " - 1s - loss: 0.0557 - mean_absolute_error: 0.1347 - val_loss: 0.0378 - val_mean_absolute_error: 0.1318\n",
      "\n",
      "Epoch 00011: val_loss did not improve from 0.03331\n",
      "Epoch 12/500\n",
      " - 1s - loss: 0.0555 - mean_absolute_error: 0.1341 - val_loss: 0.0384 - val_mean_absolute_error: 0.1322\n",
      "\n",
      "Epoch 00012: val_loss did not improve from 0.03331\n",
      "Epoch 13/500\n",
      " - 1s - loss: 0.0550 - mean_absolute_error: 0.1340 - val_loss: 0.0325 - val_mean_absolute_error: 0.1219\n",
      "\n",
      "Epoch 00013: val_loss improved from 0.03331 to 0.03254, saving model to CNN_weights_dxyz.hdf5\n",
      "Epoch 14/500\n",
      " - 1s - loss: 0.0546 - mean_absolute_error: 0.1339 - val_loss: 0.0361 - val_mean_absolute_error: 0.1276\n",
      "\n",
      "Epoch 00014: val_loss did not improve from 0.03254\n",
      "Epoch 15/500\n",
      " - 1s - loss: 0.0542 - mean_absolute_error: 0.1333 - val_loss: 0.0380 - val_mean_absolute_error: 0.1310\n",
      "\n",
      "Epoch 00015: val_loss did not improve from 0.03254\n",
      "Epoch 16/500\n",
      " - 1s - loss: 0.0542 - mean_absolute_error: 0.1339 - val_loss: 0.0383 - val_mean_absolute_error: 0.1316\n",
      "\n",
      "Epoch 00016: val_loss did not improve from 0.03254\n",
      "Epoch 17/500\n",
      " - 1s - loss: 0.0540 - mean_absolute_error: 0.1332 - val_loss: 0.0368 - val_mean_absolute_error: 0.1280\n",
      "\n",
      "Epoch 00017: val_loss did not improve from 0.03254\n",
      "Epoch 18/500\n",
      " - 1s - loss: 0.0537 - mean_absolute_error: 0.1332 - val_loss: 0.0376 - val_mean_absolute_error: 0.1297\n",
      "\n",
      "Epoch 00018: val_loss did not improve from 0.03254\n",
      "Epoch 19/500\n",
      " - 1s - loss: 0.0538 - mean_absolute_error: 0.1334 - val_loss: 0.0342 - val_mean_absolute_error: 0.1225\n",
      "\n",
      "Epoch 00019: val_loss did not improve from 0.03254\n",
      "Epoch 20/500\n",
      " - 1s - loss: 0.0537 - mean_absolute_error: 0.1324 - val_loss: 0.0367 - val_mean_absolute_error: 0.1264\n",
      "\n",
      "Epoch 00020: val_loss did not improve from 0.03254\n",
      "Epoch 21/500\n",
      " - 1s - loss: 0.0535 - mean_absolute_error: 0.1323 - val_loss: 0.0371 - val_mean_absolute_error: 0.1274\n",
      "\n",
      "Epoch 00021: val_loss did not improve from 0.03254\n",
      "Epoch 22/500\n",
      " - 1s - loss: 0.0534 - mean_absolute_error: 0.1326 - val_loss: 0.0369 - val_mean_absolute_error: 0.1266\n",
      "\n",
      "Epoch 00022: val_loss did not improve from 0.03254\n",
      "Epoch 23/500\n",
      " - 1s - loss: 0.0530 - mean_absolute_error: 0.1311 - val_loss: 0.0369 - val_mean_absolute_error: 0.1270\n",
      "\n",
      "Epoch 00023: val_loss did not improve from 0.03254\n",
      "Epoch 24/500\n",
      " - 1s - loss: 0.0531 - mean_absolute_error: 0.1317 - val_loss: 0.0392 - val_mean_absolute_error: 0.1297\n",
      "\n",
      "Epoch 00024: val_loss did not improve from 0.03254\n",
      "Epoch 25/500\n",
      " - 1s - loss: 0.0532 - mean_absolute_error: 0.1314 - val_loss: 0.0338 - val_mean_absolute_error: 0.1211\n",
      "\n",
      "Epoch 00025: val_loss did not improve from 0.03254\n",
      "Epoch 26/500\n",
      " - 1s - loss: 0.0526 - mean_absolute_error: 0.1309 - val_loss: 0.0352 - val_mean_absolute_error: 0.1219\n",
      "\n",
      "Epoch 00026: val_loss did not improve from 0.03254\n",
      "Epoch 27/500\n",
      " - 1s - loss: 0.0525 - mean_absolute_error: 0.1309 - val_loss: 0.0369 - val_mean_absolute_error: 0.1244\n",
      "\n",
      "Epoch 00027: val_loss did not improve from 0.03254\n",
      "Epoch 28/500\n",
      " - 1s - loss: 0.0525 - mean_absolute_error: 0.1304 - val_loss: 0.0382 - val_mean_absolute_error: 0.1259\n",
      "\n",
      "Epoch 00028: val_loss did not improve from 0.03254\n",
      "Epoch 29/500\n",
      " - 1s - loss: 0.0523 - mean_absolute_error: 0.1301 - val_loss: 0.0416 - val_mean_absolute_error: 0.1301\n",
      "\n",
      "Epoch 00029: val_loss did not improve from 0.03254\n",
      "Epoch 30/500\n",
      " - 1s - loss: 0.0521 - mean_absolute_error: 0.1296 - val_loss: 0.0379 - val_mean_absolute_error: 0.1250\n",
      "\n",
      "Epoch 00030: val_loss did not improve from 0.03254\n",
      "Epoch 31/500\n",
      " - 1s - loss: 0.0519 - mean_absolute_error: 0.1293 - val_loss: 0.0344 - val_mean_absolute_error: 0.1193\n",
      "\n",
      "Epoch 00031: val_loss did not improve from 0.03254\n",
      "Epoch 32/500\n",
      " - 1s - loss: 0.0519 - mean_absolute_error: 0.1289 - val_loss: 0.0375 - val_mean_absolute_error: 0.1232\n",
      "\n",
      "Epoch 00032: val_loss did not improve from 0.03254\n",
      "Epoch 33/500\n",
      " - 1s - loss: 0.0518 - mean_absolute_error: 0.1293 - val_loss: 0.0392 - val_mean_absolute_error: 0.1273\n",
      "\n",
      "Epoch 00033: val_loss did not improve from 0.03254\n",
      "Epoch 34/500\n",
      " - 1s - loss: 0.0520 - mean_absolute_error: 0.1294 - val_loss: 0.0361 - val_mean_absolute_error: 0.1219\n",
      "\n",
      "Epoch 00034: val_loss did not improve from 0.03254\n",
      "Epoch 35/500\n",
      " - 1s - loss: 0.0519 - mean_absolute_error: 0.1291 - val_loss: 0.0352 - val_mean_absolute_error: 0.1179\n",
      "\n",
      "Epoch 00035: val_loss did not improve from 0.03254\n",
      "Epoch 36/500\n",
      " - 1s - loss: 0.0520 - mean_absolute_error: 0.1289 - val_loss: 0.0383 - val_mean_absolute_error: 0.1239\n",
      "\n",
      "Epoch 00036: val_loss did not improve from 0.03254\n",
      "Epoch 37/500\n",
      " - 1s - loss: 0.0516 - mean_absolute_error: 0.1280 - val_loss: 0.0353 - val_mean_absolute_error: 0.1212\n",
      "\n",
      "Epoch 00037: val_loss did not improve from 0.03254\n",
      "Epoch 38/500\n",
      " - 2s - loss: 0.0515 - mean_absolute_error: 0.1286 - val_loss: 0.0378 - val_mean_absolute_error: 0.1235\n",
      "\n",
      "Epoch 00038: val_loss did not improve from 0.03254\n",
      "Epoch 39/500\n",
      " - 1s - loss: 0.0516 - mean_absolute_error: 0.1291 - val_loss: 0.0398 - val_mean_absolute_error: 0.1277\n",
      "\n",
      "Epoch 00039: val_loss did not improve from 0.03254\n",
      "Epoch 40/500\n",
      " - 1s - loss: 0.0515 - mean_absolute_error: 0.1290 - val_loss: 0.0383 - val_mean_absolute_error: 0.1234\n",
      "\n",
      "Epoch 00040: val_loss did not improve from 0.03254\n",
      "Epoch 41/500\n",
      " - 1s - loss: 0.0517 - mean_absolute_error: 0.1286 - val_loss: 0.0381 - val_mean_absolute_error: 0.1229\n"
     ]
    },
    {
     "name": "stdout",
     "output_type": "stream",
     "text": [
      "\n",
      "Epoch 00041: val_loss did not improve from 0.03254\n",
      "Epoch 42/500\n",
      " - 1s - loss: 0.0513 - mean_absolute_error: 0.1280 - val_loss: 0.0409 - val_mean_absolute_error: 0.1299\n",
      "\n",
      "Epoch 00042: val_loss did not improve from 0.03254\n",
      "Epoch 43/500\n",
      " - 1s - loss: 0.0513 - mean_absolute_error: 0.1278 - val_loss: 0.0366 - val_mean_absolute_error: 0.1208\n",
      "\n",
      "Epoch 00043: val_loss did not improve from 0.03254\n",
      "Epoch 44/500\n",
      " - 1s - loss: 0.0514 - mean_absolute_error: 0.1283 - val_loss: 0.0376 - val_mean_absolute_error: 0.1231\n",
      "\n",
      "Epoch 00044: val_loss did not improve from 0.03254\n",
      "Epoch 45/500\n",
      " - 1s - loss: 0.0513 - mean_absolute_error: 0.1281 - val_loss: 0.0400 - val_mean_absolute_error: 0.1264\n",
      "\n",
      "Epoch 00045: val_loss did not improve from 0.03254\n",
      "Epoch 46/500\n",
      " - 1s - loss: 0.0511 - mean_absolute_error: 0.1277 - val_loss: 0.0449 - val_mean_absolute_error: 0.1338\n",
      "\n",
      "Epoch 00046: val_loss did not improve from 0.03254\n",
      "Epoch 47/500\n",
      " - 1s - loss: 0.0514 - mean_absolute_error: 0.1287 - val_loss: 0.0384 - val_mean_absolute_error: 0.1243\n",
      "\n",
      "Epoch 00047: val_loss did not improve from 0.03254\n",
      "Epoch 48/500\n",
      " - 1s - loss: 0.0510 - mean_absolute_error: 0.1279 - val_loss: 0.0361 - val_mean_absolute_error: 0.1204\n",
      "\n",
      "Epoch 00048: val_loss did not improve from 0.03254\n",
      "Epoch 49/500\n",
      " - 1s - loss: 0.0512 - mean_absolute_error: 0.1277 - val_loss: 0.0384 - val_mean_absolute_error: 0.1239\n",
      "\n",
      "Epoch 00049: val_loss did not improve from 0.03254\n",
      "Epoch 50/500\n",
      " - 1s - loss: 0.0511 - mean_absolute_error: 0.1280 - val_loss: 0.0390 - val_mean_absolute_error: 0.1255\n",
      "\n",
      "Epoch 00050: val_loss did not improve from 0.03254\n",
      "Epoch 51/500\n",
      " - 1s - loss: 0.0512 - mean_absolute_error: 0.1283 - val_loss: 0.0377 - val_mean_absolute_error: 0.1242\n",
      "\n",
      "Epoch 00051: val_loss did not improve from 0.03254\n",
      "Epoch 52/500\n",
      " - 1s - loss: 0.0509 - mean_absolute_error: 0.1276 - val_loss: 0.0405 - val_mean_absolute_error: 0.1275\n",
      "\n",
      "Epoch 00052: val_loss did not improve from 0.03254\n",
      "Epoch 53/500\n",
      " - 1s - loss: 0.0510 - mean_absolute_error: 0.1280 - val_loss: 0.0415 - val_mean_absolute_error: 0.1304\n",
      "\n",
      "Epoch 00053: val_loss did not improve from 0.03254\n",
      "Epoch 00053: early stopping\n"
     ]
    },
    {
     "data": {
      "image/png": "[encoded data removed]",
      "text/plain": [
       "<Figure size 432x288 with 1 Axes>"
      ]
     },
     "metadata": {
      "needs_background": "light"
     },
     "output_type": "display_data"
    },
    {
     "data": {
      "image/png": "[encoded data removed]",
      "text/plain": [
       "<Figure size 432x288 with 1 Axes>"
      ]
     },
     "metadata": {
      "needs_background": "light"
     },
     "output_type": "display_data"
    },
    {
     "data": {
      "image/png": "[encoded data removed]",
      "text/plain": [
       "<Figure size 432x288 with 1 Axes>"
      ]
     },
     "metadata": {
      "needs_background": "light"
     },
     "output_type": "display_data"
    }
   ],
   "source": [
    "preds, targets = evalute_timeseries(df,window_size,filter_length,nb_filter, epochs, batch_size)"
   ]
  },
  {
   "cell_type": "markdown",
   "metadata": {},
   "source": [
    "# Draw dxz position prediction with the model"
   ]
  },
  {
   "cell_type": "code",
   "execution_count": 11,
   "metadata": {},
   "outputs": [
    {
     "data": {
      "image/png": "[encoded data removed]",
      "text/plain": [
       "<Figure size 432x288 with 1 Axes>"
      ]
     },
     "metadata": {
      "needs_background": "light"
     },
     "output_type": "display_data"
    }
   ],
   "source": [
    "for i in range(preds.shape[0]):\n",
    "    if i>0:\n",
    "        preds[i,0] = preds[i-1,0] + preds[i,0]\n",
    "        preds[i,1] = preds[i-1,1] + preds[i,1]\n",
    "        preds[i,2] = preds[i-1,2] + preds[i,2]\n",
    "        \n",
    "        targets[i,0] = targets[i-1,0] + targets[i,0]\n",
    "        targets[i,1] = targets[i-1,1] + targets[i,1]\n",
    "        targets[i,2] = targets[i-1,2] + targets[i,2]\n",
    "\n",
    "\n",
    "plt.plot(preds[:,0],preds[:,2], label = 'dxz pred')\n",
    "plt.plot(targets[:,0], targets[:,2], label='xz targ')\n",
    "plt.show()"
   ]
  },
  {
   "cell_type": "code",
   "execution_count": null,
   "metadata": {},
   "outputs": [],
   "source": []
  }
 ],
 "metadata": {
  "kernelspec": {
   "display_name": "Python 3",
   "language": "python",
   "name": "python3"
  },
  "language_info": {
   "codemirror_mode": {
    "name": "ipython",
    "version": 3
   },
   "file_extension": ".py",
   "mimetype": "text/x-python",
   "name": "python",
   "nbconvert_exporter": "python",
   "pygments_lexer": "ipython3",
   "version": "3.5.6"
  }
 },
 "nbformat": 4,
 "nbformat_minor": 2
}
