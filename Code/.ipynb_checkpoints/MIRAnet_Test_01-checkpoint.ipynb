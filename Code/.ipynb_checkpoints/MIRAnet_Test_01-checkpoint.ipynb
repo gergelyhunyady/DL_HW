{
 "cells": [
  {
   "cell_type": "code",
   "execution_count": 3,
   "metadata": {},
   "outputs": [],
   "source": [
    "import os   # for path operations\n",
    "import datetime\n",
    "\n",
    "import tensorflow as tf\n",
    "from tensorflow.python.client import device_lib\n",
    "\n",
    "import numpy as np\n",
    "import pandas as pd\n",
    "import sklearn as sk\n",
    "from sklearn import preprocessing\n",
    "\n",
    "from keras.models import Sequential\n",
    "from keras.layers.core import Activation, Dense, Flatten\n",
    "from keras.optimizers import SGD\n",
    "from keras.layers.convolutional import Conv1D, MaxPooling1D\n",
    "from keras.backend.tensorflow_backend import set_session\n",
    "\n",
    "import matplotlib.pyplot as plt"
   ]
  },
  {
   "cell_type": "code",
   "execution_count": 2,
   "metadata": {},
   "outputs": [
    {
     "name": "stdout",
     "output_type": "stream",
     "text": [
      "[name: \"/device:CPU:0\"\n",
      "device_type: \"CPU\"\n",
      "memory_limit: 268435456\n",
      "locality {\n",
      "}\n",
      "incarnation: 15149126898359847141\n",
      ", name: \"/device:GPU:0\"\n",
      "device_type: \"GPU\"\n",
      "memory_limit: 3168377241\n",
      "locality {\n",
      "  bus_id: 1\n",
      "  links {\n",
      "  }\n",
      "}\n",
      "incarnation: 1603231115756560266\n",
      "physical_device_desc: \"device: 0, name: GeForce GTX 1050, pci bus id: 0000:01:00.0, compute capability: 6.1\"\n",
      "]\n"
     ]
    }
   ],
   "source": [
    "config = tf.ConfigProto()\n",
    "config.gpu_options.allow_growth = True\n",
    "set_session(tf.Session(config=config))\n",
    "# Device check\n",
    "print(device_lib.list_local_devices())"
   ]
  },
  {
   "cell_type": "code",
   "execution_count": null,
   "metadata": {},
   "outputs": [],
   "source": [
    "def make_1d_convnet(window_size, filter_length, nb_input_series=1, nb_outputs=1,nb_filter=4):\n",
    "  model = Sequential()\n",
    "  model.add(Conv1D(filters=nb_filter, kernel_size=filter_length, activation='relu', \n",
    "                   input_shape=(window_size,nb_input_series)))\n",
    "  model.add(MaxPooling1D())\n",
    "  model.add(Conv1D(filters=nb_filter, kernel_size=filter_length, activation='relu'))\n",
    "  model.add(MaxPooling1D())\n",
    "  model.add(Flatten())\n",
    "  model.add(Dense(nb_outputs,activation='linear'))\n",
    "  model.compile(loss='mse', optimizer='adam', metrics=['mae'])\n",
    "  return model"
   ]
  },
  {
   "cell_type": "code",
   "execution_count": null,
   "metadata": {},
   "outputs": [],
   "source": [
    "def make_timeseries_instances(timeseries,window_size):\n",
    "  timeseries = np.asarray(timeseries)\n",
    "  assert 0 < window_size < timeseries.shape[0] , \"Out of range 0 < {} < {}\".format(window_size,timeseries.shape[0])\n",
    "  X = np.atleast_3d(np.array([timeseries[start:start+window_size] for start in range(0,timeseries.shape[0]-window_size)]))\n",
    "  y = timeseries[window_size:]\n",
    "  return X,y"
   ]
  },
  {
   "cell_type": "code",
   "execution_count": null,
   "metadata": {},
   "outputs": [],
   "source": [
    "def evalute_timeseries(timeseries, window_size, filter_length, nb_filter ):\n",
    "  timeseries = np.atleast_2d(timeseries)\n",
    "  if timeseries.shape[0] == 1:\n",
    "    timeseries = timeseries.T\n",
    "  nb_samples, nb_series = timeseries.shape\n",
    "  \n",
    "  model= make_1d_convnet(window_size=window_size, filter_length=filter_length, nb_input_series=nb_series,\n",
    "                        nb_outputs=nb_series,nb_filter=nb_filter)\n",
    "  model.summary()\n",
    "  \n",
    "  X,y = make_timeseries_instances(timeseries, window_size)\n",
    "  \n",
    "  test_size = int(0.3  * nb_samples)\n",
    "  X_train, X_test, y_train, y_test = X[:-test_size], X[-test_size:], y[:-test_size], y[-test_size:]\n",
    "  \n",
    "  model.fit(X_train,y_train, epochs=50, batch_size=16, validation_split=0.2, verbose=2)\n",
    "  \n",
    "  preds=model.predict(X_test)\n",
    "  targets = y_test\n",
    "\n",
    "  plt.plot(preds)\n",
    "  plt.plot(targets)"
   ]
  },
  {
   "cell_type": "markdown",
   "metadata": {},
   "source": [
    "# Load Data"
   ]
  },
  {
   "cell_type": "code",
   "execution_count": 48,
   "metadata": {},
   "outputs": [
    {
     "name": "stdout",
     "output_type": "stream",
     "text": [
      "Number of Measurements: 6.0\n"
     ]
    }
   ],
   "source": [
    "file_list = os.listdir('..\\\\DATA\\\\RAW\\\\Measure_02')\n",
    "nb_meas = len(file_list)/4\n",
    "print(\"Number of Measurements: {}\" .format(nb_meas))"
   ]
  },
  {
   "cell_type": "code",
   "execution_count": 49,
   "metadata": {},
   "outputs": [],
   "source": [
    "meas_list = []\n",
    "for FILE_NAME in file_list:\n",
    "    meas_list.append(FILE_NAME[0:22])\n",
    "meas_list = list(set(meas_list))"
   ]
  },
  {
   "cell_type": "code",
   "execution_count": 56,
   "metadata": {},
   "outputs": [
    {
     "ename": "NameError",
     "evalue": "name 'pd' is not defined",
     "output_type": "error",
     "traceback": [
      "\u001b[1;31m---------------------------------------------------------------------------\u001b[0m",
      "\u001b[1;31mNameError\u001b[0m                                 Traceback (most recent call last)",
      "\u001b[1;32m<ipython-input-56-2d6fe93e6de3>\u001b[0m in \u001b[0;36m<module>\u001b[1;34m()\u001b[0m\n\u001b[0;32m      5\u001b[0m \u001b[0mmeas_date\u001b[0m \u001b[1;33m=\u001b[0m \u001b[0mstr\u001b[0m\u001b[1;33m(\u001b[0m\u001b[0mmeas_list\u001b[0m\u001b[1;33m[\u001b[0m\u001b[0mmeas_id\u001b[0m\u001b[1;33m]\u001b[0m\u001b[1;33m)\u001b[0m\u001b[1;33m\u001b[0m\u001b[0m\n\u001b[0;32m      6\u001b[0m \u001b[1;33m\u001b[0m\u001b[0m\n\u001b[1;32m----> 7\u001b[1;33m imu_data = pd.read_csv('..\\\\DATA\\\\RAW\\\\Measure_01\\\\' + meas_date + 'IMU.txt',\n\u001b[0m\u001b[0;32m      8\u001b[0m                                \u001b[0msep\u001b[0m\u001b[1;33m=\u001b[0m\u001b[1;34m'\\t'\u001b[0m\u001b[1;33m,\u001b[0m\u001b[1;33m\u001b[0m\u001b[0m\n\u001b[0;32m      9\u001b[0m                                \u001b[0mdecimal\u001b[0m\u001b[1;33m=\u001b[0m\u001b[1;34m','\u001b[0m\u001b[1;33m,\u001b[0m\u001b[1;33m\u001b[0m\u001b[0m\n",
      "\u001b[1;31mNameError\u001b[0m: name 'pd' is not defined"
     ]
    }
   ],
   "source": [
    "meas_id = 5\n",
    "if meas_id>(nb_meas-1):\n",
    "    print('Error: Out of range. Meas_id set to default 0')\n",
    "    meas = 0\n",
    "meas_date = str(meas_list[meas_id])\n",
    "\n",
    "imu_data = pd.read_csv('..\\\\DATA\\\\RAW\\\\Measure_01\\\\' + meas_date + 'IMU.txt',\n",
    "                               sep='\\t',\n",
    "                               decimal=',',\n",
    "                               names=['time', 'acc0', 'acc1', 'acc2', 'gyro0', 'gyro1', 'gyro2', 'mag0', 'mag1', 'mag2'])\n"
   ]
  },
  {
   "cell_type": "code",
   "execution_count": 55,
   "metadata": {},
   "outputs": [
    {
     "name": "stdout",
     "output_type": "stream",
     "text": [
      "2018_ 10_ 19_18_21_28_\n"
     ]
    }
   ],
   "source": [
    "print(a)"
   ]
  },
  {
   "cell_type": "code",
   "execution_count": null,
   "metadata": {},
   "outputs": [],
   "source": [
    "f = open('2018_ 10_ 08_17_26_12_IMU.txt','r')\n",
    "filedata = f.read()\n",
    "f.close()"
   ]
  },
  {
   "cell_type": "code",
   "execution_count": null,
   "metadata": {},
   "outputs": [],
   "source": []
  },
  {
   "cell_type": "code",
   "execution_count": null,
   "metadata": {},
   "outputs": [],
   "source": []
  },
  {
   "cell_type": "code",
   "execution_count": null,
   "metadata": {},
   "outputs": [],
   "source": [
    "#1D convolution\n",
    "window_size = 20\n",
    "filter_length = 5\n",
    "nb_filter = 4\n",
    "\n",
    "#Train config\n",
    "epochs = 50\n",
    "batch_size = 16\n",
    "validation_split = 0.2"
   ]
  },
  {
   "cell_type": "code",
   "execution_count": null,
   "metadata": {},
   "outputs": [],
   "source": [
    "#evalute_timeseries(X,window_size,filter_length,nb_filter)"
   ]
  }
 ],
 "metadata": {
  "kernelspec": {
   "display_name": "Python 3",
   "language": "python",
   "name": "python3"
  },
  "language_info": {
   "codemirror_mode": {
    "name": "ipython",
    "version": 3
   },
   "file_extension": ".py",
   "mimetype": "text/x-python",
   "name": "python",
   "nbconvert_exporter": "python",
   "pygments_lexer": "ipython3",
   "version": "3.5.6"
  }
 },
 "nbformat": 4,
 "nbformat_minor": 2
}
