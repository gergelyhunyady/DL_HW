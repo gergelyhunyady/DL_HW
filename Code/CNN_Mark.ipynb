{
 "cells": [
  {
   "cell_type": "markdown",
   "metadata": {},
   "source": [
    "# Imports"
   ]
  },
  {
   "cell_type": "code",
   "execution_count": 1,
   "metadata": {},
   "outputs": [
    {
     "name": "stderr",
     "output_type": "stream",
     "text": [
      "Using TensorFlow backend.\n"
     ]
    }
   ],
   "source": [
    "import os   # For path operations\n",
    "import datetime\n",
    "\n",
    "import hyperas\n",
    "import tensorflow as tf\n",
    "from tensorflow.python.client import device_lib\n",
    "\n",
    "import numpy as np\n",
    "import pandas as pd\n",
    "import sklearn as sk\n",
    "from sklearn import preprocessing\n",
    "\n",
    "from keras.models import Sequential\n",
    "from keras.layers.core import Activation, Dense, Flatten\n",
    "from keras.optimizers import SGD\n",
    "from keras.layers.convolutional import Conv1D, MaxPooling1D\n",
    "from keras.backend.tensorflow_backend import set_session\n",
    "from keras.callbacks import EarlyStopping, CSVLogger, ModelCheckpoint\n",
    "from keras.models import load_model\n",
    "\n",
    "import matplotlib.pyplot as plt"
   ]
  },
  {
   "cell_type": "markdown",
   "metadata": {},
   "source": [
    "# Config GPU env"
   ]
  },
  {
   "cell_type": "code",
   "execution_count": 2,
   "metadata": {},
   "outputs": [
    {
     "name": "stdout",
     "output_type": "stream",
     "text": [
      "[name: \"/device:CPU:0\"\n",
      "device_type: \"CPU\"\n",
      "memory_limit: 268435456\n",
      "locality {\n",
      "}\n",
      "incarnation: 16752874516015148630\n",
      ", name: \"/device:GPU:0\"\n",
      "device_type: \"GPU\"\n",
      "memory_limit: 9215183422\n",
      "locality {\n",
      "  bus_id: 1\n",
      "  links {\n",
      "  }\n",
      "}\n",
      "incarnation: 3414537755732636010\n",
      "physical_device_desc: \"device: 0, name: GeForce GTX 1080 Ti, pci bus id: 0000:01:00.0, compute capability: 6.1\"\n",
      "]\n"
     ]
    }
   ],
   "source": [
    "config = tf.ConfigProto()\n",
    "config.gpu_options.allow_growth = True\n",
    "set_session(tf.Session(config=config))\n",
    "# Device check\n",
    "print(device_lib.list_local_devices())"
   ]
  },
  {
   "cell_type": "markdown",
   "metadata": {},
   "source": [
    "# Def NN"
   ]
  },
  {
   "cell_type": "markdown",
   "metadata": {},
   "source": [
    "## Training options"
   ]
  },
  {
   "cell_type": "code",
   "execution_count": 3,
   "metadata": {},
   "outputs": [],
   "source": [
    "patience=40\n",
    "early_stopping=EarlyStopping(monitor = 'val_loss', patience=patience, verbose=1)\n",
    "checkpointer=ModelCheckpoint(filepath=\"CNN_weights.hdf5\", save_best_only=True, verbose =1)"
   ]
  },
  {
   "cell_type": "markdown",
   "metadata": {},
   "source": [
    "## Create a 1D convnet based on the practice lesson for time series analysis"
   ]
  },
  {
   "cell_type": "code",
   "execution_count": 4,
   "metadata": {},
   "outputs": [],
   "source": [
    "def make_1d_convnet(window_size, filter_length, nb_input_series=1, nb_outputs=1,nb_filter=4):\n",
    "    model = Sequential()\n",
    "    # Defining input shape of the first layer based on desired output type\n",
    "    model.add(Conv1D(filters = nb_filter, kernel_size = filter_length, activation = 'relu', \n",
    "                    input_shape = (window_size,nb_input_series)))\n",
    "    model.add(MaxPooling1D())\n",
    "    model.add(Conv1D(filters = nb_filter, kernel_size = filter_length, activation = 'relu'))\n",
    "    model.add(MaxPooling1D())\n",
    "    model.add(Flatten())\n",
    "    model.add(Dense(nb_outputs,activation = 'linear'))\n",
    "    model.compile(loss = 'mse', optimizer = 'adam', metrics = ['mae'])\n",
    "    return model"
   ]
  },
  {
   "cell_type": "markdown",
   "metadata": {},
   "source": [
    "## Create input and output format from raw data"
   ]
  },
  {
   "cell_type": "code",
   "execution_count": 5,
   "metadata": {},
   "outputs": [],
   "source": [
    "def make_timeseries_instances(out_type,timeseries, window_size, nb_inputs):\n",
    "    timeseries = np.asarray(timeseries)\n",
    "    assert 0 < window_size < timeseries.shape[0] , \"Out of range 0 < {} < {}\".format(window_size,timeseries.shape[0])\n",
    "    # nb_input defines the number of input time series that we use to predict outputs\n",
    "    if out_type == 'xyz':\n",
    "        X = np.atleast_3d(np.array([timeseries[start:start+window_size,:nb_inputs] for start in range(0,timeseries.shape[0]-window_size)]))\n",
    "        for coord in range(3):\n",
    "            np.roll(X[:,coord + 10],1) # Move xyz coordinates to the past\n",
    "        np.delete(X,0,0)\n",
    "    \n",
    "        # We have 3 output signal: x, y and z position    \n",
    "        y = timeseries[window_size:,-11:-8]\n",
    "        np.delete(y,0,0)\n",
    "        \n",
    "    if out_type == 'rot':\n",
    "        temp_arr=timeseries[:, np.r_[:10, 14:18]] # Load sensor data and orientation reference to input\n",
    "        X = np.atleast_3d(np.array([temp_arr[start:start+window_size,:nb_inputs] for start in range(0,temp_arr.shape[0]-window_size)]))\n",
    "        for coord in range(4):\n",
    "            np.roll(X[:,coord + 10],1) # Move orientation coordinates to the past\n",
    "        np.delete(X,0,0)\n",
    "    \n",
    "        # We have 4 output signal: Qx, Qy, Qz and Qw orientation    \n",
    "        y = timeseries[window_size:,-7:-3]\n",
    "        np.delete(y,0,0)\n",
    "        \n",
    "    if out_type == 'dxyz':\n",
    "        X = np.atleast_3d(np.array([timeseries[start:start+window_size,:nb_inputs] for start in range(0,timeseries.shape[0]-window_size)]))\n",
    "    \n",
    "        # We have 3 output signal: dx, dy and dz position    \n",
    "        y = timeseries[window_size:,-3:]\n",
    "        \n",
    "    return X,y"
   ]
  },
  {
   "cell_type": "markdown",
   "metadata": {},
   "source": [
    "## Train the network on timeseries"
   ]
  },
  {
   "cell_type": "code",
   "execution_count": 6,
   "metadata": {},
   "outputs": [],
   "source": [
    "def evalute_timeseries(out_type,timeseries, window_size, filter_length, nb_filter, epochs, batch_size):\n",
    "    if timeseries.shape[0] == 1:\n",
    "        timeseries = timeseries.T\n",
    "    nb_samples, nb_series = timeseries.shape\n",
    "    \n",
    "    # Define in and output size based on output type\n",
    "    if out_type == 'xyz':\n",
    "        nb_inputs = nb_series - 8 # Only 13 inputs (previous x,y,z position is an input now)\n",
    "        nb_outputs = 3\n",
    "    if out_type == 'rot':\n",
    "        nb_inputs = nb_series - 7 # Only 14 inputs (previous Qx,Qy,Qz and Qw orientation is an input now)\n",
    "        nb_outputs = 4\n",
    "    if out_type == 'dxyz':\n",
    "        nb_inputs = nb_series - 11 # Only 10 inputs (previous x,y,z position is an input now)\n",
    "        nb_outputs = 3\n",
    "        \n",
    "    # Initialize model\n",
    "    model= make_1d_convnet(window_size=window_size, filter_length=filter_length, nb_input_series=nb_inputs,\n",
    "                        nb_outputs=nb_outputs,nb_filter=nb_filter)\n",
    "    model.summary()\n",
    "  \n",
    "    # Fill and split the input and output variables\n",
    "    X,y = make_timeseries_instances(out_type,timeseries, window_size,nb_inputs=nb_inputs)\n",
    "  \n",
    "    test_size = int(0.3  * nb_samples)\n",
    "    valid_size = int(0.2 * nb_samples)\n",
    "    X_train, X_valid, X_test = X[:-(test_size+valid_size),:], X[-(test_size+valid_size):-test_size,:], X[-test_size:,:]\n",
    "    y_train, y_valid, y_test = y[:-(test_size+valid_size),:], y[-(test_size+valid_size):-test_size,:], y[-test_size:,:]\n",
    "    \n",
    "    # Train model\n",
    "    model.fit(X_train,y_train, epochs = epochs, batch_size = batch_size, validation_data = (X_valid, y_valid),\n",
    "              verbose = 2, callbacks = [checkpointer,early_stopping])\n",
    "  \n",
    "    # Load the best model for plotting\n",
    "    bestmodel = load_model(\"CNN_weights.hdf5\")\n",
    "    preds = bestmodel.predict(X_test)\n",
    "    targets = y_test\n",
    "    \n",
    "    # Plot the results based on output type\n",
    "    if out_type == 'xyz':\n",
    "        # Plot predicted x vs target x\n",
    "        plt.figure(0)\n",
    "        plt.plot(preds[:,0],color = 'green', label = 'x pred')\n",
    "        plt.plot(targets[:,0],color = 'red', label = 'x targ')\n",
    "    \n",
    "        # Plot predicted z vs target z\n",
    "        plt.figure(1)\n",
    "        plt.plot(preds[:,2],color = 'blue', label = 'z pred')\n",
    "        plt.plot(targets[:,2],color = 'yellow', label = 'z targ')\n",
    "    \n",
    "        # Plot the predicted route vs original route on x-z plane\n",
    "        plt.figure(2)\n",
    "        plt.plot(preds[:,0],preds[:,2], label = 'xz pred')\n",
    "        plt.plot(targets[:,0],targets[:,2], label = 'xz targ')\n",
    "        \n",
    "    if out_type == 'rot':\n",
    "        plt.figure(0,figsize = (15,5))\n",
    "        plt.plot(preds[:,0],color = 'red', label = 'Qx pred')\n",
    "        plt.plot(targets[:,0],color = 'green', label = 'Qx targ')\n",
    "        \n",
    "        plt.figure(1,figsize = (15,5))\n",
    "        plt.plot(preds[:,1],color = 'red', label = 'Qy pred')\n",
    "        plt.plot(targets[:,1],color = 'green', label = 'Qy targ')\n",
    "        \n",
    "        plt.figure(2,figsize = (15,5))\n",
    "        plt.plot(preds[:,2],color = 'red', label = 'Qz pred')\n",
    "        plt.plot(targets[:,2],color = 'green', label = 'Qz targ')\n",
    "        \n",
    "        plt.figure(3,figsize = (15,5))\n",
    "        plt.plot(preds[:,3],color = 'red', label = 'Qw pred')\n",
    "        plt.plot(targets[:,3],color = 'green', label = 'Qw targ')\n",
    "    \n",
    "    if out_type == 'dxyz':\n",
    "        # Plot predicted dx vs target dx\n",
    "        plt.figure(0)\n",
    "        plt.plot(preds[:,0],color = 'green', label = 'dx pred')\n",
    "        plt.plot(targets[:,0],color = 'red', label = 'dx targ')\n",
    "    \n",
    "        # Plot predicted dz vs target dz\n",
    "        plt.figure(1)\n",
    "        plt.plot(preds[:,2],color = 'blue', label = 'dz pred')\n",
    "        plt.plot(targets[:,2],color = 'yellow', label = 'dz targ')\n",
    "    \n",
    "        # Plot the predicted route vs original route on dx-dz plane\n",
    "        plt.figure(2)\n",
    "        plt.plot(preds[:,0],preds[:,2], label = 'dxz pred')\n",
    "        plt.plot(targets[:,0],targets[:,2], label = 'dxz targ')"
   ]
  },
  {
   "cell_type": "markdown",
   "metadata": {},
   "source": [
    "# Load data file"
   ]
  },
  {
   "cell_type": "code",
   "execution_count": 9,
   "metadata": {},
   "outputs": [],
   "source": [
    "df = pd.read_csv('Bazs\\\\PreprocessedData_v2.txt',\n",
    "                               sep='\\t',\n",
    "                               decimal=',')\n",
    "header = df.columns\n",
    "df_arr =np.array(df, dtype='float64')\n",
    "df =pd.DataFrame(df_arr, columns=header)"
   ]
  },
  {
   "cell_type": "code",
   "execution_count": 10,
   "metadata": {},
   "outputs": [
    {
     "data": {
      "text/html": [
       "<div>\n",
       "<style scoped>\n",
       "    .dataframe tbody tr th:only-of-type {\n",
       "        vertical-align: middle;\n",
       "    }\n",
       "\n",
       "    .dataframe tbody tr th {\n",
       "        vertical-align: top;\n",
       "    }\n",
       "\n",
       "    .dataframe thead th {\n",
       "        text-align: right;\n",
       "    }\n",
       "</style>\n",
       "<table border=\"1\" class=\"dataframe\">\n",
       "  <thead>\n",
       "    <tr style=\"text-align: right;\">\n",
       "      <th></th>\n",
       "      <th>delta_t</th>\n",
       "      <th>acc0</th>\n",
       "      <th>acc1</th>\n",
       "      <th>acc2</th>\n",
       "      <th>gyro0</th>\n",
       "      <th>gyro1</th>\n",
       "      <th>gyro2</th>\n",
       "      <th>mag0</th>\n",
       "      <th>mag1</th>\n",
       "      <th>mag2</th>\n",
       "      <th>...</th>\n",
       "      <th>y</th>\n",
       "      <th>z</th>\n",
       "      <th>beta</th>\n",
       "      <th>Qx</th>\n",
       "      <th>Qy</th>\n",
       "      <th>Qz</th>\n",
       "      <th>Qw</th>\n",
       "      <th>delta_x</th>\n",
       "      <th>delta_y</th>\n",
       "      <th>delta_z</th>\n",
       "    </tr>\n",
       "  </thead>\n",
       "  <tbody>\n",
       "    <tr>\n",
       "      <th>0</th>\n",
       "      <td>0.0000</td>\n",
       "      <td>-0.0029</td>\n",
       "      <td>0.0003</td>\n",
       "      <td>-0.0003</td>\n",
       "      <td>-0.0194</td>\n",
       "      <td>0.0124</td>\n",
       "      <td>-0.0022</td>\n",
       "      <td>-0.5292</td>\n",
       "      <td>-0.6538</td>\n",
       "      <td>-0.5275</td>\n",
       "      <td>...</td>\n",
       "      <td>0.221</td>\n",
       "      <td>0.402</td>\n",
       "      <td>-0.0129</td>\n",
       "      <td>0.005</td>\n",
       "      <td>0.02</td>\n",
       "      <td>0.000</td>\n",
       "      <td>1.0</td>\n",
       "      <td>0.0</td>\n",
       "      <td>0.0</td>\n",
       "      <td>0.0</td>\n",
       "    </tr>\n",
       "    <tr>\n",
       "      <th>1</th>\n",
       "      <td>0.0891</td>\n",
       "      <td>-0.0029</td>\n",
       "      <td>0.0013</td>\n",
       "      <td>0.0007</td>\n",
       "      <td>-0.0085</td>\n",
       "      <td>0.0023</td>\n",
       "      <td>0.0006</td>\n",
       "      <td>-0.5292</td>\n",
       "      <td>-0.6538</td>\n",
       "      <td>-0.4945</td>\n",
       "      <td>...</td>\n",
       "      <td>0.221</td>\n",
       "      <td>0.402</td>\n",
       "      <td>-0.0128</td>\n",
       "      <td>0.005</td>\n",
       "      <td>0.02</td>\n",
       "      <td>0.001</td>\n",
       "      <td>1.0</td>\n",
       "      <td>0.0</td>\n",
       "      <td>0.0</td>\n",
       "      <td>0.0</td>\n",
       "    </tr>\n",
       "  </tbody>\n",
       "</table>\n",
       "<p>2 rows × 21 columns</p>\n",
       "</div>"
      ],
      "text/plain": [
       "   delta_t    acc0    acc1    acc2   gyro0   gyro1   gyro2    mag0    mag1  \\\n",
       "0   0.0000 -0.0029  0.0003 -0.0003 -0.0194  0.0124 -0.0022 -0.5292 -0.6538   \n",
       "1   0.0891 -0.0029  0.0013  0.0007 -0.0085  0.0023  0.0006 -0.5292 -0.6538   \n",
       "\n",
       "     mag2   ...         y      z    beta     Qx    Qy     Qz   Qw  delta_x  \\\n",
       "0 -0.5275   ...     0.221  0.402 -0.0129  0.005  0.02  0.000  1.0      0.0   \n",
       "1 -0.4945   ...     0.221  0.402 -0.0128  0.005  0.02  0.001  1.0      0.0   \n",
       "\n",
       "   delta_y  delta_z  \n",
       "0      0.0      0.0  \n",
       "1      0.0      0.0  \n",
       "\n",
       "[2 rows x 21 columns]"
      ]
     },
     "execution_count": 10,
     "metadata": {},
     "output_type": "execute_result"
    }
   ],
   "source": [
    "df.head(2)"
   ]
  },
  {
   "cell_type": "markdown",
   "metadata": {},
   "source": [
    "# Set hyperparameters"
   ]
  },
  {
   "cell_type": "code",
   "execution_count": 11,
   "metadata": {},
   "outputs": [],
   "source": [
    "#1D convolution\n",
    "window_size = 20\n",
    "filter_length = 5\n",
    "nb_filter = 4\n",
    "\n",
    "#Train config\n",
    "epochs = 500\n",
    "batch_size = 16\n",
    "validation_split = 0.2"
   ]
  },
  {
   "cell_type": "markdown",
   "metadata": {},
   "source": [
    "# Train NN"
   ]
  },
  {
   "cell_type": "code",
   "execution_count": 12,
   "metadata": {
    "scrolled": true
   },
   "outputs": [
    {
     "name": "stdout",
     "output_type": "stream",
     "text": [
      "_________________________________________________________________\n",
      "Layer (type)                 Output Shape              Param #   \n",
      "=================================================================\n",
      "conv1d_1 (Conv1D)            (None, 16, 4)             204       \n",
      "_________________________________________________________________\n",
      "max_pooling1d_1 (MaxPooling1 (None, 8, 4)              0         \n",
      "_________________________________________________________________\n",
      "conv1d_2 (Conv1D)            (None, 4, 4)              84        \n",
      "_________________________________________________________________\n",
      "max_pooling1d_2 (MaxPooling1 (None, 2, 4)              0         \n",
      "_________________________________________________________________\n",
      "flatten_1 (Flatten)          (None, 8)                 0         \n",
      "_________________________________________________________________\n",
      "dense_1 (Dense)              (None, 3)                 27        \n",
      "=================================================================\n",
      "Total params: 315\n",
      "Trainable params: 315\n",
      "Non-trainable params: 0\n",
      "_________________________________________________________________\n",
      "Train on 3820 samples, validate on 1535 samples\n",
      "Epoch 1/500\n",
      " - 2s - loss: 0.0945 - mean_absolute_error: 0.1914 - val_loss: 0.0399 - val_mean_absolute_error: 0.1171\n",
      "\n",
      "Epoch 00001: val_loss improved from inf to 0.03989, saving model to CNN_weights.hdf5\n",
      "Epoch 2/500\n",
      " - 1s - loss: 0.0683 - mean_absolute_error: 0.1537 - val_loss: 0.0352 - val_mean_absolute_error: 0.1150\n",
      "\n",
      "Epoch 00002: val_loss improved from 0.03989 to 0.03519, saving model to CNN_weights.hdf5\n",
      "Epoch 3/500\n",
      " - 1s - loss: 0.0647 - mean_absolute_error: 0.1502 - val_loss: 0.0343 - val_mean_absolute_error: 0.1202\n",
      "\n",
      "Epoch 00003: val_loss improved from 0.03519 to 0.03428, saving model to CNN_weights.hdf5\n",
      "Epoch 4/500\n",
      " - 1s - loss: 0.0627 - mean_absolute_error: 0.1482 - val_loss: 0.0312 - val_mean_absolute_error: 0.1148\n",
      "\n",
      "Epoch 00004: val_loss improved from 0.03428 to 0.03119, saving model to CNN_weights.hdf5\n",
      "Epoch 5/500\n",
      " - 1s - loss: 0.0603 - mean_absolute_error: 0.1430 - val_loss: 0.0327 - val_mean_absolute_error: 0.1198\n",
      "\n",
      "Epoch 00005: val_loss did not improve from 0.03119\n",
      "Epoch 6/500\n",
      " - 1s - loss: 0.0590 - mean_absolute_error: 0.1410 - val_loss: 0.0331 - val_mean_absolute_error: 0.1217\n",
      "\n",
      "Epoch 00006: val_loss did not improve from 0.03119\n",
      "Epoch 7/500\n",
      " - 1s - loss: 0.0582 - mean_absolute_error: 0.1399 - val_loss: 0.0338 - val_mean_absolute_error: 0.1232\n",
      "\n",
      "Epoch 00007: val_loss did not improve from 0.03119\n",
      "Epoch 8/500\n",
      " - 1s - loss: 0.0573 - mean_absolute_error: 0.1385 - val_loss: 0.0332 - val_mean_absolute_error: 0.1229\n",
      "\n",
      "Epoch 00008: val_loss did not improve from 0.03119\n",
      "Epoch 9/500\n",
      " - 1s - loss: 0.0569 - mean_absolute_error: 0.1373 - val_loss: 0.0348 - val_mean_absolute_error: 0.1278\n",
      "\n",
      "Epoch 00009: val_loss did not improve from 0.03119\n",
      "Epoch 10/500\n",
      " - 1s - loss: 0.0563 - mean_absolute_error: 0.1364 - val_loss: 0.0337 - val_mean_absolute_error: 0.1229\n",
      "\n",
      "Epoch 00010: val_loss did not improve from 0.03119\n",
      "Epoch 11/500\n",
      " - 1s - loss: 0.0559 - mean_absolute_error: 0.1348 - val_loss: 0.0348 - val_mean_absolute_error: 0.1250\n",
      "\n",
      "Epoch 00011: val_loss did not improve from 0.03119\n",
      "Epoch 12/500\n",
      " - 1s - loss: 0.0553 - mean_absolute_error: 0.1338 - val_loss: 0.0346 - val_mean_absolute_error: 0.1233\n",
      "\n",
      "Epoch 00012: val_loss did not improve from 0.03119\n",
      "Epoch 13/500\n",
      " - 1s - loss: 0.0550 - mean_absolute_error: 0.1319 - val_loss: 0.0367 - val_mean_absolute_error: 0.1249\n",
      "\n",
      "Epoch 00013: val_loss did not improve from 0.03119\n",
      "Epoch 14/500\n",
      " - 1s - loss: 0.0546 - mean_absolute_error: 0.1319 - val_loss: 0.0331 - val_mean_absolute_error: 0.1181\n",
      "\n",
      "Epoch 00014: val_loss did not improve from 0.03119\n",
      "Epoch 15/500\n",
      " - 1s - loss: 0.0543 - mean_absolute_error: 0.1304 - val_loss: 0.0343 - val_mean_absolute_error: 0.1193\n",
      "\n",
      "Epoch 00015: val_loss did not improve from 0.03119\n",
      "Epoch 16/500\n",
      " - 1s - loss: 0.0538 - mean_absolute_error: 0.1305 - val_loss: 0.0358 - val_mean_absolute_error: 0.1233\n",
      "\n",
      "Epoch 00016: val_loss did not improve from 0.03119\n",
      "Epoch 17/500\n",
      " - 1s - loss: 0.0537 - mean_absolute_error: 0.1305 - val_loss: 0.0341 - val_mean_absolute_error: 0.1205\n",
      "\n",
      "Epoch 00017: val_loss did not improve from 0.03119\n",
      "Epoch 18/500\n",
      " - 1s - loss: 0.0533 - mean_absolute_error: 0.1300 - val_loss: 0.0321 - val_mean_absolute_error: 0.1159\n",
      "\n",
      "Epoch 00018: val_loss did not improve from 0.03119\n",
      "Epoch 19/500\n",
      " - 1s - loss: 0.0531 - mean_absolute_error: 0.1298 - val_loss: 0.0370 - val_mean_absolute_error: 0.1273\n",
      "\n",
      "Epoch 00019: val_loss did not improve from 0.03119\n",
      "Epoch 20/500\n",
      " - 1s - loss: 0.0525 - mean_absolute_error: 0.1288 - val_loss: 0.0366 - val_mean_absolute_error: 0.1269\n",
      "\n",
      "Epoch 00020: val_loss did not improve from 0.03119\n",
      "Epoch 21/500\n",
      " - 1s - loss: 0.0521 - mean_absolute_error: 0.1288 - val_loss: 0.0364 - val_mean_absolute_error: 0.1250\n",
      "\n",
      "Epoch 00021: val_loss did not improve from 0.03119\n",
      "Epoch 22/500\n",
      " - 1s - loss: 0.0521 - mean_absolute_error: 0.1281 - val_loss: 0.0400 - val_mean_absolute_error: 0.1290\n",
      "\n",
      "Epoch 00022: val_loss did not improve from 0.03119\n",
      "Epoch 23/500\n",
      " - 1s - loss: 0.0519 - mean_absolute_error: 0.1285 - val_loss: 0.0385 - val_mean_absolute_error: 0.1291\n",
      "\n",
      "Epoch 00023: val_loss did not improve from 0.03119\n",
      "Epoch 24/500\n",
      " - 1s - loss: 0.0519 - mean_absolute_error: 0.1283 - val_loss: 0.0372 - val_mean_absolute_error: 0.1275\n",
      "\n",
      "Epoch 00024: val_loss did not improve from 0.03119\n",
      "Epoch 25/500\n",
      " - 1s - loss: 0.0516 - mean_absolute_error: 0.1272 - val_loss: 0.0428 - val_mean_absolute_error: 0.1352\n",
      "\n",
      "Epoch 00025: val_loss did not improve from 0.03119\n",
      "Epoch 26/500\n",
      " - 1s - loss: 0.0514 - mean_absolute_error: 0.1278 - val_loss: 0.0374 - val_mean_absolute_error: 0.1261\n",
      "\n",
      "Epoch 00026: val_loss did not improve from 0.03119\n",
      "Epoch 27/500\n",
      " - 1s - loss: 0.0511 - mean_absolute_error: 0.1269 - val_loss: 0.0409 - val_mean_absolute_error: 0.1326\n",
      "\n",
      "Epoch 00027: val_loss did not improve from 0.03119\n",
      "Epoch 28/500\n",
      " - 1s - loss: 0.0508 - mean_absolute_error: 0.1268 - val_loss: 0.0393 - val_mean_absolute_error: 0.1291\n",
      "\n",
      "Epoch 00028: val_loss did not improve from 0.03119\n",
      "Epoch 29/500\n",
      " - 1s - loss: 0.0507 - mean_absolute_error: 0.1264 - val_loss: 0.0395 - val_mean_absolute_error: 0.1297\n",
      "\n",
      "Epoch 00029: val_loss did not improve from 0.03119\n",
      "Epoch 30/500\n",
      " - 1s - loss: 0.0507 - mean_absolute_error: 0.1268 - val_loss: 0.0421 - val_mean_absolute_error: 0.1351\n",
      "\n",
      "Epoch 00030: val_loss did not improve from 0.03119\n",
      "Epoch 31/500\n",
      " - 1s - loss: 0.0507 - mean_absolute_error: 0.1267 - val_loss: 0.0379 - val_mean_absolute_error: 0.1255\n",
      "\n",
      "Epoch 00031: val_loss did not improve from 0.03119\n",
      "Epoch 32/500\n",
      " - 1s - loss: 0.0507 - mean_absolute_error: 0.1266 - val_loss: 0.0396 - val_mean_absolute_error: 0.1308\n",
      "\n",
      "Epoch 00032: val_loss did not improve from 0.03119\n",
      "Epoch 33/500\n",
      " - 1s - loss: 0.0506 - mean_absolute_error: 0.1261 - val_loss: 0.0414 - val_mean_absolute_error: 0.1323\n",
      "\n",
      "Epoch 00033: val_loss did not improve from 0.03119\n",
      "Epoch 34/500\n",
      " - 1s - loss: 0.0502 - mean_absolute_error: 0.1259 - val_loss: 0.0406 - val_mean_absolute_error: 0.1309\n",
      "\n",
      "Epoch 00034: val_loss did not improve from 0.03119\n",
      "Epoch 35/500\n",
      " - 1s - loss: 0.0501 - mean_absolute_error: 0.1262 - val_loss: 0.0401 - val_mean_absolute_error: 0.1307\n",
      "\n",
      "Epoch 00035: val_loss did not improve from 0.03119\n",
      "Epoch 36/500\n",
      " - 1s - loss: 0.0498 - mean_absolute_error: 0.1263 - val_loss: 0.0401 - val_mean_absolute_error: 0.1301\n",
      "\n",
      "Epoch 00036: val_loss did not improve from 0.03119\n",
      "Epoch 37/500\n",
      " - 1s - loss: 0.0497 - mean_absolute_error: 0.1256 - val_loss: 0.0402 - val_mean_absolute_error: 0.1305\n",
      "\n",
      "Epoch 00037: val_loss did not improve from 0.03119\n",
      "Epoch 38/500\n",
      " - 1s - loss: 0.0496 - mean_absolute_error: 0.1258 - val_loss: 0.0385 - val_mean_absolute_error: 0.1262\n",
      "\n",
      "Epoch 00038: val_loss did not improve from 0.03119\n",
      "Epoch 39/500\n",
      " - 1s - loss: 0.0499 - mean_absolute_error: 0.1257 - val_loss: 0.0410 - val_mean_absolute_error: 0.1309\n",
      "\n",
      "Epoch 00039: val_loss did not improve from 0.03119\n",
      "Epoch 40/500\n",
      " - 1s - loss: 0.0493 - mean_absolute_error: 0.1254 - val_loss: 0.0421 - val_mean_absolute_error: 0.1334\n",
      "\n",
      "Epoch 00040: val_loss did not improve from 0.03119\n",
      "Epoch 41/500\n",
      " - 1s - loss: 0.0496 - mean_absolute_error: 0.1253 - val_loss: 0.0392 - val_mean_absolute_error: 0.1286\n",
      "\n",
      "Epoch 00041: val_loss did not improve from 0.03119\n",
      "Epoch 42/500\n"
     ]
    },
    {
     "name": "stdout",
     "output_type": "stream",
     "text": [
      " - 1s - loss: 0.0491 - mean_absolute_error: 0.1254 - val_loss: 0.0402 - val_mean_absolute_error: 0.1304\n",
      "\n",
      "Epoch 00042: val_loss did not improve from 0.03119\n",
      "Epoch 43/500\n",
      " - 1s - loss: 0.0491 - mean_absolute_error: 0.1249 - val_loss: 0.0416 - val_mean_absolute_error: 0.1319\n",
      "\n",
      "Epoch 00043: val_loss did not improve from 0.03119\n",
      "Epoch 44/500\n",
      " - 1s - loss: 0.0490 - mean_absolute_error: 0.1254 - val_loss: 0.0404 - val_mean_absolute_error: 0.1306\n",
      "\n",
      "Epoch 00044: val_loss did not improve from 0.03119\n",
      "Epoch 00044: early stopping\n"
     ]
    },
    {
     "data": {
      "image/png": "[encoded data removed]",
      "text/plain": [
       "<Figure size 432x288 with 1 Axes>"
      ]
     },
     "metadata": {
      "needs_background": "light"
     },
     "output_type": "display_data"
    },
    {
     "data": {
      "image/png": "[encoded data removed]",
      "text/plain": [
       "<Figure size 432x288 with 1 Axes>"
      ]
     },
     "metadata": {
      "needs_background": "light"
     },
     "output_type": "display_data"
    },
    {
     "data": {
      "image/png": "[encoded data removed]",
      "text/plain": [
       "<Figure size 432x288 with 1 Axes>"
      ]
     },
     "metadata": {
      "needs_background": "light"
     },
     "output_type": "display_data"
    }
   ],
   "source": [
    "#use 'xyz' or 'rot' to choose output\n",
    "evalute_timeseries('dxyz',df,window_size,filter_length,nb_filter, epochs, batch_size)"
   ]
  },
  {
   "cell_type": "markdown",
   "metadata": {},
   "source": [
    "# Draw xz position prediction with the model (previous position is the reference data)"
   ]
  },
  {
   "cell_type": "code",
   "execution_count": null,
   "metadata": {},
   "outputs": [],
   "source": [
    "# Predict with reference dataset\n",
    "X,y = make_timeseries_instances('xyz',df, window_size,nb_inputs=13)\n",
    "model = load_model(\"CNN_weights.hdf5\")\n",
    "y_pred = model.predict(X)\n",
    "plt.figure(0)\n",
    "plt.plot(y_pred[:,0],y_pred[:,2], label='xz pred')\n",
    "plt.plot(y[:,0],y[:,2], label='xz targ')"
   ]
  },
  {
   "cell_type": "markdown",
   "metadata": {},
   "source": [
    "# Draw xz position prediction with the model (previous position is predicted)"
   ]
  },
  {
   "cell_type": "code",
   "execution_count": null,
   "metadata": {},
   "outputs": [],
   "source": [
    "# Predict with calculated data\n",
    "newX=X\n",
    "print(newX.shape)\n",
    "print(y.shape)\n",
    "\n",
    "newy_pred=np.empty(y.shape)\n",
    "for index in range(y.shape[0]-1):\n",
    "    if index > 0:\n",
    "        temp=newX[index,-1]\n",
    "        newX[index]=np.roll(newX[index-1],-1, axis=0)\n",
    "        newX[index,-1]=temp\n",
    "        for coord in range(3):  \n",
    "            newX[index,-1,coord+10]=newy_pred[index,coord]\n",
    "    tmp=np.empty((1,20,13))\n",
    "    tmp[0]=newX[index]\n",
    "    newy_pred[index]=model.predict(tmp)\n",
    "    \n",
    "plt.figure(0)\n",
    "plt.plot(newy_pred[:,0],newy_pred[:,2], label='xz pred')\n",
    "plt.plot(y[:,0],y[:,2], label='xz targ')"
   ]
  },
  {
   "cell_type": "code",
   "execution_count": null,
   "metadata": {},
   "outputs": [],
   "source": []
  }
 ],
 "metadata": {
  "kernelspec": {
   "display_name": "Python 3",
   "language": "python",
   "name": "python3"
  },
  "language_info": {
   "codemirror_mode": {
    "name": "ipython",
    "version": 3
   },
   "file_extension": ".py",
   "mimetype": "text/x-python",
   "name": "python",
   "nbconvert_exporter": "python",
   "pygments_lexer": "ipython3",
   "version": "3.5.6"
  }
 },
 "nbformat": 4,
 "nbformat_minor": 2
}
