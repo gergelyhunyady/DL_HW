{
 "cells": [
  {
   "cell_type": "markdown",
   "metadata": {},
   "source": [
    "# Imports"
   ]
  },
  {
   "cell_type": "code",
   "execution_count": 1,
   "metadata": {},
   "outputs": [
    {
     "name": "stderr",
     "output_type": "stream",
     "text": [
      "Using TensorFlow backend.\n"
     ]
    }
   ],
   "source": [
    "import os   # For path operations\n",
    "import datetime\n",
    "\n",
    "import hyperas\n",
    "import tensorflow as tf\n",
    "from tensorflow.python.client import device_lib\n",
    "\n",
    "import numpy as np\n",
    "import pandas as pd\n",
    "import sklearn as sk\n",
    "from sklearn import preprocessing\n",
    "\n",
    "from keras.models import Sequential\n",
    "from keras.layers.core import Activation, Dense, Flatten\n",
    "from keras.optimizers import SGD\n",
    "from keras.layers.convolutional import Conv1D, MaxPooling1D\n",
    "from keras.backend.tensorflow_backend import set_session\n",
    "from keras.callbacks import EarlyStopping, CSVLogger, ModelCheckpoint\n",
    "from keras.models import load_model\n",
    "\n",
    "import matplotlib.pyplot as plt"
   ]
  },
  {
   "cell_type": "markdown",
   "metadata": {},
   "source": [
    "# Config GPU env"
   ]
  },
  {
   "cell_type": "code",
   "execution_count": 2,
   "metadata": {},
   "outputs": [
    {
     "name": "stdout",
     "output_type": "stream",
     "text": [
      "[name: \"/device:CPU:0\"\n",
      "device_type: \"CPU\"\n",
      "memory_limit: 268435456\n",
      "locality {\n",
      "}\n",
      "incarnation: 4306400793311566863\n",
      ", name: \"/device:GPU:0\"\n",
      "device_type: \"GPU\"\n",
      "memory_limit: 3168377241\n",
      "locality {\n",
      "  bus_id: 1\n",
      "  links {\n",
      "  }\n",
      "}\n",
      "incarnation: 10587955741503257222\n",
      "physical_device_desc: \"device: 0, name: GeForce GTX 1050, pci bus id: 0000:01:00.0, compute capability: 6.1\"\n",
      "]\n"
     ]
    }
   ],
   "source": [
    "config = tf.ConfigProto()\n",
    "config.gpu_options.allow_growth = True\n",
    "set_session(tf.Session(config=config))\n",
    "# Device check\n",
    "print(device_lib.list_local_devices())"
   ]
  },
  {
   "cell_type": "markdown",
   "metadata": {},
   "source": [
    "# Def NN"
   ]
  },
  {
   "cell_type": "markdown",
   "metadata": {},
   "source": [
    "## Training options (output type defined here)"
   ]
  },
  {
   "cell_type": "code",
   "execution_count": 3,
   "metadata": {},
   "outputs": [],
   "source": [
    "#Change training mode between xyz or rot to define output type\n",
    "training_mode = 'xyz'\n",
    "patience=40\n",
    "early_stopping=EarlyStopping(monitor = 'val_loss', patience=patience, verbose=1)\n",
    "checkpointer=ModelCheckpoint(filepath=\"CNN_weights_abs\"+training_mode+\".hdf5\", save_best_only=True, verbose =1)"
   ]
  },
  {
   "cell_type": "markdown",
   "metadata": {},
   "source": [
    "## Create a 1D convnet based on the practice lesson for time series analysis"
   ]
  },
  {
   "cell_type": "code",
   "execution_count": 4,
   "metadata": {},
   "outputs": [],
   "source": [
    "def make_1d_convnet(window_size, filter_length, nb_input_series=1, nb_outputs=1,nb_filter=4):\n",
    "    model = Sequential()\n",
    "    # Defining input shape of the first layer based on desired output type\n",
    "    model.add(Conv1D(filters = nb_filter, kernel_size = filter_length, activation = 'relu', \n",
    "                    input_shape = (window_size,nb_input_series)))\n",
    "    model.add(MaxPooling1D())\n",
    "    model.add(Conv1D(filters = nb_filter, kernel_size = filter_length, activation = 'relu'))\n",
    "    model.add(MaxPooling1D())\n",
    "    model.add(Flatten())model.add(Dense\n",
    "    model.add(Dense(nb_outputs,activation = 'linear'))\n",
    "    model.compile(loss = 'mse', optimizer = 'adam', metrics = ['mae'])\n",
    "    return model"
   ]
  },
  {
   "cell_type": "markdown",
   "metadata": {},
   "source": [
    "## Create input and output format from raw data"
   ]
  },
  {
   "cell_type": "code",
   "execution_count": 5,
   "metadata": {},
   "outputs": [],
   "source": [
    "def make_timeseries_instances(out_type,timeseries, window_size, nb_inputs):\n",
    "    timeseries = np.asarray(timeseries)\n",
    "    assert 0 < window_size < timeseries.shape[0] , \"Out of range 0 < {} < {}\".format(window_size,timeseries.shape[0])\n",
    "    # nb_input defines the number of input time series that we use to predict outputs\n",
    "    if out_type == 'xyz':\n",
    "        X = np.atleast_3d(np.array([timeseries[start:start+window_size,:nb_inputs] for start in range(0,timeseries.shape[0]-window_size)]))\n",
    "        for coord in range(3):\n",
    "            np.roll(X[:,coord + 10],1) # Move xyz coordinates to the past\n",
    "        np.delete(X,0,0)\n",
    "    \n",
    "        # We have 3 output signal: x, y and z position    \n",
    "        y = timeseries[window_size:,-11:-8]\n",
    "        np.delete(y,0,0)\n",
    "        \n",
    "    if out_type == 'rot':\n",
    "        temp_arr=timeseries[:, np.r_[:10, 14:18]] # Load sensor data and orientation reference to input\n",
    "        X = np.atleast_3d(np.array([temp_arr[start:start+window_size,:nb_inputs] for start in range(0,temp_arr.shape[0]-window_size)]))\n",
    "        for coord in range(4):\n",
    "            np.roll(X[:,coord + 10],1) # Move orientation coordinates to the past\n",
    "        np.delete(X,0,0)\n",
    "    \n",
    "        # We have 4 output signal: Qx, Qy, Qz and Qw orientation    \n",
    "        y = timeseries[window_size:,-7:-3]\n",
    "        np.delete(y,0,0)\n",
    "        \n",
    "    return X,y"
   ]
  },
  {
   "cell_type": "markdown",
   "metadata": {},
   "source": [
    "## Train the network on timeseries"
   ]
  },
  {
   "cell_type": "code",
   "execution_count": 6,
   "metadata": {},
   "outputs": [],
   "source": [
    "def evalute_timeseries(out_type,timeseries, window_size, filter_length, nb_filter, epochs, batch_size):\n",
    "    if timeseries.shape[0] == 1:\n",
    "        timeseries = timeseries.T\n",
    "    nb_samples, nb_series = timeseries.shape\n",
    "    \n",
    "    # Define in and output size based on output type\n",
    "    if out_type == 'xyz':\n",
    "        nb_inputs = nb_series - 8 # Only 13 inputs (previous x,y,z position is an input now)\n",
    "        nb_outputs = 3\n",
    "    if out_type == 'rot':\n",
    "        nb_inputs = nb_series - 7 # Only 14 inputs (previous Qx,Qy,Qz and Qw orientation is an input now)\n",
    "        nb_outputs = 4\n",
    "        \n",
    "    # Initialize model\n",
    "    model= make_1d_convnet(window_size=window_size, filter_length=filter_length, nb_input_series=nb_inputs,\n",
    "                        nb_outputs=nb_outputs,nb_filter=nb_filter)\n",
    "    model.summary()\n",
    "  \n",
    "    # Fill and split the input and output variables\n",
    "    X,y = make_timeseries_instances(out_type,timeseries, window_size,nb_inputs=nb_inputs)\n",
    "  \n",
    "    test_size = int(0.3  * nb_samples)\n",
    "    valid_size = int(0.2 * nb_samples)\n",
    "    X_train, X_valid, X_test = X[:-(test_size+valid_size),:], X[-(test_size+valid_size):-test_size,:], X[-test_size:,:]\n",
    "    y_train, y_valid, y_test = y[:-(test_size+valid_size),:], y[-(test_size+valid_size):-test_size,:], y[-test_size:,:]\n",
    "    \n",
    "    # Train model\n",
    "    model.fit(X_train,y_train, epochs = epochs, batch_size = batch_size, validation_data = (X_valid, y_valid),\n",
    "              verbose = 2, callbacks = [checkpointer,early_stopping])\n",
    "  \n",
    "    # Load the best model for plotting\n",
    "    bestmodel = load_model(\"CNN_weights_abs\"+out_type+\".hdf5\")\n",
    "    preds = bestmodel.predict(X_test)\n",
    "    targets = y_test\n",
    "    \n",
    "    # Plot the results based on output type\n",
    "    if out_type == 'xyz':\n",
    "        # Plot predicted x vs target x\n",
    "        plt.figure(0)\n",
    "        plt.plot(preds[:,0],color = 'green', label = 'x pred')\n",
    "        plt.plot(targets[:,0],color = 'red', label = 'x targ')\n",
    "    \n",
    "        # Plot predicted z vs target z\n",
    "        plt.figure(1)\n",
    "        plt.plot(preds[:,2],color = 'blue', label = 'z pred')\n",
    "        plt.plot(targets[:,2],color = 'yellow', label = 'z targ')\n",
    "    \n",
    "        # Plot the predicted route vs original route on x-z plane\n",
    "        plt.figure(2)\n",
    "        plt.plot(preds[:,0],preds[:,2], label = 'xz pred')\n",
    "        plt.plot(targets[:,0],targets[:,2], label = 'xz targ')\n",
    "        \n",
    "    if out_type == 'rot':\n",
    "        plt.figure(0,figsize = (15,5))\n",
    "        plt.plot(preds[:,0],color = 'red', label = 'Qx pred')\n",
    "        plt.plot(targets[:,0],color = 'green', label = 'Qx targ')\n",
    "        \n",
    "        plt.figure(1,figsize = (15,5))\n",
    "        plt.plot(preds[:,1],color = 'red', label = 'Qy pred')\n",
    "        plt.plot(targets[:,1],color = 'green', label = 'Qy targ')\n",
    "        \n",
    "        plt.figure(2,figsize = (15,5))\n",
    "        plt.plot(preds[:,2],color = 'red', label = 'Qz pred')\n",
    "        plt.plot(targets[:,2],color = 'green', label = 'Qz targ')\n",
    "        \n",
    "        plt.figure(3,figsize = (15,5))\n",
    "        plt.plot(preds[:,3],color = 'red', label = 'Qw pred')\n",
    "        plt.plot(targets[:,3],color = 'green', label = 'Qw targ')"
   ]
  },
  {
   "cell_type": "markdown",
   "metadata": {},
   "source": [
    "# Load data file"
   ]
  },
  {
   "cell_type": "code",
   "execution_count": 7,
   "metadata": {},
   "outputs": [],
   "source": [
    "df = pd.read_csv('Bazs\\\\PreprocessedData_v3.txt',\n",
    "                               sep='\\t',\n",
    "                               decimal=',')\n",
    "header = df.columns\n",
    "df_arr =np.array(df, dtype='float64')\n",
    "df =pd.DataFrame(df_arr, columns=header)"
   ]
  },
  {
   "cell_type": "code",
   "execution_count": 8,
   "metadata": {},
   "outputs": [
    {
     "data": {
      "text/html": [
       "<div>\n",
       "<style scoped>\n",
       "    .dataframe tbody tr th:only-of-type {\n",
       "        vertical-align: middle;\n",
       "    }\n",
       "\n",
       "    .dataframe tbody tr th {\n",
       "        vertical-align: top;\n",
       "    }\n",
       "\n",
       "    .dataframe thead th {\n",
       "        text-align: right;\n",
       "    }\n",
       "</style>\n",
       "<table border=\"1\" class=\"dataframe\">\n",
       "  <thead>\n",
       "    <tr style=\"text-align: right;\">\n",
       "      <th></th>\n",
       "      <th>delta_t</th>\n",
       "      <th>acc0</th>\n",
       "      <th>acc1</th>\n",
       "      <th>acc2</th>\n",
       "      <th>gyro0</th>\n",
       "      <th>gyro1</th>\n",
       "      <th>gyro2</th>\n",
       "      <th>mag0</th>\n",
       "      <th>mag1</th>\n",
       "      <th>mag2</th>\n",
       "      <th>...</th>\n",
       "      <th>y</th>\n",
       "      <th>z</th>\n",
       "      <th>beta</th>\n",
       "      <th>Qx</th>\n",
       "      <th>Qy</th>\n",
       "      <th>Qz</th>\n",
       "      <th>Qw</th>\n",
       "      <th>delta_x</th>\n",
       "      <th>delta_y</th>\n",
       "      <th>delta_z</th>\n",
       "    </tr>\n",
       "  </thead>\n",
       "  <tbody>\n",
       "    <tr>\n",
       "      <th>0</th>\n",
       "      <td>0.0000</td>\n",
       "      <td>-0.0029</td>\n",
       "      <td>0.0003</td>\n",
       "      <td>-0.0003</td>\n",
       "      <td>-0.0194</td>\n",
       "      <td>0.0124</td>\n",
       "      <td>-0.0022</td>\n",
       "      <td>-0.5292</td>\n",
       "      <td>-0.6538</td>\n",
       "      <td>-0.5275</td>\n",
       "      <td>...</td>\n",
       "      <td>0.221</td>\n",
       "      <td>0.402</td>\n",
       "      <td>-0.0129</td>\n",
       "      <td>0.005</td>\n",
       "      <td>0.02</td>\n",
       "      <td>0.000</td>\n",
       "      <td>1.0</td>\n",
       "      <td>0.0</td>\n",
       "      <td>0.0</td>\n",
       "      <td>0.0</td>\n",
       "    </tr>\n",
       "    <tr>\n",
       "      <th>1</th>\n",
       "      <td>0.0891</td>\n",
       "      <td>-0.0029</td>\n",
       "      <td>0.0013</td>\n",
       "      <td>0.0007</td>\n",
       "      <td>-0.0085</td>\n",
       "      <td>0.0023</td>\n",
       "      <td>0.0006</td>\n",
       "      <td>-0.5292</td>\n",
       "      <td>-0.6538</td>\n",
       "      <td>-0.4945</td>\n",
       "      <td>...</td>\n",
       "      <td>0.221</td>\n",
       "      <td>0.402</td>\n",
       "      <td>-0.0128</td>\n",
       "      <td>0.005</td>\n",
       "      <td>0.02</td>\n",
       "      <td>0.001</td>\n",
       "      <td>1.0</td>\n",
       "      <td>0.0</td>\n",
       "      <td>0.0</td>\n",
       "      <td>0.0</td>\n",
       "    </tr>\n",
       "  </tbody>\n",
       "</table>\n",
       "<p>2 rows × 21 columns</p>\n",
       "</div>"
      ],
      "text/plain": [
       "   delta_t    acc0    acc1    acc2   gyro0   gyro1   gyro2    mag0    mag1  \\\n",
       "0   0.0000 -0.0029  0.0003 -0.0003 -0.0194  0.0124 -0.0022 -0.5292 -0.6538   \n",
       "1   0.0891 -0.0029  0.0013  0.0007 -0.0085  0.0023  0.0006 -0.5292 -0.6538   \n",
       "\n",
       "     mag2   ...         y      z    beta     Qx    Qy     Qz   Qw  delta_x  \\\n",
       "0 -0.5275   ...     0.221  0.402 -0.0129  0.005  0.02  0.000  1.0      0.0   \n",
       "1 -0.4945   ...     0.221  0.402 -0.0128  0.005  0.02  0.001  1.0      0.0   \n",
       "\n",
       "   delta_y  delta_z  \n",
       "0      0.0      0.0  \n",
       "1      0.0      0.0  \n",
       "\n",
       "[2 rows x 21 columns]"
      ]
     },
     "execution_count": 8,
     "metadata": {},
     "output_type": "execute_result"
    }
   ],
   "source": [
    "df.head(2)"
   ]
  },
  {
   "cell_type": "markdown",
   "metadata": {},
   "source": [
    "# Set hyperparameters"
   ]
  },
  {
   "cell_type": "code",
   "execution_count": 9,
   "metadata": {},
   "outputs": [],
   "source": [
    "#1D convolution\n",
    "window_size = 20\n",
    "filter_length = 5\n",
    "nb_filter = 4\n",
    "\n",
    "#Train config\n",
    "epochs = 500\n",
    "batch_size = 16\n",
    "validation_split = 0.2"
   ]
  },
  {
   "cell_type": "markdown",
   "metadata": {},
   "source": [
    "# Train NN"
   ]
  },
  {
   "cell_type": "code",
   "execution_count": 10,
   "metadata": {
    "scrolled": true
   },
   "outputs": [
    {
     "name": "stdout",
     "output_type": "stream",
     "text": [
      "_________________________________________________________________\n",
      "Layer (type)                 Output Shape              Param #   \n",
      "=================================================================\n",
      "conv1d_1 (Conv1D)            (None, 16, 4)             264       \n",
      "_________________________________________________________________\n",
      "max_pooling1d_1 (MaxPooling1 (None, 8, 4)              0         \n",
      "_________________________________________________________________\n",
      "conv1d_2 (Conv1D)            (None, 4, 4)              84        \n",
      "_________________________________________________________________\n",
      "max_pooling1d_2 (MaxPooling1 (None, 2, 4)              0         \n",
      "_________________________________________________________________\n",
      "flatten_1 (Flatten)          (None, 8)                 0         \n",
      "_________________________________________________________________\n",
      "dense_1 (Dense)              (None, 3)                 27        \n",
      "=================================================================\n",
      "Total params: 375\n",
      "Trainable params: 375\n",
      "Non-trainable params: 0\n",
      "_________________________________________________________________\n",
      "Train on 3820 samples, validate on 1535 samples\n",
      "Epoch 1/500\n",
      " - 2s - loss: 0.1130 - mean_absolute_error: 0.2186 - val_loss: 0.0544 - val_mean_absolute_error: 0.1838\n",
      "\n",
      "Epoch 00001: val_loss improved from inf to 0.05442, saving model to CNN_weights_absxyz.hdf5\n",
      "Epoch 2/500\n",
      " - 1s - loss: 0.0118 - mean_absolute_error: 0.0747 - val_loss: 0.0237 - val_mean_absolute_error: 0.1097\n",
      "\n",
      "Epoch 00002: val_loss improved from 0.05442 to 0.02372, saving model to CNN_weights_absxyz.hdf5\n",
      "Epoch 3/500\n",
      " - 1s - loss: 0.0058 - mean_absolute_error: 0.0532 - val_loss: 0.0143 - val_mean_absolute_error: 0.0834\n",
      "\n",
      "Epoch 00003: val_loss improved from 0.02372 to 0.01430, saving model to CNN_weights_absxyz.hdf5\n",
      "Epoch 4/500\n",
      " - 1s - loss: 0.0035 - mean_absolute_error: 0.0423 - val_loss: 0.0093 - val_mean_absolute_error: 0.0675\n",
      "\n",
      "Epoch 00004: val_loss improved from 0.01430 to 0.00933, saving model to CNN_weights_absxyz.hdf5\n",
      "Epoch 5/500\n",
      " - 1s - loss: 0.0024 - mean_absolute_error: 0.0353 - val_loss: 0.0069 - val_mean_absolute_error: 0.0583\n",
      "\n",
      "Epoch 00005: val_loss improved from 0.00933 to 0.00687, saving model to CNN_weights_absxyz.hdf5\n",
      "Epoch 6/500\n",
      " - 1s - loss: 0.0018 - mean_absolute_error: 0.0308 - val_loss: 0.0058 - val_mean_absolute_error: 0.0525\n",
      "\n",
      "Epoch 00006: val_loss improved from 0.00687 to 0.00579, saving model to CNN_weights_absxyz.hdf5\n",
      "Epoch 7/500\n",
      " - 1s - loss: 0.0015 - mean_absolute_error: 0.0279 - val_loss: 0.0047 - val_mean_absolute_error: 0.0491\n",
      "\n",
      "Epoch 00007: val_loss improved from 0.00579 to 0.00474, saving model to CNN_weights_absxyz.hdf5\n",
      "Epoch 8/500\n",
      " - 1s - loss: 0.0013 - mean_absolute_error: 0.0258 - val_loss: 0.0039 - val_mean_absolute_error: 0.0430\n",
      "\n",
      "Epoch 00008: val_loss improved from 0.00474 to 0.00390, saving model to CNN_weights_absxyz.hdf5\n",
      "Epoch 9/500\n",
      " - 1s - loss: 0.0010 - mean_absolute_error: 0.0234 - val_loss: 0.0035 - val_mean_absolute_error: 0.0412\n",
      "\n",
      "Epoch 00009: val_loss improved from 0.00390 to 0.00346, saving model to CNN_weights_absxyz.hdf5\n",
      "Epoch 10/500\n",
      " - 1s - loss: 9.2506e-04 - mean_absolute_error: 0.0222 - val_loss: 0.0029 - val_mean_absolute_error: 0.0362\n",
      "\n",
      "Epoch 00010: val_loss improved from 0.00346 to 0.00291, saving model to CNN_weights_absxyz.hdf5\n",
      "Epoch 11/500\n",
      " - 1s - loss: 8.3219e-04 - mean_absolute_error: 0.0209 - val_loss: 0.0026 - val_mean_absolute_error: 0.0333\n",
      "\n",
      "Epoch 00011: val_loss improved from 0.00291 to 0.00257, saving model to CNN_weights_absxyz.hdf5\n",
      "Epoch 12/500\n",
      " - 1s - loss: 7.4353e-04 - mean_absolute_error: 0.0197 - val_loss: 0.0023 - val_mean_absolute_error: 0.0322\n",
      "\n",
      "Epoch 00012: val_loss improved from 0.00257 to 0.00231, saving model to CNN_weights_absxyz.hdf5\n",
      "Epoch 13/500\n",
      " - 1s - loss: 7.4660e-04 - mean_absolute_error: 0.0197 - val_loss: 0.0022 - val_mean_absolute_error: 0.0297\n",
      "\n",
      "Epoch 00013: val_loss improved from 0.00231 to 0.00217, saving model to CNN_weights_absxyz.hdf5\n",
      "Epoch 14/500\n",
      " - 1s - loss: 6.5821e-04 - mean_absolute_error: 0.0183 - val_loss: 0.0020 - val_mean_absolute_error: 0.0295\n",
      "\n",
      "Epoch 00014: val_loss improved from 0.00217 to 0.00204, saving model to CNN_weights_absxyz.hdf5\n",
      "Epoch 15/500\n",
      " - 1s - loss: 5.7459e-04 - mean_absolute_error: 0.0171 - val_loss: 0.0017 - val_mean_absolute_error: 0.0279\n",
      "\n",
      "Epoch 00015: val_loss improved from 0.00204 to 0.00171, saving model to CNN_weights_absxyz.hdf5\n",
      "Epoch 16/500\n",
      " - 1s - loss: 5.7154e-04 - mean_absolute_error: 0.0169 - val_loss: 0.0014 - val_mean_absolute_error: 0.0238\n",
      "\n",
      "Epoch 00016: val_loss improved from 0.00171 to 0.00138, saving model to CNN_weights_absxyz.hdf5\n",
      "Epoch 17/500\n",
      " - 1s - loss: 5.5442e-04 - mean_absolute_error: 0.0167 - val_loss: 0.0015 - val_mean_absolute_error: 0.0239\n",
      "\n",
      "Epoch 00017: val_loss did not improve from 0.00138\n",
      "Epoch 18/500\n",
      " - 1s - loss: 5.2263e-04 - mean_absolute_error: 0.0161 - val_loss: 0.0014 - val_mean_absolute_error: 0.0242\n",
      "\n",
      "Epoch 00018: val_loss did not improve from 0.00138\n",
      "Epoch 19/500\n",
      " - 1s - loss: 4.7617e-04 - mean_absolute_error: 0.0153 - val_loss: 0.0012 - val_mean_absolute_error: 0.0233\n",
      "\n",
      "Epoch 00019: val_loss improved from 0.00138 to 0.00117, saving model to CNN_weights_absxyz.hdf5\n",
      "Epoch 20/500\n",
      " - 1s - loss: 4.6696e-04 - mean_absolute_error: 0.0151 - val_loss: 0.0010 - val_mean_absolute_error: 0.0209\n",
      "\n",
      "Epoch 00020: val_loss improved from 0.00117 to 0.00104, saving model to CNN_weights_absxyz.hdf5\n",
      "Epoch 21/500\n",
      " - 1s - loss: 4.5384e-04 - mean_absolute_error: 0.0147 - val_loss: 0.0010 - val_mean_absolute_error: 0.0216\n",
      "\n",
      "Epoch 00021: val_loss improved from 0.00104 to 0.00103, saving model to CNN_weights_absxyz.hdf5\n",
      "Epoch 22/500\n",
      " - 1s - loss: 4.4188e-04 - mean_absolute_error: 0.0145 - val_loss: 0.0017 - val_mean_absolute_error: 0.0296\n",
      "\n",
      "Epoch 00022: val_loss did not improve from 0.00103\n",
      "Epoch 23/500\n",
      " - 1s - loss: 3.9853e-04 - mean_absolute_error: 0.0138 - val_loss: 0.0012 - val_mean_absolute_error: 0.0232\n",
      "\n",
      "Epoch 00023: val_loss did not improve from 0.00103\n",
      "Epoch 24/500\n",
      " - 1s - loss: 4.0054e-04 - mean_absolute_error: 0.0139 - val_loss: 0.0011 - val_mean_absolute_error: 0.0230\n",
      "\n",
      "Epoch 00024: val_loss did not improve from 0.00103\n",
      "Epoch 25/500\n",
      " - 1s - loss: 4.0569e-04 - mean_absolute_error: 0.0140 - val_loss: 8.1492e-04 - val_mean_absolute_error: 0.0190\n",
      "\n",
      "Epoch 00025: val_loss improved from 0.00103 to 0.00081, saving model to CNN_weights_absxyz.hdf5\n",
      "Epoch 26/500\n",
      " - 1s - loss: 4.1441e-04 - mean_absolute_error: 0.0139 - val_loss: 7.2151e-04 - val_mean_absolute_error: 0.0186\n",
      "\n",
      "Epoch 00026: val_loss improved from 0.00081 to 0.00072, saving model to CNN_weights_absxyz.hdf5\n",
      "Epoch 27/500\n",
      " - 1s - loss: 3.8092e-04 - mean_absolute_error: 0.0134 - val_loss: 8.9979e-04 - val_mean_absolute_error: 0.0195\n",
      "\n",
      "Epoch 00027: val_loss did not improve from 0.00072\n",
      "Epoch 28/500\n",
      " - 1s - loss: 3.5134e-04 - mean_absolute_error: 0.0129 - val_loss: 9.7113e-04 - val_mean_absolute_error: 0.0217\n",
      "\n",
      "Epoch 00028: val_loss did not improve from 0.00072\n",
      "Epoch 29/500\n",
      " - 1s - loss: 3.5584e-04 - mean_absolute_error: 0.0129 - val_loss: 9.5133e-04 - val_mean_absolute_error: 0.0205\n",
      "\n",
      "Epoch 00029: val_loss did not improve from 0.00072\n",
      "Epoch 30/500\n",
      " - 1s - loss: 3.5281e-04 - mean_absolute_error: 0.0128 - val_loss: 7.9864e-04 - val_mean_absolute_error: 0.0183\n",
      "\n",
      "Epoch 00030: val_loss did not improve from 0.00072\n",
      "Epoch 31/500\n",
      " - 1s - loss: 3.2762e-04 - mean_absolute_error: 0.0123 - val_loss: 7.1412e-04 - val_mean_absolute_error: 0.0180\n",
      "\n",
      "Epoch 00031: val_loss improved from 0.00072 to 0.00071, saving model to CNN_weights_absxyz.hdf5\n",
      "Epoch 32/500\n",
      " - 1s - loss: 3.2921e-04 - mean_absolute_error: 0.0124 - val_loss: 6.9589e-04 - val_mean_absolute_error: 0.0172\n",
      "\n",
      "Epoch 00032: val_loss improved from 0.00071 to 0.00070, saving model to CNN_weights_absxyz.hdf5\n",
      "Epoch 33/500\n",
      " - 1s - loss: 3.1758e-04 - mean_absolute_error: 0.0121 - val_loss: 7.6750e-04 - val_mean_absolute_error: 0.0189\n",
      "\n",
      "Epoch 00033: val_loss did not improve from 0.00070\n",
      "Epoch 34/500\n",
      " - 1s - loss: 2.9900e-04 - mean_absolute_error: 0.0116 - val_loss: 7.7523e-04 - val_mean_absolute_error: 0.0194\n",
      "\n",
      "Epoch 00034: val_loss did not improve from 0.00070\n",
      "Epoch 35/500\n",
      " - 1s - loss: 3.1732e-04 - mean_absolute_error: 0.0120 - val_loss: 4.4885e-04 - val_mean_absolute_error: 0.0143\n"
     ]
    },
    {
     "name": "stdout",
     "output_type": "stream",
     "text": [
      "\n",
      "Epoch 00035: val_loss improved from 0.00070 to 0.00045, saving model to CNN_weights_absxyz.hdf5\n",
      "Epoch 36/500\n",
      " - 1s - loss: 2.6714e-04 - mean_absolute_error: 0.0109 - val_loss: 4.6543e-04 - val_mean_absolute_error: 0.0145\n",
      "\n",
      "Epoch 00036: val_loss did not improve from 0.00045\n",
      "Epoch 37/500\n",
      " - 1s - loss: 3.0055e-04 - mean_absolute_error: 0.0118 - val_loss: 8.0706e-04 - val_mean_absolute_error: 0.0200\n",
      "\n",
      "Epoch 00037: val_loss did not improve from 0.00045\n",
      "Epoch 38/500\n",
      " - 1s - loss: 2.8013e-04 - mean_absolute_error: 0.0112 - val_loss: 5.5470e-04 - val_mean_absolute_error: 0.0162\n",
      "\n",
      "Epoch 00038: val_loss did not improve from 0.00045\n",
      "Epoch 39/500\n",
      " - 1s - loss: 2.8346e-04 - mean_absolute_error: 0.0114 - val_loss: 5.0042e-04 - val_mean_absolute_error: 0.0155\n",
      "\n",
      "Epoch 00039: val_loss did not improve from 0.00045\n",
      "Epoch 40/500\n",
      " - 1s - loss: 2.4805e-04 - mean_absolute_error: 0.0106 - val_loss: 6.8739e-04 - val_mean_absolute_error: 0.0186\n",
      "\n",
      "Epoch 00040: val_loss did not improve from 0.00045\n",
      "Epoch 41/500\n",
      " - 1s - loss: 2.5830e-04 - mean_absolute_error: 0.0109 - val_loss: 4.2926e-04 - val_mean_absolute_error: 0.0144\n",
      "\n",
      "Epoch 00041: val_loss improved from 0.00045 to 0.00043, saving model to CNN_weights_absxyz.hdf5\n",
      "Epoch 42/500\n",
      " - 1s - loss: 2.6492e-04 - mean_absolute_error: 0.0109 - val_loss: 7.1012e-04 - val_mean_absolute_error: 0.0190\n",
      "\n",
      "Epoch 00042: val_loss did not improve from 0.00043\n",
      "Epoch 43/500\n",
      " - 1s - loss: 2.4675e-04 - mean_absolute_error: 0.0106 - val_loss: 5.9375e-04 - val_mean_absolute_error: 0.0171\n",
      "\n",
      "Epoch 00043: val_loss did not improve from 0.00043\n",
      "Epoch 44/500\n",
      " - 1s - loss: 2.4556e-04 - mean_absolute_error: 0.0105 - val_loss: 4.4470e-04 - val_mean_absolute_error: 0.0146\n",
      "\n",
      "Epoch 00044: val_loss did not improve from 0.00043\n",
      "Epoch 45/500\n",
      " - 1s - loss: 2.4419e-04 - mean_absolute_error: 0.0105 - val_loss: 4.6759e-04 - val_mean_absolute_error: 0.0156\n",
      "\n",
      "Epoch 00045: val_loss did not improve from 0.00043\n",
      "Epoch 46/500\n",
      " - 1s - loss: 2.3052e-04 - mean_absolute_error: 0.0101 - val_loss: 4.5126e-04 - val_mean_absolute_error: 0.0151\n",
      "\n",
      "Epoch 00046: val_loss did not improve from 0.00043\n",
      "Epoch 47/500\n",
      " - 1s - loss: 2.1938e-04 - mean_absolute_error: 0.0099 - val_loss: 5.6714e-04 - val_mean_absolute_error: 0.0167\n",
      "\n",
      "Epoch 00047: val_loss did not improve from 0.00043\n",
      "Epoch 48/500\n",
      " - 1s - loss: 2.2945e-04 - mean_absolute_error: 0.0101 - val_loss: 6.1838e-04 - val_mean_absolute_error: 0.0177\n",
      "\n",
      "Epoch 00048: val_loss did not improve from 0.00043\n",
      "Epoch 49/500\n",
      " - 1s - loss: 2.1439e-04 - mean_absolute_error: 0.0098 - val_loss: 4.1645e-04 - val_mean_absolute_error: 0.0144\n",
      "\n",
      "Epoch 00049: val_loss improved from 0.00043 to 0.00042, saving model to CNN_weights_absxyz.hdf5\n",
      "Epoch 50/500\n",
      " - 1s - loss: 2.4053e-04 - mean_absolute_error: 0.0103 - val_loss: 5.2232e-04 - val_mean_absolute_error: 0.0163\n",
      "\n",
      "Epoch 00050: val_loss did not improve from 0.00042\n",
      "Epoch 51/500\n",
      " - 1s - loss: 2.1426e-04 - mean_absolute_error: 0.0098 - val_loss: 5.0001e-04 - val_mean_absolute_error: 0.0157\n",
      "\n",
      "Epoch 00051: val_loss did not improve from 0.00042\n",
      "Epoch 52/500\n",
      " - 1s - loss: 2.0443e-04 - mean_absolute_error: 0.0096 - val_loss: 4.2016e-04 - val_mean_absolute_error: 0.0144\n",
      "\n",
      "Epoch 00052: val_loss did not improve from 0.00042\n",
      "Epoch 53/500\n",
      " - 1s - loss: 2.0140e-04 - mean_absolute_error: 0.0095 - val_loss: 4.7088e-04 - val_mean_absolute_error: 0.0152\n",
      "\n",
      "Epoch 00053: val_loss did not improve from 0.00042\n",
      "Epoch 54/500\n",
      " - 1s - loss: 2.0144e-04 - mean_absolute_error: 0.0095 - val_loss: 2.9297e-04 - val_mean_absolute_error: 0.0122\n",
      "\n",
      "Epoch 00054: val_loss improved from 0.00042 to 0.00029, saving model to CNN_weights_absxyz.hdf5\n",
      "Epoch 55/500\n",
      " - 1s - loss: 1.9284e-04 - mean_absolute_error: 0.0092 - val_loss: 4.1793e-04 - val_mean_absolute_error: 0.0143\n",
      "\n",
      "Epoch 00055: val_loss did not improve from 0.00029\n",
      "Epoch 56/500\n",
      " - 1s - loss: 1.9851e-04 - mean_absolute_error: 0.0093 - val_loss: 3.8629e-04 - val_mean_absolute_error: 0.0138\n",
      "\n",
      "Epoch 00056: val_loss did not improve from 0.00029\n",
      "Epoch 57/500\n",
      " - 1s - loss: 1.8070e-04 - mean_absolute_error: 0.0090 - val_loss: 5.5149e-04 - val_mean_absolute_error: 0.0166\n",
      "\n",
      "Epoch 00057: val_loss did not improve from 0.00029\n",
      "Epoch 58/500\n",
      " - 1s - loss: 1.8518e-04 - mean_absolute_error: 0.0091 - val_loss: 4.3028e-04 - val_mean_absolute_error: 0.0145\n",
      "\n",
      "Epoch 00058: val_loss did not improve from 0.00029\n",
      "Epoch 59/500\n",
      " - 1s - loss: 1.7725e-04 - mean_absolute_error: 0.0089 - val_loss: 6.4572e-04 - val_mean_absolute_error: 0.0184\n",
      "\n",
      "Epoch 00059: val_loss did not improve from 0.00029\n",
      "Epoch 60/500\n",
      " - 1s - loss: 1.8114e-04 - mean_absolute_error: 0.0090 - val_loss: 4.7331e-04 - val_mean_absolute_error: 0.0153\n",
      "\n",
      "Epoch 00060: val_loss did not improve from 0.00029\n",
      "Epoch 61/500\n",
      " - 1s - loss: 1.6255e-04 - mean_absolute_error: 0.0085 - val_loss: 4.9727e-04 - val_mean_absolute_error: 0.0158\n",
      "\n",
      "Epoch 00061: val_loss did not improve from 0.00029\n",
      "Epoch 62/500\n",
      " - 1s - loss: 1.6626e-04 - mean_absolute_error: 0.0086 - val_loss: 2.6867e-04 - val_mean_absolute_error: 0.0117\n",
      "\n",
      "Epoch 00062: val_loss improved from 0.00029 to 0.00027, saving model to CNN_weights_absxyz.hdf5\n",
      "Epoch 63/500\n",
      " - 1s - loss: 1.7036e-04 - mean_absolute_error: 0.0088 - val_loss: 6.3159e-04 - val_mean_absolute_error: 0.0181\n",
      "\n",
      "Epoch 00063: val_loss did not improve from 0.00027\n",
      "Epoch 64/500\n",
      " - 1s - loss: 1.8859e-04 - mean_absolute_error: 0.0092 - val_loss: 5.3404e-04 - val_mean_absolute_error: 0.0161\n",
      "\n",
      "Epoch 00064: val_loss did not improve from 0.00027\n",
      "Epoch 65/500\n",
      " - 1s - loss: 1.7608e-04 - mean_absolute_error: 0.0089 - val_loss: 4.3055e-04 - val_mean_absolute_error: 0.0147\n",
      "\n",
      "Epoch 00065: val_loss did not improve from 0.00027\n",
      "Epoch 66/500\n",
      " - 1s - loss: 1.6650e-04 - mean_absolute_error: 0.0086 - val_loss: 4.1532e-04 - val_mean_absolute_error: 0.0143\n",
      "\n",
      "Epoch 00066: val_loss did not improve from 0.00027\n",
      "Epoch 67/500\n",
      " - 1s - loss: 1.6903e-04 - mean_absolute_error: 0.0087 - val_loss: 4.7820e-04 - val_mean_absolute_error: 0.0156\n",
      "\n",
      "Epoch 00067: val_loss did not improve from 0.00027\n",
      "Epoch 68/500\n",
      " - 1s - loss: 1.6293e-04 - mean_absolute_error: 0.0084 - val_loss: 6.7838e-04 - val_mean_absolute_error: 0.0187\n",
      "\n",
      "Epoch 00068: val_loss did not improve from 0.00027\n",
      "Epoch 69/500\n",
      " - 1s - loss: 1.5154e-04 - mean_absolute_error: 0.0082 - val_loss: 6.0531e-04 - val_mean_absolute_error: 0.0179\n",
      "\n",
      "Epoch 00069: val_loss did not improve from 0.00027\n",
      "Epoch 70/500\n",
      " - 1s - loss: 1.7367e-04 - mean_absolute_error: 0.0088 - val_loss: 3.9387e-04 - val_mean_absolute_error: 0.0140\n",
      "\n",
      "Epoch 00070: val_loss did not improve from 0.00027\n",
      "Epoch 71/500\n",
      " - 1s - loss: 1.7281e-04 - mean_absolute_error: 0.0088 - val_loss: 5.5684e-04 - val_mean_absolute_error: 0.0169\n",
      "\n",
      "Epoch 00071: val_loss did not improve from 0.00027\n",
      "Epoch 72/500\n",
      " - 1s - loss: 1.3767e-04 - mean_absolute_error: 0.0078 - val_loss: 7.1967e-04 - val_mean_absolute_error: 0.0195\n",
      "\n",
      "Epoch 00072: val_loss did not improve from 0.00027\n",
      "Epoch 73/500\n",
      " - 1s - loss: 1.3220e-04 - mean_absolute_error: 0.0077 - val_loss: 4.6113e-04 - val_mean_absolute_error: 0.0153\n",
      "\n",
      "Epoch 00073: val_loss did not improve from 0.00027\n",
      "Epoch 74/500\n",
      " - 1s - loss: 1.5541e-04 - mean_absolute_error: 0.0083 - val_loss: 4.4878e-04 - val_mean_absolute_error: 0.0148\n",
      "\n",
      "Epoch 00074: val_loss did not improve from 0.00027\n",
      "Epoch 75/500\n",
      " - 1s - loss: 1.4124e-04 - mean_absolute_error: 0.0079 - val_loss: 5.9598e-04 - val_mean_absolute_error: 0.0172\n",
      "\n",
      "Epoch 00075: val_loss did not improve from 0.00027\n",
      "Epoch 76/500\n",
      " - 1s - loss: 1.3407e-04 - mean_absolute_error: 0.0076 - val_loss: 5.2411e-04 - val_mean_absolute_error: 0.0161\n",
      "\n",
      "Epoch 00076: val_loss did not improve from 0.00027\n",
      "Epoch 77/500\n",
      " - 1s - loss: 1.3884e-04 - mean_absolute_error: 0.0078 - val_loss: 5.5924e-04 - val_mean_absolute_error: 0.0165\n",
      "\n",
      "Epoch 00077: val_loss did not improve from 0.00027\n",
      "Epoch 78/500\n",
      " - 1s - loss: 1.5990e-04 - mean_absolute_error: 0.0085 - val_loss: 5.7220e-04 - val_mean_absolute_error: 0.0169\n",
      "\n",
      "Epoch 00078: val_loss did not improve from 0.00027\n",
      "Epoch 79/500\n",
      " - 1s - loss: 1.3457e-04 - mean_absolute_error: 0.0078 - val_loss: 4.7630e-04 - val_mean_absolute_error: 0.0153\n",
      "\n",
      "Epoch 00079: val_loss did not improve from 0.00027\n",
      "Epoch 80/500\n",
      " - 1s - loss: 1.2904e-04 - mean_absolute_error: 0.0076 - val_loss: 3.4179e-04 - val_mean_absolute_error: 0.0129\n",
      "\n",
      "Epoch 00080: val_loss did not improve from 0.00027\n",
      "Epoch 81/500\n"
     ]
    },
    {
     "name": "stdout",
     "output_type": "stream",
     "text": [
      " - 1s - loss: 1.2348e-04 - mean_absolute_error: 0.0074 - val_loss: 5.2560e-04 - val_mean_absolute_error: 0.0160\n",
      "\n",
      "Epoch 00081: val_loss did not improve from 0.00027\n",
      "Epoch 82/500\n",
      " - 1s - loss: 1.2385e-04 - mean_absolute_error: 0.0075 - val_loss: 5.2073e-04 - val_mean_absolute_error: 0.0161\n",
      "\n",
      "Epoch 00082: val_loss did not improve from 0.00027\n",
      "Epoch 83/500\n",
      " - 1s - loss: 1.2228e-04 - mean_absolute_error: 0.0074 - val_loss: 3.7153e-04 - val_mean_absolute_error: 0.0136\n",
      "\n",
      "Epoch 00083: val_loss did not improve from 0.00027\n",
      "Epoch 84/500\n",
      " - 1s - loss: 1.2833e-04 - mean_absolute_error: 0.0075 - val_loss: 4.0147e-04 - val_mean_absolute_error: 0.0140\n",
      "\n",
      "Epoch 00084: val_loss did not improve from 0.00027\n",
      "Epoch 85/500\n",
      " - 1s - loss: 1.2875e-04 - mean_absolute_error: 0.0076 - val_loss: 3.1390e-04 - val_mean_absolute_error: 0.0123\n",
      "\n",
      "Epoch 00085: val_loss did not improve from 0.00027\n",
      "Epoch 86/500\n",
      " - 1s - loss: 1.4155e-04 - mean_absolute_error: 0.0080 - val_loss: 6.5764e-04 - val_mean_absolute_error: 0.0179\n",
      "\n",
      "Epoch 00086: val_loss did not improve from 0.00027\n",
      "Epoch 87/500\n",
      " - 1s - loss: 1.2786e-04 - mean_absolute_error: 0.0076 - val_loss: 4.3488e-04 - val_mean_absolute_error: 0.0144\n",
      "\n",
      "Epoch 00087: val_loss did not improve from 0.00027\n",
      "Epoch 88/500\n",
      " - 1s - loss: 1.1418e-04 - mean_absolute_error: 0.0071 - val_loss: 4.8721e-04 - val_mean_absolute_error: 0.0152\n",
      "\n",
      "Epoch 00088: val_loss did not improve from 0.00027\n",
      "Epoch 89/500\n",
      " - 1s - loss: 1.3753e-04 - mean_absolute_error: 0.0078 - val_loss: 5.7226e-04 - val_mean_absolute_error: 0.0168\n",
      "\n",
      "Epoch 00089: val_loss did not improve from 0.00027\n",
      "Epoch 90/500\n",
      " - 1s - loss: 1.0871e-04 - mean_absolute_error: 0.0070 - val_loss: 4.2981e-04 - val_mean_absolute_error: 0.0142\n",
      "\n",
      "Epoch 00090: val_loss did not improve from 0.00027\n",
      "Epoch 91/500\n",
      " - 1s - loss: 1.1314e-04 - mean_absolute_error: 0.0071 - val_loss: 3.4455e-04 - val_mean_absolute_error: 0.0128\n",
      "\n",
      "Epoch 00091: val_loss did not improve from 0.00027\n",
      "Epoch 92/500\n",
      " - 1s - loss: 1.1819e-04 - mean_absolute_error: 0.0073 - val_loss: 4.8321e-04 - val_mean_absolute_error: 0.0151\n",
      "\n",
      "Epoch 00092: val_loss did not improve from 0.00027\n",
      "Epoch 93/500\n",
      " - 1s - loss: 1.1522e-04 - mean_absolute_error: 0.0071 - val_loss: 4.7663e-04 - val_mean_absolute_error: 0.0152\n",
      "\n",
      "Epoch 00093: val_loss did not improve from 0.00027\n",
      "Epoch 94/500\n",
      " - 1s - loss: 1.3962e-04 - mean_absolute_error: 0.0079 - val_loss: 8.6299e-04 - val_mean_absolute_error: 0.0212\n",
      "\n",
      "Epoch 00094: val_loss did not improve from 0.00027\n",
      "Epoch 95/500\n",
      " - 1s - loss: 1.2365e-04 - mean_absolute_error: 0.0074 - val_loss: 5.8744e-04 - val_mean_absolute_error: 0.0168\n",
      "\n",
      "Epoch 00095: val_loss did not improve from 0.00027\n",
      "Epoch 96/500\n",
      " - 1s - loss: 1.1659e-04 - mean_absolute_error: 0.0072 - val_loss: 4.9605e-04 - val_mean_absolute_error: 0.0158\n",
      "\n",
      "Epoch 00096: val_loss did not improve from 0.00027\n",
      "Epoch 97/500\n",
      " - 1s - loss: 1.0998e-04 - mean_absolute_error: 0.0070 - val_loss: 5.1529e-04 - val_mean_absolute_error: 0.0157\n",
      "\n",
      "Epoch 00097: val_loss did not improve from 0.00027\n",
      "Epoch 98/500\n",
      " - 1s - loss: 1.1395e-04 - mean_absolute_error: 0.0071 - val_loss: 7.1551e-04 - val_mean_absolute_error: 0.0195\n",
      "\n",
      "Epoch 00098: val_loss did not improve from 0.00027\n",
      "Epoch 99/500\n",
      " - 1s - loss: 1.1154e-04 - mean_absolute_error: 0.0070 - val_loss: 6.9216e-04 - val_mean_absolute_error: 0.0189\n",
      "\n",
      "Epoch 00099: val_loss did not improve from 0.00027\n",
      "Epoch 100/500\n",
      " - 1s - loss: 1.2051e-04 - mean_absolute_error: 0.0073 - val_loss: 5.2022e-04 - val_mean_absolute_error: 0.0158\n",
      "\n",
      "Epoch 00100: val_loss did not improve from 0.00027\n",
      "Epoch 101/500\n",
      " - 1s - loss: 1.0621e-04 - mean_absolute_error: 0.0068 - val_loss: 4.0339e-04 - val_mean_absolute_error: 0.0141\n",
      "\n",
      "Epoch 00101: val_loss did not improve from 0.00027\n",
      "Epoch 102/500\n",
      " - 1s - loss: 1.2025e-04 - mean_absolute_error: 0.0073 - val_loss: 4.2011e-04 - val_mean_absolute_error: 0.0141\n",
      "\n",
      "Epoch 00102: val_loss did not improve from 0.00027\n",
      "Epoch 00102: early stopping\n"
     ]
    },
    {
     "data": {
      "image/png": "[encoded data removed]",
      "text/plain": [
       "<Figure size 432x288 with 1 Axes>"
      ]
     },
     "metadata": {
      "needs_background": "light"
     },
     "output_type": "display_data"
    },
    {
     "data": {
      "image/png": "[encoded data removed]",
      "text/plain": [
       "<Figure size 432x288 with 1 Axes>"
      ]
     },
     "metadata": {
      "needs_background": "light"
     },
     "output_type": "display_data"
    },
    {
     "data": {
      "image/png": "[encoded data removed]",
      "text/plain": [
       "<Figure size 432x288 with 1 Axes>"
      ]
     },
     "metadata": {
      "needs_background": "light"
     },
     "output_type": "display_data"
    }
   ],
   "source": [
    "#use 'xyz' or 'rot' to choose output\n",
    "evalute_timeseries(training_mode,df,window_size,filter_length,nb_filter, epochs, batch_size)"
   ]
  },
  {
   "cell_type": "markdown",
   "metadata": {},
   "source": [
    "# Draw prediction with the model (previous pos or rot is the reference data)"
   ]
  },
  {
   "cell_type": "code",
   "execution_count": 11,
   "metadata": {},
   "outputs": [
    {
     "data": {
      "image/png": "[encoded data removed]",
      "text/plain": [
       "<Figure size 432x288 with 1 Axes>"
      ]
     },
     "metadata": {
      "needs_background": "light"
     },
     "output_type": "display_data"
    }
   ],
   "source": [
    "# Predict with reference dataset\n",
    "if training_mode == 'xyz':\n",
    "    X,y = make_timeseries_instances(training_mode,df, window_size,nb_inputs=13)\n",
    "if  training_mode == 'rot':\n",
    "    X,y = make_timeseries_instances(training_mode,df, window_size,nb_inputs=14)\n",
    "model = load_model(\"CNN_weights_abs\"+training_mode+\".hdf5\")\n",
    "y_pred = model.predict(X)\n",
    "\n",
    "if training_mode == 'xyz':\n",
    "    plt.figure(0)\n",
    "    plt.plot(y_pred[:,0],y_pred[:,2], label='xz pred')\n",
    "    plt.plot(y[:,0],y[:,2], label='xz targ')\n",
    "    \n",
    "if  training_mode == 'rot':\n",
    "    plt.figure(0,figsize = (15,5))\n",
    "    plt.plot(y_pred[:,0],color = 'red', label = 'Qx pred')\n",
    "    plt.plot(y[:,0],color = 'green', label = 'Qx targ')\n",
    "        \n",
    "    plt.figure(1,figsize = (15,5))\n",
    "    plt.plot(y_pred[:,1],color = 'red', label = 'Qy pred')\n",
    "    plt.plot(y[:,1],color = 'green', label = 'Qy targ')\n",
    "        \n",
    "    plt.figure(2,figsize = (15,5))\n",
    "    plt.plot(y_pred[:,2],color = 'red', label = 'Qz pred')\n",
    "    plt.plot(y[:,2],color = 'green', label = 'Qz targ')\n",
    "        \n",
    "    plt.figure(3,figsize = (15,5))\n",
    "    plt.plot(y_pred[:,3],color = 'red', label = 'Qw pred')\n",
    "    plt.plot(y[:,3],color = 'green', label = 'Qw targ')"
   ]
  },
  {
   "cell_type": "markdown",
   "metadata": {},
   "source": [
    "# Draw prediction with the model (previous pos or rot is predicted)"
   ]
  },
  {
   "cell_type": "code",
   "execution_count": 12,
   "metadata": {},
   "outputs": [
    {
     "name": "stdout",
     "output_type": "stream",
     "text": [
      "(7658, 20, 13)\n",
      "(7658, 3)\n"
     ]
    },
    {
     "data": {
      "image/png": "[encoded data removed]",
      "text/plain": [
       "<Figure size 432x288 with 1 Axes>"
      ]
     },
     "metadata": {
      "needs_background": "light"
     },
     "output_type": "display_data"
    }
   ],
   "source": [
    "# Predict with calculated data\n",
    "newX=X\n",
    "newy_pred=np.empty(y.shape)\n",
    "print(newX.shape)\n",
    "print(y.shape)\n",
    "\n",
    "if  training_mode == 'xyz':\n",
    "    for index in range(y.shape[0]-1):\n",
    "        if index > 0:\n",
    "            temp=newX[index,-1]\n",
    "            newX[index]=np.roll(newX[index-1],-1, axis=0)\n",
    "            newX[index,-1]=temp\n",
    "            for coord in range(3):  \n",
    "                newX[index,-1,coord+10]=newy_pred[index-1,coord]\n",
    "        tmp=np.empty((1,20,13))\n",
    "        tmp[0]=newX[index]\n",
    "        newy_pred[index]=model.predict(tmp)\n",
    "    \n",
    "    plt.figure(0)\n",
    "    plt.plot(newy_pred[:,0],newy_pred[:,2], label='xz pred')\n",
    "    plt.plot(y[:,0],y[:,2], label='xz targ')\n",
    "\n",
    "if  training_mode == 'rot':\n",
    "    for index in range(y.shape[0]-1):\n",
    "        if index > 0:\n",
    "            temp=newX[index,-1]\n",
    "            newX[index]=np.roll(newX[index-1],-1, axis=0)\n",
    "            newX[index,-1]=temp\n",
    "            for coord in range(4):  \n",
    "                newX[index,-1,coord+10]=newy_pred[index-1,coord]\n",
    "        tmp=np.empty((1,20,14))\n",
    "        tmp[0]=newX[index]\n",
    "        newy_pred[index]=model.predict(tmp)\n",
    "    \n",
    "    plt.figure(0,figsize = (15,5))\n",
    "    plt.plot(newy_pred[:,0],color = 'red', label = 'Qx pred')\n",
    "    plt.plot(y[:,0],color = 'green', label = 'Qx targ')\n",
    "        \n",
    "    plt.figure(1,figsize = (15,5))\n",
    "    plt.plot(newy_pred[:,1],color = 'red', label = 'Qy pred')\n",
    "    plt.plot(y[:,1],color = 'green', label = 'Qy targ')\n",
    "        \n",
    "    plt.figure(2,figsize = (15,5))\n",
    "    plt.plot(newy_pred[:,2],color = 'red', label = 'Qz pred')\n",
    "    plt.plot(y[:,2],color = 'green', label = 'Qz targ')\n",
    "        \n",
    "    plt.figure(3,figsize = (15,5))\n",
    "    plt.plot(newy_pred[:,3],color = 'red', label = 'Qw pred')\n",
    "    plt.plot(y[:,3],color = 'green', label = 'Qw targ')"
   ]
  },
  {
   "cell_type": "code",
   "execution_count": 13,
   "metadata": {},
   "outputs": [
    {
     "data": {
      "text/plain": [
       "(7658, 20, 13)"
      ]
     },
     "execution_count": 13,
     "metadata": {},
     "output_type": "execute_result"
    }
   ],
   "source": [
    "X.shape"
   ]
  },
  {
   "cell_type": "code",
   "execution_count": 14,
   "metadata": {},
   "outputs": [
    {
     "data": {
      "text/plain": [
       "(7658, 3)"
      ]
     },
     "execution_count": 14,
     "metadata": {},
     "output_type": "execute_result"
    }
   ],
   "source": [
    "y.shape"
   ]
  },
  {
   "cell_type": "code",
   "execution_count": 15,
   "metadata": {},
   "outputs": [
    {
     "data": {
      "text/plain": [
       "(7658, 3)"
      ]
     },
     "execution_count": 15,
     "metadata": {},
     "output_type": "execute_result"
    }
   ],
   "source": [
    "newy_pred.shape"
   ]
  },
  {
   "cell_type": "code",
   "execution_count": 24,
   "metadata": {},
   "outputs": [
    {
     "data": {
      "text/plain": [
       "[<matplotlib.lines.Line2D at 0x19b47fefc18>]"
      ]
     },
     "execution_count": 24,
     "metadata": {},
     "output_type": "execute_result"
    },
    {
     "data": {
      "image/png": "[encoded data removed]",
      "text/plain": [
       "<Figure size 432x288 with 1 Axes>"
      ]
     },
     "metadata": {
      "needs_background": "light"
     },
     "output_type": "display_data"
    }
   ],
   "source": [
    "plt.plot(newy_pred[:,0],newy_pred[:,2], label='xz pred')\n",
    "plt.plot(y[:,0],y[:,2], label='xz targ')"
   ]
  },
  {
   "cell_type": "code",
   "execution_count": null,
   "metadata": {},
   "outputs": [],
   "source": []
  }
 ],
 "metadata": {
  "kernelspec": {
   "display_name": "Python 3",
   "language": "python",
   "name": "python3"
  },
  "language_info": {
   "codemirror_mode": {
    "name": "ipython",
    "version": 3
   },
   "file_extension": ".py",
   "mimetype": "text/x-python",
   "name": "python",
   "nbconvert_exporter": "python",
   "pygments_lexer": "ipython3",
   "version": "3.5.6"
  }
 },
 "nbformat": 4,
 "nbformat_minor": 2
}
